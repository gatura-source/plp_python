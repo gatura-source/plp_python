{
  "cells": [
    {
      "cell_type": "markdown",
      "id": "86494372-6ea2-4b7d-a0d8-da01c886132e",
      "metadata": {
        "id": "86494372-6ea2-4b7d-a0d8-da01c886132e"
      },
      "source": [
        "#MACHINE LEARNING COURSEWORK"
      ]
    },
    {
      "cell_type": "code",
      "execution_count": null,
      "id": "_mzqIPRL3jCd",
      "metadata": {
        "colab": {
          "base_uri": "https://localhost:8080/"
        },
        "id": "_mzqIPRL3jCd",
        "outputId": "cdcf8c27-2aa9-4a4a-e737-ea8d243176f9"
      },
      "outputs": [
        {
          "output_type": "stream",
          "name": "stdout",
          "text": [
            "Drive already mounted at /content/drive; to attempt to forcibly remount, call drive.mount(\"/content/drive\", force_remount=True).\n"
          ]
        }
      ],
      "source": [
        "from google.colab import drive\n",
        "drive.mount('/content/drive')"
      ]
    },
    {
      "cell_type": "code",
      "execution_count": null,
      "id": "23019aee-c37a-4826-9589-1d97cbb85d26",
      "metadata": {
        "id": "23019aee-c37a-4826-9589-1d97cbb85d26"
      },
      "outputs": [],
      "source": [
        "# Exploratory Data Analysis Libraries\n",
        "import pandas as pd\n",
        "import numpy as np\n",
        "import math"
      ]
    },
    {
      "cell_type": "code",
      "execution_count": null,
      "id": "9484eba9-d932-4514-9ecf-6530b7422c56",
      "metadata": {
        "id": "9484eba9-d932-4514-9ecf-6530b7422c56"
      },
      "outputs": [],
      "source": [
        "# Data Visualisation libraries\n",
        "from matplotlib import pyplot as plt\n",
        "import seaborn as sns\n",
        "%matplotlib inline\n",
        "from sklearn.metrics import mean_absolute_percentage_error"
      ]
    },
    {
      "cell_type": "code",
      "execution_count": null,
      "id": "04f00dab-3dc3-4613-863e-76d83ae861db",
      "metadata": {
        "colab": {
          "base_uri": "https://localhost:8080/",
          "height": 17
        },
        "id": "04f00dab-3dc3-4613-863e-76d83ae861db",
        "outputId": "0a082080-0e82-45d2-c8b5-cafa7943ad1b"
      },
      "outputs": [
        {
          "output_type": "display_data",
          "data": {
            "text/html": [
              "        <script type=\"text/javascript\">\n",
              "        window.PlotlyConfig = {MathJaxConfig: 'local'};\n",
              "        if (window.MathJax && window.MathJax.Hub && window.MathJax.Hub.Config) {window.MathJax.Hub.Config({SVG: {font: \"STIX-Web\"}});}\n",
              "        if (typeof require !== 'undefined') {\n",
              "        require.undef(\"plotly\");\n",
              "        requirejs.config({\n",
              "            paths: {\n",
              "                'plotly': ['https://cdn.plot.ly/plotly-2.24.1.min']\n",
              "            }\n",
              "        });\n",
              "        require(['plotly'], function(Plotly) {\n",
              "            window._Plotly = Plotly;\n",
              "        });\n",
              "        }\n",
              "        </script>\n",
              "        "
            ]
          },
          "metadata": {}
        },
        {
          "output_type": "display_data",
          "data": {
            "text/html": [
              "        <script type=\"text/javascript\">\n",
              "        window.PlotlyConfig = {MathJaxConfig: 'local'};\n",
              "        if (window.MathJax && window.MathJax.Hub && window.MathJax.Hub.Config) {window.MathJax.Hub.Config({SVG: {font: \"STIX-Web\"}});}\n",
              "        if (typeof require !== 'undefined') {\n",
              "        require.undef(\"plotly\");\n",
              "        requirejs.config({\n",
              "            paths: {\n",
              "                'plotly': ['https://cdn.plot.ly/plotly-2.24.1.min']\n",
              "            }\n",
              "        });\n",
              "        require(['plotly'], function(Plotly) {\n",
              "            window._Plotly = Plotly;\n",
              "        });\n",
              "        }\n",
              "        </script>\n",
              "        "
            ]
          },
          "metadata": {}
        }
      ],
      "source": [
        "# Interactive plot libraries\n",
        "import cufflinks as cf\n",
        "from plotly.offline import download_plotlyjs,init_notebook_mode,iplot,plot\n",
        "init_notebook_mode(connected=True)\n",
        "cf.go_offline()"
      ]
    },
    {
      "cell_type": "code",
      "execution_count": null,
      "id": "d883bdaa-e407-46dd-b834-a87e052472d6",
      "metadata": {
        "id": "d883bdaa-e407-46dd-b834-a87e052472d6"
      },
      "outputs": [],
      "source": [
        "#Loading Training data and Test data into Dataframes\n",
        "df_train =pd.read_csv(\"/content/drive/MyDrive/train.csv\")\n",
        "df_test = pd.read_csv(\"/content/drive/MyDrive/test.csv\")"
      ]
    },
    {
      "cell_type": "code",
      "execution_count": null,
      "id": "OcAwyHCM4G5G",
      "metadata": {
        "colab": {
          "base_uri": "https://localhost:8080/"
        },
        "id": "OcAwyHCM4G5G",
        "outputId": "6530316f-59fb-4728-aeee-b72421dad944"
      },
      "outputs": [
        {
          "output_type": "stream",
          "name": "stdout",
          "text": [
            "<class 'pandas.core.frame.DataFrame'>\n",
            "RangeIndex: 3203 entries, 0 to 3202\n",
            "Data columns (total 24 columns):\n",
            " #   Column                           Non-Null Count  Dtype  \n",
            "---  ------                           --------------  -----  \n",
            " 0   ID                               3203 non-null   int64  \n",
            " 1   Tank Failure Pressure (bar)      3203 non-null   float64\n",
            " 2   Liquid Ratio (%)                 3203 non-null   float64\n",
            " 3   Tank Width (m)                   3203 non-null   float64\n",
            " 4   Tank Length (m)                  3203 non-null   float64\n",
            " 5   Tank Height (m)                  3203 non-null   float64\n",
            " 6   BLEVE Height (m)                 3203 non-null   float64\n",
            " 7   Vapour Height (m)                3203 non-null   float64\n",
            " 8   Vapour Temperature (K)           3203 non-null   float64\n",
            " 9   Liquid Temperature (K)           3203 non-null   float64\n",
            " 10  Obstacle Distance to BLEVE (m)   3203 non-null   int64  \n",
            " 11  Obstacle Width (m)               3203 non-null   int64  \n",
            " 12  Obstacle Height (m)              3203 non-null   int64  \n",
            " 13  Obstacle Thickness (m)           3203 non-null   float64\n",
            " 14  Obstacle Angle                   3203 non-null   int64  \n",
            " 15  Status                           3203 non-null   object \n",
            " 16  Liquid Critical Pressure (bar)   3203 non-null   float64\n",
            " 17  Liquid Boiling Temperature (K)   3203 non-null   int64  \n",
            " 18  Liquid Critical Temperature (K)  3203 non-null   float64\n",
            " 19  Sensor ID                        3203 non-null   int64  \n",
            " 20  Sensor Position Side             3203 non-null   int64  \n",
            " 21  Sensor Position x                3203 non-null   float64\n",
            " 22  Sensor Position y                3203 non-null   float64\n",
            " 23  Sensor Position z                3203 non-null   float64\n",
            "dtypes: float64(15), int64(8), object(1)\n",
            "memory usage: 600.7+ KB\n"
          ]
        }
      ],
      "source": [
        "df_test.info()"
      ]
    },
    {
      "cell_type": "code",
      "execution_count": null,
      "id": "dTAzBpKm4OQb",
      "metadata": {
        "colab": {
          "base_uri": "https://localhost:8080/"
        },
        "id": "dTAzBpKm4OQb",
        "outputId": "56ce3bd3-4775-4ae1-dd16-e76ad339c1a7"
      },
      "outputs": [
        {
          "output_type": "stream",
          "name": "stdout",
          "text": [
            "<class 'pandas.core.frame.DataFrame'>\n",
            "RangeIndex: 10050 entries, 0 to 10049\n",
            "Data columns (total 25 columns):\n",
            " #   Column                           Non-Null Count  Dtype  \n",
            "---  ------                           --------------  -----  \n",
            " 0   ID                               10045 non-null  float64\n",
            " 1   Tank Failure Pressure (bar)      10043 non-null  float64\n",
            " 2   Liquid Ratio (%)                 10041 non-null  float64\n",
            " 3   Tank Width (m)                   10041 non-null  float64\n",
            " 4   Tank Length (m)                  10041 non-null  float64\n",
            " 5   Tank Height (m)                  10042 non-null  float64\n",
            " 6   BLEVE Height (m)                 10040 non-null  float64\n",
            " 7   Vapour Height (m)                10041 non-null  float64\n",
            " 8   Vapour Temperature (K)           10022 non-null  float64\n",
            " 9   Liquid Temperature (K)           10023 non-null  float64\n",
            " 10  Obstacle Distance to BLEVE (m)   10042 non-null  float64\n",
            " 11  Obstacle Width (m)               10044 non-null  float64\n",
            " 12  Obstacle Height (m)              10044 non-null  float64\n",
            " 13  Obstacle Thickness (m)           10043 non-null  float64\n",
            " 14  Obstacle Angle                   10042 non-null  float64\n",
            " 15  Status                           10043 non-null  object \n",
            " 16  Liquid Critical Pressure (bar)   10020 non-null  float64\n",
            " 17  Liquid Boiling Temperature (K)   10021 non-null  float64\n",
            " 18  Liquid Critical Temperature (K)  10020 non-null  float64\n",
            " 19  Sensor ID                        10042 non-null  float64\n",
            " 20  Sensor Position Side             10042 non-null  float64\n",
            " 21  Sensor Position x                10043 non-null  float64\n",
            " 22  Sensor Position y                10042 non-null  float64\n",
            " 23  Sensor Position z                10041 non-null  float64\n",
            " 24  Target Pressure (bar)            10040 non-null  float64\n",
            "dtypes: float64(24), object(1)\n",
            "memory usage: 1.9+ MB\n"
          ]
        }
      ],
      "source": [
        "df_train.info()"
      ]
    },
    {
      "cell_type": "code",
      "source": [
        "df_train.shape"
      ],
      "metadata": {
        "colab": {
          "base_uri": "https://localhost:8080/"
        },
        "id": "AyjsNWS2Fp-e",
        "outputId": "78a5b537-b660-423a-c831-96d744b3557b"
      },
      "id": "AyjsNWS2Fp-e",
      "execution_count": null,
      "outputs": [
        {
          "output_type": "execute_result",
          "data": {
            "text/plain": [
              "(10050, 25)"
            ]
          },
          "metadata": {},
          "execution_count": 9
        }
      ]
    },
    {
      "cell_type": "code",
      "source": [
        "df_train[\"Status\"].value_counts()"
      ],
      "metadata": {
        "colab": {
          "base_uri": "https://localhost:8080/"
        },
        "id": "AzQCE2lBH-sk",
        "outputId": "6e2eb19f-a0bd-413e-8dc8-31d68c22a4c6"
      },
      "id": "AzQCE2lBH-sk",
      "execution_count": null,
      "outputs": [
        {
          "output_type": "execute_result",
          "data": {
            "text/plain": [
              "Status\n",
              "Subcooled      6285\n",
              "Superheated    3683\n",
              "Subcool          23\n",
              "subcooled        20\n",
              "Subcoled         14\n",
              "Superheat         8\n",
              "superheated       6\n",
              "Saperheated       4\n",
              "Name: count, dtype: int64"
            ]
          },
          "metadata": {},
          "execution_count": 10
        }
      ]
    },
    {
      "cell_type": "code",
      "source": [
        "df_c = df_train[df_train[\"Target Pressure (bar)\"] < 0]\n",
        "df_c[\"Target Pressure (bar)\"]"
      ],
      "metadata": {
        "colab": {
          "base_uri": "https://localhost:8080/"
        },
        "id": "9AErODIDKKXt",
        "outputId": "7bb8baab-eb75-40a1-d665-d0f4b467b1b8"
      },
      "id": "9AErODIDKKXt",
      "execution_count": null,
      "outputs": [
        {
          "output_type": "execute_result",
          "data": {
            "text/plain": [
              "Series([], Name: Target Pressure (bar), dtype: float64)"
            ]
          },
          "metadata": {},
          "execution_count": 12
        }
      ]
    },
    {
      "cell_type": "code",
      "source": [
        "df_train[\"Status\"] = df[\"Status\"].str.lower()\n",
        "df[\"Status\"] = df[\"Status\"].replace(['subcool', 'subcoled'], 'subcooled')\n",
        "df[\"Status\"] = df[\"Status\"].replace(['superheat', 'saperheated'], 'superheated')\n"
      ],
      "metadata": {
        "id": "pRB8_CB2K5a5",
        "colab": {
          "base_uri": "https://localhost:8080/",
          "height": 176
        },
        "outputId": "cca75b3b-06f4-4728-8ebc-a6f9f3529896"
      },
      "id": "pRB8_CB2K5a5",
      "execution_count": null,
      "outputs": [
        {
          "output_type": "error",
          "ename": "NameError",
          "evalue": "name 'df' is not defined",
          "traceback": [
            "\u001b[0;31m---------------------------------------------------------------------------\u001b[0m",
            "\u001b[0;31mNameError\u001b[0m                                 Traceback (most recent call last)",
            "\u001b[0;32m<ipython-input-88-94ebaa6fcdd6>\u001b[0m in \u001b[0;36m<cell line: 1>\u001b[0;34m()\u001b[0m\n\u001b[0;32m----> 1\u001b[0;31m \u001b[0mdf_train\u001b[0m\u001b[0;34m[\u001b[0m\u001b[0;34m\"Status\"\u001b[0m\u001b[0;34m]\u001b[0m \u001b[0;34m=\u001b[0m \u001b[0mdf\u001b[0m\u001b[0;34m[\u001b[0m\u001b[0;34m\"Status\"\u001b[0m\u001b[0;34m]\u001b[0m\u001b[0;34m.\u001b[0m\u001b[0mstr\u001b[0m\u001b[0;34m.\u001b[0m\u001b[0mlower\u001b[0m\u001b[0;34m(\u001b[0m\u001b[0;34m)\u001b[0m\u001b[0;34m\u001b[0m\u001b[0;34m\u001b[0m\u001b[0m\n\u001b[0m\u001b[1;32m      2\u001b[0m \u001b[0mdf\u001b[0m\u001b[0;34m[\u001b[0m\u001b[0;34m\"Status\"\u001b[0m\u001b[0;34m]\u001b[0m \u001b[0;34m=\u001b[0m \u001b[0mdf\u001b[0m\u001b[0;34m[\u001b[0m\u001b[0;34m\"Status\"\u001b[0m\u001b[0;34m]\u001b[0m\u001b[0;34m.\u001b[0m\u001b[0mreplace\u001b[0m\u001b[0;34m(\u001b[0m\u001b[0;34m[\u001b[0m\u001b[0;34m'subcool'\u001b[0m\u001b[0;34m,\u001b[0m \u001b[0;34m'subcoled'\u001b[0m\u001b[0;34m]\u001b[0m\u001b[0;34m,\u001b[0m \u001b[0;34m'subcooled'\u001b[0m\u001b[0;34m)\u001b[0m\u001b[0;34m\u001b[0m\u001b[0;34m\u001b[0m\u001b[0m\n\u001b[1;32m      3\u001b[0m \u001b[0mdf\u001b[0m\u001b[0;34m[\u001b[0m\u001b[0;34m\"Status\"\u001b[0m\u001b[0;34m]\u001b[0m \u001b[0;34m=\u001b[0m \u001b[0mdf\u001b[0m\u001b[0;34m[\u001b[0m\u001b[0;34m\"Status\"\u001b[0m\u001b[0;34m]\u001b[0m\u001b[0;34m.\u001b[0m\u001b[0mreplace\u001b[0m\u001b[0;34m(\u001b[0m\u001b[0;34m[\u001b[0m\u001b[0;34m'superheat'\u001b[0m\u001b[0;34m,\u001b[0m \u001b[0;34m'saperheated'\u001b[0m\u001b[0;34m]\u001b[0m\u001b[0;34m,\u001b[0m \u001b[0;34m'superheated'\u001b[0m\u001b[0;34m)\u001b[0m\u001b[0;34m\u001b[0m\u001b[0;34m\u001b[0m\u001b[0m\n",
            "\u001b[0;31mNameError\u001b[0m: name 'df' is not defined"
          ]
        }
      ]
    },
    {
      "cell_type": "code",
      "source": [
        "df[\"Status\"].nunique()"
      ],
      "metadata": {
        "colab": {
          "base_uri": "https://localhost:8080/"
        },
        "id": "c9cIQ3a8RknL",
        "outputId": "3deeda29-cee8-4735-be71-0a1a6acb967e"
      },
      "id": "c9cIQ3a8RknL",
      "execution_count": null,
      "outputs": [
        {
          "output_type": "execute_result",
          "data": {
            "text/plain": [
              "2"
            ]
          },
          "metadata": {},
          "execution_count": 315
        }
      ]
    },
    {
      "cell_type": "code",
      "source": [
        "# Convert 'Status' column to binary values (1 for superheated, 0 for supercooled)\n",
        "df[\"Status\"] = (df[\"Status\"] != \"supercooled\").astype(int)"
      ],
      "metadata": {
        "id": "n-sniNKnSqyt"
      },
      "id": "n-sniNKnSqyt",
      "execution_count": null,
      "outputs": []
    },
    {
      "cell_type": "code",
      "source": [
        "sns.heatmap(df.drop(columns=[\"Target Pressure (bar)\", \"Status\", 'Liquid Critical Pressure (bar)', 'Liquid Critical Temperature (K)', 'Liquid Boiling Temperature (K)', 'Tank Width (m)', 'Tank Length (m)', 'Tank Height (m)']).corr())"
      ],
      "metadata": {
        "colab": {
          "base_uri": "https://localhost:8080/",
          "height": 660
        },
        "id": "VANyPayOXHpd",
        "outputId": "bdedccb8-3015-4afa-a975-b109588556ed"
      },
      "id": "VANyPayOXHpd",
      "execution_count": null,
      "outputs": [
        {
          "output_type": "execute_result",
          "data": {
            "text/plain": [
              "<Axes: >"
            ]
          },
          "metadata": {},
          "execution_count": 321
        },
        {
          "output_type": "display_data",
          "data": {
            "text/plain": [
              "<Figure size 640x480 with 2 Axes>"
            ],
            "image/png": "[encoded data removed]"
          },
          "metadata": {}
        }
      ]
    },
    {
      "cell_type": "code",
      "execution_count": null,
      "id": "5c14a01e-c083-45e2-9ff8-c6ab131e3028",
      "metadata": {
        "colab": {
          "base_uri": "https://localhost:8080/"
        },
        "id": "5c14a01e-c083-45e2-9ff8-c6ab131e3028",
        "outputId": "60e1379b-3b12-4ea7-f490-817935bf6f03"
      },
      "outputs": [
        {
          "name": "stdout",
          "output_type": "stream",
          "text": [
            "(10050, 25) The first figures by the left represent the numbers of datapoints while the second figure represents the numbers of features\n",
            "\n",
            "\n",
            "<class 'pandas.core.frame.DataFrame'>\n",
            "RangeIndex: 10050 entries, 0 to 10049\n",
            "Data columns (total 25 columns):\n",
            " #   Column                           Non-Null Count  Dtype  \n",
            "---  ------                           --------------  -----  \n",
            " 0   ID                               10045 non-null  float64\n",
            " 1   Tank Failure Pressure (bar)      10043 non-null  float64\n",
            " 2   Liquid Ratio (%)                 10041 non-null  float64\n",
            " 3   Tank Width (m)                   10041 non-null  float64\n",
            " 4   Tank Length (m)                  10041 non-null  float64\n",
            " 5   Tank Height (m)                  10042 non-null  float64\n",
            " 6   BLEVE Height (m)                 10040 non-null  float64\n",
            " 7   Vapour Height (m)                10041 non-null  float64\n",
            " 8   Vapour Temperature (K)           10022 non-null  float64\n",
            " 9   Liquid Temperature (K)           10023 non-null  float64\n",
            " 10  Obstacle Distance to BLEVE (m)   10042 non-null  float64\n",
            " 11  Obstacle Width (m)               10044 non-null  float64\n",
            " 12  Obstacle Height (m)              10044 non-null  float64\n",
            " 13  Obstacle Thickness (m)           10043 non-null  float64\n",
            " 14  Obstacle Angle                   10042 non-null  float64\n",
            " 15  Status                           10043 non-null  object \n",
            " 16  Liquid Critical Pressure (bar)   10020 non-null  float64\n",
            " 17  Liquid Boiling Temperature (K)   10021 non-null  float64\n",
            " 18  Liquid Critical Temperature (K)  10020 non-null  float64\n",
            " 19  Sensor ID                        10042 non-null  float64\n",
            " 20  Sensor Position Side             10042 non-null  float64\n",
            " 21  Sensor Position x                10043 non-null  float64\n",
            " 22  Sensor Position y                10042 non-null  float64\n",
            " 23  Sensor Position z                10041 non-null  float64\n",
            " 24  Target Pressure (bar)            10040 non-null  float64\n",
            "dtypes: float64(24), object(1)\n",
            "memory usage: 1.9+ MB\n",
            "None\n"
          ]
        }
      ],
      "source": [
        "# Checks for the datatype for each feature\n",
        "print(f'{df_train.shape} The first figures by the left represent the numbers of datapoints while the second figure represents the numbers of features')\n",
        "print('\\n')\n",
        "print(df_train.info()) #The info() method/function prints information about the DataFrame.\n",
        "#The information contains the number of columns, column labels, column data types(int,float,string/object) memory usage,\n",
        "#range index, and the number of cells in each column (non-null values)"
      ]
    },
    {
      "cell_type": "code",
      "execution_count": null,
      "id": "1bd67a45-417b-4188-839d-ebd0624f85f2",
      "metadata": {
        "colab": {
          "base_uri": "https://localhost:8080/",
          "height": 656
        },
        "id": "1bd67a45-417b-4188-839d-ebd0624f85f2",
        "outputId": "f9a4226f-b695-4e5f-d4d3-aa870494b81e"
      },
      "outputs": [
        {
          "output_type": "execute_result",
          "data": {
            "text/plain": [
              "<Axes: >"
            ]
          },
          "metadata": {},
          "execution_count": 14
        },
        {
          "output_type": "display_data",
          "data": {
            "text/plain": [
              "<Figure size 640x480 with 1 Axes>"
            ],
            "image/png": "[encoded data removed]"
          },
          "metadata": {}
        }
      ],
      "source": [
        "sns.heatmap(data = df_train.isnull(),yticklabels=False,cmap = \"viridis\", cbar = False)# check for missing datapoints using heatmap function"
      ]
    },
    {
      "cell_type": "code",
      "execution_count": null,
      "id": "c3PVU3rz0lj8",
      "metadata": {
        "colab": {
          "base_uri": "https://localhost:8080/",
          "height": 1000
        },
        "id": "c3PVU3rz0lj8",
        "outputId": "0b84bbf8-d972-40aa-8f2d-d1caf4a61ec0"
      },
      "outputs": [
        {
          "output_type": "execute_result",
          "data": {
            "text/plain": [
              "                                       ID  Tank Failure Pressure (bar)  \\\n",
              "ID                               1.000000                    -0.001820   \n",
              "Tank Failure Pressure (bar)     -0.001820                     1.000000   \n",
              "Liquid Ratio (%)                 0.036746                     0.004925   \n",
              "Tank Width (m)                  -0.025398                    -0.008360   \n",
              "Tank Length (m)                 -0.032712                    -0.009489   \n",
              "Tank Height (m)                  0.072045                     0.008243   \n",
              "BLEVE Height (m)                -0.016855                     0.014730   \n",
              "Vapour Height (m)               -0.001992                    -0.004275   \n",
              "Vapour Temperature (K)          -0.056787                    -0.003012   \n",
              "Liquid Temperature (K)          -0.072574                    -0.015516   \n",
              "Obstacle Distance to BLEVE (m)  -0.045747                    -0.002404   \n",
              "Obstacle Width (m)              -0.039398                     0.009887   \n",
              "Obstacle Height (m)              0.082944                     0.015341   \n",
              "Obstacle Thickness (m)           0.034338                    -0.007164   \n",
              "Obstacle Angle                  -0.051896                    -0.007683   \n",
              "Liquid Critical Pressure (bar)   0.042698                    -0.000975   \n",
              "Liquid Boiling Temperature (K)  -0.044007                     0.000860   \n",
              "Liquid Critical Temperature (K) -0.042583                     0.000973   \n",
              "Sensor ID                        0.000572                     0.004141   \n",
              "Sensor Position Side             0.000837                     0.006835   \n",
              "Sensor Position x               -0.048307                    -0.005223   \n",
              "Sensor Position y               -0.042224                    -0.005038   \n",
              "Sensor Position z                0.044329                    -0.000902   \n",
              "\n",
              "                                 Liquid Ratio (%)  Tank Width (m)  \\\n",
              "ID                                       0.036746       -0.025398   \n",
              "Tank Failure Pressure (bar)              0.004925       -0.008360   \n",
              "Liquid Ratio (%)                         1.000000        0.022278   \n",
              "Tank Width (m)                           0.022278        1.000000   \n",
              "Tank Length (m)                          0.205378       -0.100841   \n",
              "Tank Height (m)                          0.099394       -0.058788   \n",
              "BLEVE Height (m)                         0.081826        0.012053   \n",
              "Vapour Height (m)                       -0.638602       -0.054934   \n",
              "Vapour Temperature (K)                   0.000439       -0.013490   \n",
              "Liquid Temperature (K)                   0.016656        0.020530   \n",
              "Obstacle Distance to BLEVE (m)           0.072357        0.073258   \n",
              "Obstacle Width (m)                      -0.018873        0.054792   \n",
              "Obstacle Height (m)                      0.041712        0.023180   \n",
              "Obstacle Thickness (m)                  -0.018672        0.015090   \n",
              "Obstacle Angle                           0.066159        0.063194   \n",
              "Liquid Critical Pressure (bar)           0.026168        0.001629   \n",
              "Liquid Boiling Temperature (K)          -0.025409       -0.002363   \n",
              "Liquid Critical Temperature (K)         -0.025144       -0.001209   \n",
              "Sensor ID                               -0.002198        0.002523   \n",
              "Sensor Position Side                    -0.002205        0.002423   \n",
              "Sensor Position x                        0.071988        0.156483   \n",
              "Sensor Position y                        0.057932        0.036667   \n",
              "Sensor Position z                        0.050984        0.011221   \n",
              "\n",
              "                                 Tank Length (m)  Tank Height (m)  \\\n",
              "ID                                     -0.032712         0.072045   \n",
              "Tank Failure Pressure (bar)            -0.009489         0.008243   \n",
              "Liquid Ratio (%)                        0.205378         0.099394   \n",
              "Tank Width (m)                         -0.100841        -0.058788   \n",
              "Tank Length (m)                         1.000000        -0.095202   \n",
              "Tank Height (m)                        -0.095202         1.000000   \n",
              "BLEVE Height (m)                       -0.041280        -0.055049   \n",
              "Vapour Height (m)                      -0.202523         0.618088   \n",
              "Vapour Temperature (K)                 -0.061445         0.064139   \n",
              "Liquid Temperature (K)                  0.003399        -0.032707   \n",
              "Obstacle Distance to BLEVE (m)          0.044287         0.009374   \n",
              "Obstacle Width (m)                     -0.104524        -0.091571   \n",
              "Obstacle Height (m)                    -0.102135        -0.138902   \n",
              "Obstacle Thickness (m)                 -0.001585        -0.021552   \n",
              "Obstacle Angle                         -0.095067         0.045627   \n",
              "Liquid Critical Pressure (bar)          0.021468        -0.010961   \n",
              "Liquid Boiling Temperature (K)         -0.021170         0.011524   \n",
              "Liquid Critical Temperature (K)        -0.021339         0.011982   \n",
              "Sensor ID                              -0.000746        -0.002509   \n",
              "Sensor Position Side                   -0.000705        -0.002489   \n",
              "Sensor Position x                       0.037612         0.000033   \n",
              "Sensor Position y                      -0.027884         0.031918   \n",
              "Sensor Position z                      -0.030712        -0.100881   \n",
              "\n",
              "                                 BLEVE Height (m)  Vapour Height (m)  \\\n",
              "ID                                      -0.016855          -0.001992   \n",
              "Tank Failure Pressure (bar)              0.014730          -0.004275   \n",
              "Liquid Ratio (%)                         0.081826          -0.638602   \n",
              "Tank Width (m)                           0.012053          -0.054934   \n",
              "Tank Length (m)                         -0.041280          -0.202523   \n",
              "Tank Height (m)                         -0.055049           0.618088   \n",
              "BLEVE Height (m)                         1.000000          -0.113938   \n",
              "Vapour Height (m)                       -0.113938           1.000000   \n",
              "Vapour Temperature (K)                  -0.019803           0.048949   \n",
              "Liquid Temperature (K)                  -0.040783           0.021988   \n",
              "Obstacle Distance to BLEVE (m)           0.063497          -0.055175   \n",
              "Obstacle Width (m)                       0.022645          -0.068498   \n",
              "Obstacle Height (m)                     -0.042900          -0.152628   \n",
              "Obstacle Thickness (m)                  -0.027297          -0.043910   \n",
              "Obstacle Angle                           0.064150          -0.018694   \n",
              "Liquid Critical Pressure (bar)          -0.083370          -0.020398   \n",
              "Liquid Boiling Temperature (K)           0.084111           0.019873   \n",
              "Liquid Critical Temperature (K)          0.083885           0.020126   \n",
              "Sensor ID                                0.001973          -0.000553   \n",
              "Sensor Position Side                     0.002215          -0.000623   \n",
              "Sensor Position x                        0.066997          -0.064416   \n",
              "Sensor Position y                        0.043700          -0.021613   \n",
              "Sensor Position z                       -0.148489          -0.123540   \n",
              "\n",
              "                                 Vapour Temperature (K)  \\\n",
              "ID                                            -0.056787   \n",
              "Tank Failure Pressure (bar)                   -0.003012   \n",
              "Liquid Ratio (%)                               0.000439   \n",
              "Tank Width (m)                                -0.013490   \n",
              "Tank Length (m)                               -0.061445   \n",
              "Tank Height (m)                                0.064139   \n",
              "BLEVE Height (m)                              -0.019803   \n",
              "Vapour Height (m)                              0.048949   \n",
              "Vapour Temperature (K)                         1.000000   \n",
              "Liquid Temperature (K)                         0.135883   \n",
              "Obstacle Distance to BLEVE (m)                -0.030712   \n",
              "Obstacle Width (m)                            -0.026292   \n",
              "Obstacle Height (m)                            0.014998   \n",
              "Obstacle Thickness (m)                        -0.063102   \n",
              "Obstacle Angle                                 0.010160   \n",
              "Liquid Critical Pressure (bar)                -0.354249   \n",
              "Liquid Boiling Temperature (K)                 0.354453   \n",
              "Liquid Critical Temperature (K)                0.353738   \n",
              "Sensor ID                                      0.002841   \n",
              "Sensor Position Side                           0.003243   \n",
              "Sensor Position x                             -0.032366   \n",
              "Sensor Position y                              0.004267   \n",
              "Sensor Position z                              0.007140   \n",
              "\n",
              "                                 Liquid Temperature (K)  ...  \\\n",
              "ID                                            -0.072574  ...   \n",
              "Tank Failure Pressure (bar)                   -0.015516  ...   \n",
              "Liquid Ratio (%)                               0.016656  ...   \n",
              "Tank Width (m)                                 0.020530  ...   \n",
              "Tank Length (m)                                0.003399  ...   \n",
              "Tank Height (m)                               -0.032707  ...   \n",
              "BLEVE Height (m)                              -0.040783  ...   \n",
              "Vapour Height (m)                              0.021988  ...   \n",
              "Vapour Temperature (K)                         0.135883  ...   \n",
              "Liquid Temperature (K)                         1.000000  ...   \n",
              "Obstacle Distance to BLEVE (m)                -0.060474  ...   \n",
              "Obstacle Width (m)                            -0.016144  ...   \n",
              "Obstacle Height (m)                           -0.063809  ...   \n",
              "Obstacle Thickness (m)                        -0.071763  ...   \n",
              "Obstacle Angle                                -0.001221  ...   \n",
              "Liquid Critical Pressure (bar)                -0.349224  ...   \n",
              "Liquid Boiling Temperature (K)                 0.348795  ...   \n",
              "Liquid Critical Temperature (K)                0.348837  ...   \n",
              "Sensor ID                                     -0.000439  ...   \n",
              "Sensor Position Side                          -0.000297  ...   \n",
              "Sensor Position x                             -0.057272  ...   \n",
              "Sensor Position y                             -0.031621  ...   \n",
              "Sensor Position z                             -0.028045  ...   \n",
              "\n",
              "                                 Obstacle Thickness (m)  Obstacle Angle  \\\n",
              "ID                                             0.034338       -0.051896   \n",
              "Tank Failure Pressure (bar)                   -0.007164       -0.007683   \n",
              "Liquid Ratio (%)                              -0.018672        0.066159   \n",
              "Tank Width (m)                                 0.015090        0.063194   \n",
              "Tank Length (m)                               -0.001585       -0.095067   \n",
              "Tank Height (m)                               -0.021552        0.045627   \n",
              "BLEVE Height (m)                              -0.027297        0.064150   \n",
              "Vapour Height (m)                             -0.043910       -0.018694   \n",
              "Vapour Temperature (K)                        -0.063102        0.010160   \n",
              "Liquid Temperature (K)                        -0.071763       -0.001221   \n",
              "Obstacle Distance to BLEVE (m)                 0.004672       -0.028455   \n",
              "Obstacle Width (m)                             0.092627        0.033577   \n",
              "Obstacle Height (m)                           -0.070554       -0.018485   \n",
              "Obstacle Thickness (m)                         1.000000       -0.057581   \n",
              "Obstacle Angle                                -0.057581        1.000000   \n",
              "Liquid Critical Pressure (bar)                 0.075109       -0.086757   \n",
              "Liquid Boiling Temperature (K)                -0.075939        0.087272   \n",
              "Liquid Critical Temperature (K)               -0.075181        0.088130   \n",
              "Sensor ID                                     -0.002200       -0.001026   \n",
              "Sensor Position Side                          -0.002248       -0.001069   \n",
              "Sensor Position x                              0.092013       -0.025927   \n",
              "Sensor Position y                             -0.031355        0.415865   \n",
              "Sensor Position z                             -0.030098       -0.016463   \n",
              "\n",
              "                                 Liquid Critical Pressure (bar)  \\\n",
              "ID                                                     0.042698   \n",
              "Tank Failure Pressure (bar)                           -0.000975   \n",
              "Liquid Ratio (%)                                       0.026168   \n",
              "Tank Width (m)                                         0.001629   \n",
              "Tank Length (m)                                        0.021468   \n",
              "Tank Height (m)                                       -0.010961   \n",
              "BLEVE Height (m)                                      -0.083370   \n",
              "Vapour Height (m)                                     -0.020398   \n",
              "Vapour Temperature (K)                                -0.354249   \n",
              "Liquid Temperature (K)                                -0.349224   \n",
              "Obstacle Distance to BLEVE (m)                         0.015803   \n",
              "Obstacle Width (m)                                     0.007034   \n",
              "Obstacle Height (m)                                   -0.025532   \n",
              "Obstacle Thickness (m)                                 0.075109   \n",
              "Obstacle Angle                                        -0.086757   \n",
              "Liquid Critical Pressure (bar)                         1.000000   \n",
              "Liquid Boiling Temperature (K)                        -1.000000   \n",
              "Liquid Critical Temperature (K)                       -1.000000   \n",
              "Sensor ID                                             -0.002331   \n",
              "Sensor Position Side                                  -0.002467   \n",
              "Sensor Position x                                      0.018266   \n",
              "Sensor Position y                                     -0.026503   \n",
              "Sensor Position z                                      0.001772   \n",
              "\n",
              "                                 Liquid Boiling Temperature (K)  \\\n",
              "ID                                                    -0.044007   \n",
              "Tank Failure Pressure (bar)                            0.000860   \n",
              "Liquid Ratio (%)                                      -0.025409   \n",
              "Tank Width (m)                                        -0.002363   \n",
              "Tank Length (m)                                       -0.021170   \n",
              "Tank Height (m)                                        0.011524   \n",
              "BLEVE Height (m)                                       0.084111   \n",
              "Vapour Height (m)                                      0.019873   \n",
              "Vapour Temperature (K)                                 0.354453   \n",
              "Liquid Temperature (K)                                 0.348795   \n",
              "Obstacle Distance to BLEVE (m)                        -0.015813   \n",
              "Obstacle Width (m)                                    -0.007207   \n",
              "Obstacle Height (m)                                    0.025486   \n",
              "Obstacle Thickness (m)                                -0.075939   \n",
              "Obstacle Angle                                         0.087272   \n",
              "Liquid Critical Pressure (bar)                        -1.000000   \n",
              "Liquid Boiling Temperature (K)                         1.000000   \n",
              "Liquid Critical Temperature (K)                        1.000000   \n",
              "Sensor ID                                              0.002162   \n",
              "Sensor Position Side                                   0.002184   \n",
              "Sensor Position x                                     -0.018603   \n",
              "Sensor Position y                                      0.026446   \n",
              "Sensor Position z                                     -0.003121   \n",
              "\n",
              "                                 Liquid Critical Temperature (K)  Sensor ID  \\\n",
              "ID                                                     -0.042583   0.000572   \n",
              "Tank Failure Pressure (bar)                             0.000973   0.004141   \n",
              "Liquid Ratio (%)                                       -0.025144  -0.002198   \n",
              "Tank Width (m)                                         -0.001209   0.002523   \n",
              "Tank Length (m)                                        -0.021339  -0.000746   \n",
              "Tank Height (m)                                         0.011982  -0.002509   \n",
              "BLEVE Height (m)                                        0.083885   0.001973   \n",
              "Vapour Height (m)                                       0.020126  -0.000553   \n",
              "Vapour Temperature (K)                                  0.353738   0.002841   \n",
              "Liquid Temperature (K)                                  0.348837  -0.000439   \n",
              "Obstacle Distance to BLEVE (m)                         -0.015466  -0.000911   \n",
              "Obstacle Width (m)                                     -0.007058   0.000180   \n",
              "Obstacle Height (m)                                     0.025378   0.003283   \n",
              "Obstacle Thickness (m)                                 -0.075181  -0.002200   \n",
              "Obstacle Angle                                          0.088130  -0.001026   \n",
              "Liquid Critical Pressure (bar)                         -1.000000  -0.002331   \n",
              "Liquid Boiling Temperature (K)                          1.000000   0.002162   \n",
              "Liquid Critical Temperature (K)                         1.000000   0.001556   \n",
              "Sensor ID                                               0.001556   1.000000   \n",
              "Sensor Position Side                                    0.001746   0.930818   \n",
              "Sensor Position x                                      -0.017943  -0.082658   \n",
              "Sensor Position y                                       0.027503   0.243674   \n",
              "Sensor Position z                                      -0.002084   0.198491   \n",
              "\n",
              "                                 Sensor Position Side  Sensor Position x  \\\n",
              "ID                                           0.000837          -0.048307   \n",
              "Tank Failure Pressure (bar)                  0.006835          -0.005223   \n",
              "Liquid Ratio (%)                            -0.002205           0.071988   \n",
              "Tank Width (m)                               0.002423           0.156483   \n",
              "Tank Length (m)                             -0.000705           0.037612   \n",
              "Tank Height (m)                             -0.002489           0.000033   \n",
              "BLEVE Height (m)                             0.002215           0.066997   \n",
              "Vapour Height (m)                           -0.000623          -0.064416   \n",
              "Vapour Temperature (K)                       0.003243          -0.032366   \n",
              "Liquid Temperature (K)                      -0.000297          -0.057272   \n",
              "Obstacle Distance to BLEVE (m)              -0.000750           0.970537   \n",
              "Obstacle Width (m)                          -0.000344          -0.034334   \n",
              "Obstacle Height (m)                          0.003617          -0.168163   \n",
              "Obstacle Thickness (m)                      -0.002248           0.092013   \n",
              "Obstacle Angle                              -0.001069          -0.025927   \n",
              "Liquid Critical Pressure (bar)              -0.002467           0.018266   \n",
              "Liquid Boiling Temperature (K)               0.002184          -0.018603   \n",
              "Liquid Critical Temperature (K)              0.001746          -0.017943   \n",
              "Sensor ID                                    0.930818          -0.082658   \n",
              "Sensor Position Side                         1.000000          -0.053974   \n",
              "Sensor Position x                           -0.053974           1.000000   \n",
              "Sensor Position y                            0.158923           0.220198   \n",
              "Sensor Position z                            0.138787          -0.088584   \n",
              "\n",
              "                                 Sensor Position y  Sensor Position z  \n",
              "ID                                       -0.042224           0.044329  \n",
              "Tank Failure Pressure (bar)              -0.005038          -0.000902  \n",
              "Liquid Ratio (%)                          0.057932           0.050984  \n",
              "Tank Width (m)                            0.036667           0.011221  \n",
              "Tank Length (m)                          -0.027884          -0.030712  \n",
              "Tank Height (m)                           0.031918          -0.100881  \n",
              "BLEVE Height (m)                          0.043700          -0.148489  \n",
              "Vapour Height (m)                        -0.021613          -0.123540  \n",
              "Vapour Temperature (K)                    0.004267           0.007140  \n",
              "Liquid Temperature (K)                   -0.031621          -0.028045  \n",
              "Obstacle Distance to BLEVE (m)            0.225649          -0.086687  \n",
              "Obstacle Width (m)                       -0.001566          -0.118714  \n",
              "Obstacle Height (m)                      -0.047746           0.502685  \n",
              "Obstacle Thickness (m)                   -0.031355          -0.030098  \n",
              "Obstacle Angle                            0.415865          -0.016463  \n",
              "Liquid Critical Pressure (bar)           -0.026503           0.001772  \n",
              "Liquid Boiling Temperature (K)            0.026446          -0.003121  \n",
              "Liquid Critical Temperature (K)           0.027503          -0.002084  \n",
              "Sensor ID                                 0.243674           0.198491  \n",
              "Sensor Position Side                      0.158923           0.138787  \n",
              "Sensor Position x                         0.220198          -0.088584  \n",
              "Sensor Position y                         1.000000          -0.027570  \n",
              "Sensor Position z                        -0.027570           1.000000  \n",
              "\n",
              "[23 rows x 23 columns]"
            ],
            "text/html": [
              "\n",
              "  <div id=\"df-81f684dc-5a21-48d7-9e75-12a0fff0d76e\" class=\"colab-df-container\">\n",
              "    <div>\n",
              "<style scoped>\n",
              "    .dataframe tbody tr th:only-of-type {\n",
              "        vertical-align: middle;\n",
              "    }\n",
              "\n",
              "    .dataframe tbody tr th {\n",
              "        vertical-align: top;\n",
              "    }\n",
              "\n",
              "    .dataframe thead th {\n",
              "        text-align: right;\n",
              "    }\n",
              "</style>\n",
              "<table border=\"1\" class=\"dataframe\">\n",
              "  <thead>\n",
              "    <tr style=\"text-align: right;\">\n",
              "      <th></th>\n",
              "      <th>ID</th>\n",
              "      <th>Tank Failure Pressure (bar)</th>\n",
              "      <th>Liquid Ratio (%)</th>\n",
              "      <th>Tank Width (m)</th>\n",
              "      <th>Tank Length (m)</th>\n",
              "      <th>Tank Height (m)</th>\n",
              "      <th>BLEVE Height (m)</th>\n",
              "      <th>Vapour Height (m)</th>\n",
              "      <th>Vapour Temperature (K)</th>\n",
              "      <th>Liquid Temperature (K)</th>\n",
              "      <th>...</th>\n",
              "      <th>Obstacle Thickness (m)</th>\n",
              "      <th>Obstacle Angle</th>\n",
              "      <th>Liquid Critical Pressure (bar)</th>\n",
              "      <th>Liquid Boiling Temperature (K)</th>\n",
              "      <th>Liquid Critical Temperature (K)</th>\n",
              "      <th>Sensor ID</th>\n",
              "      <th>Sensor Position Side</th>\n",
              "      <th>Sensor Position x</th>\n",
              "      <th>Sensor Position y</th>\n",
              "      <th>Sensor Position z</th>\n",
              "    </tr>\n",
              "  </thead>\n",
              "  <tbody>\n",
              "    <tr>\n",
              "      <th>ID</th>\n",
              "      <td>1.000000</td>\n",
              "      <td>-0.001820</td>\n",
              "      <td>0.036746</td>\n",
              "      <td>-0.025398</td>\n",
              "      <td>-0.032712</td>\n",
              "      <td>0.072045</td>\n",
              "      <td>-0.016855</td>\n",
              "      <td>-0.001992</td>\n",
              "      <td>-0.056787</td>\n",
              "      <td>-0.072574</td>\n",
              "      <td>...</td>\n",
              "      <td>0.034338</td>\n",
              "      <td>-0.051896</td>\n",
              "      <td>0.042698</td>\n",
              "      <td>-0.044007</td>\n",
              "      <td>-0.042583</td>\n",
              "      <td>0.000572</td>\n",
              "      <td>0.000837</td>\n",
              "      <td>-0.048307</td>\n",
              "      <td>-0.042224</td>\n",
              "      <td>0.044329</td>\n",
              "    </tr>\n",
              "    <tr>\n",
              "      <th>Tank Failure Pressure (bar)</th>\n",
              "      <td>-0.001820</td>\n",
              "      <td>1.000000</td>\n",
              "      <td>0.004925</td>\n",
              "      <td>-0.008360</td>\n",
              "      <td>-0.009489</td>\n",
              "      <td>0.008243</td>\n",
              "      <td>0.014730</td>\n",
              "      <td>-0.004275</td>\n",
              "      <td>-0.003012</td>\n",
              "      <td>-0.015516</td>\n",
              "      <td>...</td>\n",
              "      <td>-0.007164</td>\n",
              "      <td>-0.007683</td>\n",
              "      <td>-0.000975</td>\n",
              "      <td>0.000860</td>\n",
              "      <td>0.000973</td>\n",
              "      <td>0.004141</td>\n",
              "      <td>0.006835</td>\n",
              "      <td>-0.005223</td>\n",
              "      <td>-0.005038</td>\n",
              "      <td>-0.000902</td>\n",
              "    </tr>\n",
              "    <tr>\n",
              "      <th>Liquid Ratio (%)</th>\n",
              "      <td>0.036746</td>\n",
              "      <td>0.004925</td>\n",
              "      <td>1.000000</td>\n",
              "      <td>0.022278</td>\n",
              "      <td>0.205378</td>\n",
              "      <td>0.099394</td>\n",
              "      <td>0.081826</td>\n",
              "      <td>-0.638602</td>\n",
              "      <td>0.000439</td>\n",
              "      <td>0.016656</td>\n",
              "      <td>...</td>\n",
              "      <td>-0.018672</td>\n",
              "      <td>0.066159</td>\n",
              "      <td>0.026168</td>\n",
              "      <td>-0.025409</td>\n",
              "      <td>-0.025144</td>\n",
              "      <td>-0.002198</td>\n",
              "      <td>-0.002205</td>\n",
              "      <td>0.071988</td>\n",
              "      <td>0.057932</td>\n",
              "      <td>0.050984</td>\n",
              "    </tr>\n",
              "    <tr>\n",
              "      <th>Tank Width (m)</th>\n",
              "      <td>-0.025398</td>\n",
              "      <td>-0.008360</td>\n",
              "      <td>0.022278</td>\n",
              "      <td>1.000000</td>\n",
              "      <td>-0.100841</td>\n",
              "      <td>-0.058788</td>\n",
              "      <td>0.012053</td>\n",
              "      <td>-0.054934</td>\n",
              "      <td>-0.013490</td>\n",
              "      <td>0.020530</td>\n",
              "      <td>...</td>\n",
              "      <td>0.015090</td>\n",
              "      <td>0.063194</td>\n",
              "      <td>0.001629</td>\n",
              "      <td>-0.002363</td>\n",
              "      <td>-0.001209</td>\n",
              "      <td>0.002523</td>\n",
              "      <td>0.002423</td>\n",
              "      <td>0.156483</td>\n",
              "      <td>0.036667</td>\n",
              "      <td>0.011221</td>\n",
              "    </tr>\n",
              "    <tr>\n",
              "      <th>Tank Length (m)</th>\n",
              "      <td>-0.032712</td>\n",
              "      <td>-0.009489</td>\n",
              "      <td>0.205378</td>\n",
              "      <td>-0.100841</td>\n",
              "      <td>1.000000</td>\n",
              "      <td>-0.095202</td>\n",
              "      <td>-0.041280</td>\n",
              "      <td>-0.202523</td>\n",
              "      <td>-0.061445</td>\n",
              "      <td>0.003399</td>\n",
              "      <td>...</td>\n",
              "      <td>-0.001585</td>\n",
              "      <td>-0.095067</td>\n",
              "      <td>0.021468</td>\n",
              "      <td>-0.021170</td>\n",
              "      <td>-0.021339</td>\n",
              "      <td>-0.000746</td>\n",
              "      <td>-0.000705</td>\n",
              "      <td>0.037612</td>\n",
              "      <td>-0.027884</td>\n",
              "      <td>-0.030712</td>\n",
              "    </tr>\n",
              "    <tr>\n",
              "      <th>Tank Height (m)</th>\n",
              "      <td>0.072045</td>\n",
              "      <td>0.008243</td>\n",
              "      <td>0.099394</td>\n",
              "      <td>-0.058788</td>\n",
              "      <td>-0.095202</td>\n",
              "      <td>1.000000</td>\n",
              "      <td>-0.055049</td>\n",
              "      <td>0.618088</td>\n",
              "      <td>0.064139</td>\n",
              "      <td>-0.032707</td>\n",
              "      <td>...</td>\n",
              "      <td>-0.021552</td>\n",
              "      <td>0.045627</td>\n",
              "      <td>-0.010961</td>\n",
              "      <td>0.011524</td>\n",
              "      <td>0.011982</td>\n",
              "      <td>-0.002509</td>\n",
              "      <td>-0.002489</td>\n",
              "      <td>0.000033</td>\n",
              "      <td>0.031918</td>\n",
              "      <td>-0.100881</td>\n",
              "    </tr>\n",
              "    <tr>\n",
              "      <th>BLEVE Height (m)</th>\n",
              "      <td>-0.016855</td>\n",
              "      <td>0.014730</td>\n",
              "      <td>0.081826</td>\n",
              "      <td>0.012053</td>\n",
              "      <td>-0.041280</td>\n",
              "      <td>-0.055049</td>\n",
              "      <td>1.000000</td>\n",
              "      <td>-0.113938</td>\n",
              "      <td>-0.019803</td>\n",
              "      <td>-0.040783</td>\n",
              "      <td>...</td>\n",
              "      <td>-0.027297</td>\n",
              "      <td>0.064150</td>\n",
              "      <td>-0.083370</td>\n",
              "      <td>0.084111</td>\n",
              "      <td>0.083885</td>\n",
              "      <td>0.001973</td>\n",
              "      <td>0.002215</td>\n",
              "      <td>0.066997</td>\n",
              "      <td>0.043700</td>\n",
              "      <td>-0.148489</td>\n",
              "    </tr>\n",
              "    <tr>\n",
              "      <th>Vapour Height (m)</th>\n",
              "      <td>-0.001992</td>\n",
              "      <td>-0.004275</td>\n",
              "      <td>-0.638602</td>\n",
              "      <td>-0.054934</td>\n",
              "      <td>-0.202523</td>\n",
              "      <td>0.618088</td>\n",
              "      <td>-0.113938</td>\n",
              "      <td>1.000000</td>\n",
              "      <td>0.048949</td>\n",
              "      <td>0.021988</td>\n",
              "      <td>...</td>\n",
              "      <td>-0.043910</td>\n",
              "      <td>-0.018694</td>\n",
              "      <td>-0.020398</td>\n",
              "      <td>0.019873</td>\n",
              "      <td>0.020126</td>\n",
              "      <td>-0.000553</td>\n",
              "      <td>-0.000623</td>\n",
              "      <td>-0.064416</td>\n",
              "      <td>-0.021613</td>\n",
              "      <td>-0.123540</td>\n",
              "    </tr>\n",
              "    <tr>\n",
              "      <th>Vapour Temperature (K)</th>\n",
              "      <td>-0.056787</td>\n",
              "      <td>-0.003012</td>\n",
              "      <td>0.000439</td>\n",
              "      <td>-0.013490</td>\n",
              "      <td>-0.061445</td>\n",
              "      <td>0.064139</td>\n",
              "      <td>-0.019803</td>\n",
              "      <td>0.048949</td>\n",
              "      <td>1.000000</td>\n",
              "      <td>0.135883</td>\n",
              "      <td>...</td>\n",
              "      <td>-0.063102</td>\n",
              "      <td>0.010160</td>\n",
              "      <td>-0.354249</td>\n",
              "      <td>0.354453</td>\n",
              "      <td>0.353738</td>\n",
              "      <td>0.002841</td>\n",
              "      <td>0.003243</td>\n",
              "      <td>-0.032366</td>\n",
              "      <td>0.004267</td>\n",
              "      <td>0.007140</td>\n",
              "    </tr>\n",
              "    <tr>\n",
              "      <th>Liquid Temperature (K)</th>\n",
              "      <td>-0.072574</td>\n",
              "      <td>-0.015516</td>\n",
              "      <td>0.016656</td>\n",
              "      <td>0.020530</td>\n",
              "      <td>0.003399</td>\n",
              "      <td>-0.032707</td>\n",
              "      <td>-0.040783</td>\n",
              "      <td>0.021988</td>\n",
              "      <td>0.135883</td>\n",
              "      <td>1.000000</td>\n",
              "      <td>...</td>\n",
              "      <td>-0.071763</td>\n",
              "      <td>-0.001221</td>\n",
              "      <td>-0.349224</td>\n",
              "      <td>0.348795</td>\n",
              "      <td>0.348837</td>\n",
              "      <td>-0.000439</td>\n",
              "      <td>-0.000297</td>\n",
              "      <td>-0.057272</td>\n",
              "      <td>-0.031621</td>\n",
              "      <td>-0.028045</td>\n",
              "    </tr>\n",
              "    <tr>\n",
              "      <th>Obstacle Distance to BLEVE (m)</th>\n",
              "      <td>-0.045747</td>\n",
              "      <td>-0.002404</td>\n",
              "      <td>0.072357</td>\n",
              "      <td>0.073258</td>\n",
              "      <td>0.044287</td>\n",
              "      <td>0.009374</td>\n",
              "      <td>0.063497</td>\n",
              "      <td>-0.055175</td>\n",
              "      <td>-0.030712</td>\n",
              "      <td>-0.060474</td>\n",
              "      <td>...</td>\n",
              "      <td>0.004672</td>\n",
              "      <td>-0.028455</td>\n",
              "      <td>0.015803</td>\n",
              "      <td>-0.015813</td>\n",
              "      <td>-0.015466</td>\n",
              "      <td>-0.000911</td>\n",
              "      <td>-0.000750</td>\n",
              "      <td>0.970537</td>\n",
              "      <td>0.225649</td>\n",
              "      <td>-0.086687</td>\n",
              "    </tr>\n",
              "    <tr>\n",
              "      <th>Obstacle Width (m)</th>\n",
              "      <td>-0.039398</td>\n",
              "      <td>0.009887</td>\n",
              "      <td>-0.018873</td>\n",
              "      <td>0.054792</td>\n",
              "      <td>-0.104524</td>\n",
              "      <td>-0.091571</td>\n",
              "      <td>0.022645</td>\n",
              "      <td>-0.068498</td>\n",
              "      <td>-0.026292</td>\n",
              "      <td>-0.016144</td>\n",
              "      <td>...</td>\n",
              "      <td>0.092627</td>\n",
              "      <td>0.033577</td>\n",
              "      <td>0.007034</td>\n",
              "      <td>-0.007207</td>\n",
              "      <td>-0.007058</td>\n",
              "      <td>0.000180</td>\n",
              "      <td>-0.000344</td>\n",
              "      <td>-0.034334</td>\n",
              "      <td>-0.001566</td>\n",
              "      <td>-0.118714</td>\n",
              "    </tr>\n",
              "    <tr>\n",
              "      <th>Obstacle Height (m)</th>\n",
              "      <td>0.082944</td>\n",
              "      <td>0.015341</td>\n",
              "      <td>0.041712</td>\n",
              "      <td>0.023180</td>\n",
              "      <td>-0.102135</td>\n",
              "      <td>-0.138902</td>\n",
              "      <td>-0.042900</td>\n",
              "      <td>-0.152628</td>\n",
              "      <td>0.014998</td>\n",
              "      <td>-0.063809</td>\n",
              "      <td>...</td>\n",
              "      <td>-0.070554</td>\n",
              "      <td>-0.018485</td>\n",
              "      <td>-0.025532</td>\n",
              "      <td>0.025486</td>\n",
              "      <td>0.025378</td>\n",
              "      <td>0.003283</td>\n",
              "      <td>0.003617</td>\n",
              "      <td>-0.168163</td>\n",
              "      <td>-0.047746</td>\n",
              "      <td>0.502685</td>\n",
              "    </tr>\n",
              "    <tr>\n",
              "      <th>Obstacle Thickness (m)</th>\n",
              "      <td>0.034338</td>\n",
              "      <td>-0.007164</td>\n",
              "      <td>-0.018672</td>\n",
              "      <td>0.015090</td>\n",
              "      <td>-0.001585</td>\n",
              "      <td>-0.021552</td>\n",
              "      <td>-0.027297</td>\n",
              "      <td>-0.043910</td>\n",
              "      <td>-0.063102</td>\n",
              "      <td>-0.071763</td>\n",
              "      <td>...</td>\n",
              "      <td>1.000000</td>\n",
              "      <td>-0.057581</td>\n",
              "      <td>0.075109</td>\n",
              "      <td>-0.075939</td>\n",
              "      <td>-0.075181</td>\n",
              "      <td>-0.002200</td>\n",
              "      <td>-0.002248</td>\n",
              "      <td>0.092013</td>\n",
              "      <td>-0.031355</td>\n",
              "      <td>-0.030098</td>\n",
              "    </tr>\n",
              "    <tr>\n",
              "      <th>Obstacle Angle</th>\n",
              "      <td>-0.051896</td>\n",
              "      <td>-0.007683</td>\n",
              "      <td>0.066159</td>\n",
              "      <td>0.063194</td>\n",
              "      <td>-0.095067</td>\n",
              "      <td>0.045627</td>\n",
              "      <td>0.064150</td>\n",
              "      <td>-0.018694</td>\n",
              "      <td>0.010160</td>\n",
              "      <td>-0.001221</td>\n",
              "      <td>...</td>\n",
              "      <td>-0.057581</td>\n",
              "      <td>1.000000</td>\n",
              "      <td>-0.086757</td>\n",
              "      <td>0.087272</td>\n",
              "      <td>0.088130</td>\n",
              "      <td>-0.001026</td>\n",
              "      <td>-0.001069</td>\n",
              "      <td>-0.025927</td>\n",
              "      <td>0.415865</td>\n",
              "      <td>-0.016463</td>\n",
              "    </tr>\n",
              "    <tr>\n",
              "      <th>Liquid Critical Pressure (bar)</th>\n",
              "      <td>0.042698</td>\n",
              "      <td>-0.000975</td>\n",
              "      <td>0.026168</td>\n",
              "      <td>0.001629</td>\n",
              "      <td>0.021468</td>\n",
              "      <td>-0.010961</td>\n",
              "      <td>-0.083370</td>\n",
              "      <td>-0.020398</td>\n",
              "      <td>-0.354249</td>\n",
              "      <td>-0.349224</td>\n",
              "      <td>...</td>\n",
              "      <td>0.075109</td>\n",
              "      <td>-0.086757</td>\n",
              "      <td>1.000000</td>\n",
              "      <td>-1.000000</td>\n",
              "      <td>-1.000000</td>\n",
              "      <td>-0.002331</td>\n",
              "      <td>-0.002467</td>\n",
              "      <td>0.018266</td>\n",
              "      <td>-0.026503</td>\n",
              "      <td>0.001772</td>\n",
              "    </tr>\n",
              "    <tr>\n",
              "      <th>Liquid Boiling Temperature (K)</th>\n",
              "      <td>-0.044007</td>\n",
              "      <td>0.000860</td>\n",
              "      <td>-0.025409</td>\n",
              "      <td>-0.002363</td>\n",
              "      <td>-0.021170</td>\n",
              "      <td>0.011524</td>\n",
              "      <td>0.084111</td>\n",
              "      <td>0.019873</td>\n",
              "      <td>0.354453</td>\n",
              "      <td>0.348795</td>\n",
              "      <td>...</td>\n",
              "      <td>-0.075939</td>\n",
              "      <td>0.087272</td>\n",
              "      <td>-1.000000</td>\n",
              "      <td>1.000000</td>\n",
              "      <td>1.000000</td>\n",
              "      <td>0.002162</td>\n",
              "      <td>0.002184</td>\n",
              "      <td>-0.018603</td>\n",
              "      <td>0.026446</td>\n",
              "      <td>-0.003121</td>\n",
              "    </tr>\n",
              "    <tr>\n",
              "      <th>Liquid Critical Temperature (K)</th>\n",
              "      <td>-0.042583</td>\n",
              "      <td>0.000973</td>\n",
              "      <td>-0.025144</td>\n",
              "      <td>-0.001209</td>\n",
              "      <td>-0.021339</td>\n",
              "      <td>0.011982</td>\n",
              "      <td>0.083885</td>\n",
              "      <td>0.020126</td>\n",
              "      <td>0.353738</td>\n",
              "      <td>0.348837</td>\n",
              "      <td>...</td>\n",
              "      <td>-0.075181</td>\n",
              "      <td>0.088130</td>\n",
              "      <td>-1.000000</td>\n",
              "      <td>1.000000</td>\n",
              "      <td>1.000000</td>\n",
              "      <td>0.001556</td>\n",
              "      <td>0.001746</td>\n",
              "      <td>-0.017943</td>\n",
              "      <td>0.027503</td>\n",
              "      <td>-0.002084</td>\n",
              "    </tr>\n",
              "    <tr>\n",
              "      <th>Sensor ID</th>\n",
              "      <td>0.000572</td>\n",
              "      <td>0.004141</td>\n",
              "      <td>-0.002198</td>\n",
              "      <td>0.002523</td>\n",
              "      <td>-0.000746</td>\n",
              "      <td>-0.002509</td>\n",
              "      <td>0.001973</td>\n",
              "      <td>-0.000553</td>\n",
              "      <td>0.002841</td>\n",
              "      <td>-0.000439</td>\n",
              "      <td>...</td>\n",
              "      <td>-0.002200</td>\n",
              "      <td>-0.001026</td>\n",
              "      <td>-0.002331</td>\n",
              "      <td>0.002162</td>\n",
              "      <td>0.001556</td>\n",
              "      <td>1.000000</td>\n",
              "      <td>0.930818</td>\n",
              "      <td>-0.082658</td>\n",
              "      <td>0.243674</td>\n",
              "      <td>0.198491</td>\n",
              "    </tr>\n",
              "    <tr>\n",
              "      <th>Sensor Position Side</th>\n",
              "      <td>0.000837</td>\n",
              "      <td>0.006835</td>\n",
              "      <td>-0.002205</td>\n",
              "      <td>0.002423</td>\n",
              "      <td>-0.000705</td>\n",
              "      <td>-0.002489</td>\n",
              "      <td>0.002215</td>\n",
              "      <td>-0.000623</td>\n",
              "      <td>0.003243</td>\n",
              "      <td>-0.000297</td>\n",
              "      <td>...</td>\n",
              "      <td>-0.002248</td>\n",
              "      <td>-0.001069</td>\n",
              "      <td>-0.002467</td>\n",
              "      <td>0.002184</td>\n",
              "      <td>0.001746</td>\n",
              "      <td>0.930818</td>\n",
              "      <td>1.000000</td>\n",
              "      <td>-0.053974</td>\n",
              "      <td>0.158923</td>\n",
              "      <td>0.138787</td>\n",
              "    </tr>\n",
              "    <tr>\n",
              "      <th>Sensor Position x</th>\n",
              "      <td>-0.048307</td>\n",
              "      <td>-0.005223</td>\n",
              "      <td>0.071988</td>\n",
              "      <td>0.156483</td>\n",
              "      <td>0.037612</td>\n",
              "      <td>0.000033</td>\n",
              "      <td>0.066997</td>\n",
              "      <td>-0.064416</td>\n",
              "      <td>-0.032366</td>\n",
              "      <td>-0.057272</td>\n",
              "      <td>...</td>\n",
              "      <td>0.092013</td>\n",
              "      <td>-0.025927</td>\n",
              "      <td>0.018266</td>\n",
              "      <td>-0.018603</td>\n",
              "      <td>-0.017943</td>\n",
              "      <td>-0.082658</td>\n",
              "      <td>-0.053974</td>\n",
              "      <td>1.000000</td>\n",
              "      <td>0.220198</td>\n",
              "      <td>-0.088584</td>\n",
              "    </tr>\n",
              "    <tr>\n",
              "      <th>Sensor Position y</th>\n",
              "      <td>-0.042224</td>\n",
              "      <td>-0.005038</td>\n",
              "      <td>0.057932</td>\n",
              "      <td>0.036667</td>\n",
              "      <td>-0.027884</td>\n",
              "      <td>0.031918</td>\n",
              "      <td>0.043700</td>\n",
              "      <td>-0.021613</td>\n",
              "      <td>0.004267</td>\n",
              "      <td>-0.031621</td>\n",
              "      <td>...</td>\n",
              "      <td>-0.031355</td>\n",
              "      <td>0.415865</td>\n",
              "      <td>-0.026503</td>\n",
              "      <td>0.026446</td>\n",
              "      <td>0.027503</td>\n",
              "      <td>0.243674</td>\n",
              "      <td>0.158923</td>\n",
              "      <td>0.220198</td>\n",
              "      <td>1.000000</td>\n",
              "      <td>-0.027570</td>\n",
              "    </tr>\n",
              "    <tr>\n",
              "      <th>Sensor Position z</th>\n",
              "      <td>0.044329</td>\n",
              "      <td>-0.000902</td>\n",
              "      <td>0.050984</td>\n",
              "      <td>0.011221</td>\n",
              "      <td>-0.030712</td>\n",
              "      <td>-0.100881</td>\n",
              "      <td>-0.148489</td>\n",
              "      <td>-0.123540</td>\n",
              "      <td>0.007140</td>\n",
              "      <td>-0.028045</td>\n",
              "      <td>...</td>\n",
              "      <td>-0.030098</td>\n",
              "      <td>-0.016463</td>\n",
              "      <td>0.001772</td>\n",
              "      <td>-0.003121</td>\n",
              "      <td>-0.002084</td>\n",
              "      <td>0.198491</td>\n",
              "      <td>0.138787</td>\n",
              "      <td>-0.088584</td>\n",
              "      <td>-0.027570</td>\n",
              "      <td>1.000000</td>\n",
              "    </tr>\n",
              "  </tbody>\n",
              "</table>\n",
              "<p>23 rows × 23 columns</p>\n",
              "</div>\n",
              "    <div class=\"colab-df-buttons\">\n",
              "\n",
              "  <div class=\"colab-df-container\">\n",
              "    <button class=\"colab-df-convert\" onclick=\"convertToInteractive('df-81f684dc-5a21-48d7-9e75-12a0fff0d76e')\"\n",
              "            title=\"Convert this dataframe to an interactive table.\"\n",
              "            style=\"display:none;\">\n",
              "\n",
              "  <svg xmlns=\"http://www.w3.org/2000/svg\" height=\"24px\" viewBox=\"0 -960 960 960\">\n",
              "    <path d=\"M120-120v-720h720v720H120Zm60-500h600v-160H180v160Zm220 220h160v-160H400v160Zm0 220h160v-160H400v160ZM180-400h160v-160H180v160Zm440 0h160v-160H620v160ZM180-180h160v-160H180v160Zm440 0h160v-160H620v160Z\"/>\n",
              "  </svg>\n",
              "    </button>\n",
              "\n",
              "  <style>\n",
              "    .colab-df-container {\n",
              "      display:flex;\n",
              "      gap: 12px;\n",
              "    }\n",
              "\n",
              "    .colab-df-convert {\n",
              "      background-color: #E8F0FE;\n",
              "      border: none;\n",
              "      border-radius: 50%;\n",
              "      cursor: pointer;\n",
              "      display: none;\n",
              "      fill: #1967D2;\n",
              "      height: 32px;\n",
              "      padding: 0 0 0 0;\n",
              "      width: 32px;\n",
              "    }\n",
              "\n",
              "    .colab-df-convert:hover {\n",
              "      background-color: #E2EBFA;\n",
              "      box-shadow: 0px 1px 2px rgba(60, 64, 67, 0.3), 0px 1px 3px 1px rgba(60, 64, 67, 0.15);\n",
              "      fill: #174EA6;\n",
              "    }\n",
              "\n",
              "    .colab-df-buttons div {\n",
              "      margin-bottom: 4px;\n",
              "    }\n",
              "\n",
              "    [theme=dark] .colab-df-convert {\n",
              "      background-color: #3B4455;\n",
              "      fill: #D2E3FC;\n",
              "    }\n",
              "\n",
              "    [theme=dark] .colab-df-convert:hover {\n",
              "      background-color: #434B5C;\n",
              "      box-shadow: 0px 1px 3px 1px rgba(0, 0, 0, 0.15);\n",
              "      filter: drop-shadow(0px 1px 2px rgba(0, 0, 0, 0.3));\n",
              "      fill: #FFFFFF;\n",
              "    }\n",
              "  </style>\n",
              "\n",
              "    <script>\n",
              "      const buttonEl =\n",
              "        document.querySelector('#df-81f684dc-5a21-48d7-9e75-12a0fff0d76e button.colab-df-convert');\n",
              "      buttonEl.style.display =\n",
              "        google.colab.kernel.accessAllowed ? 'block' : 'none';\n",
              "\n",
              "      async function convertToInteractive(key) {\n",
              "        const element = document.querySelector('#df-81f684dc-5a21-48d7-9e75-12a0fff0d76e');\n",
              "        const dataTable =\n",
              "          await google.colab.kernel.invokeFunction('convertToInteractive',\n",
              "                                                    [key], {});\n",
              "        if (!dataTable) return;\n",
              "\n",
              "        const docLinkHtml = 'Like what you see? Visit the ' +\n",
              "          '<a target=\"_blank\" href=https://colab.research.google.com/notebooks/data_table.ipynb>data table notebook</a>'\n",
              "          + ' to learn more about interactive tables.';\n",
              "        element.innerHTML = '';\n",
              "        dataTable['output_type'] = 'display_data';\n",
              "        await google.colab.output.renderOutput(dataTable, element);\n",
              "        const docLink = document.createElement('div');\n",
              "        docLink.innerHTML = docLinkHtml;\n",
              "        element.appendChild(docLink);\n",
              "      }\n",
              "    </script>\n",
              "  </div>\n",
              "\n",
              "\n",
              "<div id=\"df-d3bb94e9-3d37-4ce9-b23e-5b0ec48f1408\">\n",
              "  <button class=\"colab-df-quickchart\" onclick=\"quickchart('df-d3bb94e9-3d37-4ce9-b23e-5b0ec48f1408')\"\n",
              "            title=\"Suggest charts\"\n",
              "            style=\"display:none;\">\n",
              "\n",
              "<svg xmlns=\"http://www.w3.org/2000/svg\" height=\"24px\"viewBox=\"0 0 24 24\"\n",
              "     width=\"24px\">\n",
              "    <g>\n",
              "        <path d=\"M19 3H5c-1.1 0-2 .9-2 2v14c0 1.1.9 2 2 2h14c1.1 0 2-.9 2-2V5c0-1.1-.9-2-2-2zM9 17H7v-7h2v7zm4 0h-2V7h2v10zm4 0h-2v-4h2v4z\"/>\n",
              "    </g>\n",
              "</svg>\n",
              "  </button>\n",
              "\n",
              "<style>\n",
              "  .colab-df-quickchart {\n",
              "      --bg-color: #E8F0FE;\n",
              "      --fill-color: #1967D2;\n",
              "      --hover-bg-color: #E2EBFA;\n",
              "      --hover-fill-color: #174EA6;\n",
              "      --disabled-fill-color: #AAA;\n",
              "      --disabled-bg-color: #DDD;\n",
              "  }\n",
              "\n",
              "  [theme=dark] .colab-df-quickchart {\n",
              "      --bg-color: #3B4455;\n",
              "      --fill-color: #D2E3FC;\n",
              "      --hover-bg-color: #434B5C;\n",
              "      --hover-fill-color: #FFFFFF;\n",
              "      --disabled-bg-color: #3B4455;\n",
              "      --disabled-fill-color: #666;\n",
              "  }\n",
              "\n",
              "  .colab-df-quickchart {\n",
              "    background-color: var(--bg-color);\n",
              "    border: none;\n",
              "    border-radius: 50%;\n",
              "    cursor: pointer;\n",
              "    display: none;\n",
              "    fill: var(--fill-color);\n",
              "    height: 32px;\n",
              "    padding: 0;\n",
              "    width: 32px;\n",
              "  }\n",
              "\n",
              "  .colab-df-quickchart:hover {\n",
              "    background-color: var(--hover-bg-color);\n",
              "    box-shadow: 0 1px 2px rgba(60, 64, 67, 0.3), 0 1px 3px 1px rgba(60, 64, 67, 0.15);\n",
              "    fill: var(--button-hover-fill-color);\n",
              "  }\n",
              "\n",
              "  .colab-df-quickchart-complete:disabled,\n",
              "  .colab-df-quickchart-complete:disabled:hover {\n",
              "    background-color: var(--disabled-bg-color);\n",
              "    fill: var(--disabled-fill-color);\n",
              "    box-shadow: none;\n",
              "  }\n",
              "\n",
              "  .colab-df-spinner {\n",
              "    border: 2px solid var(--fill-color);\n",
              "    border-color: transparent;\n",
              "    border-bottom-color: var(--fill-color);\n",
              "    animation:\n",
              "      spin 1s steps(1) infinite;\n",
              "  }\n",
              "\n",
              "  @keyframes spin {\n",
              "    0% {\n",
              "      border-color: transparent;\n",
              "      border-bottom-color: var(--fill-color);\n",
              "      border-left-color: var(--fill-color);\n",
              "    }\n",
              "    20% {\n",
              "      border-color: transparent;\n",
              "      border-left-color: var(--fill-color);\n",
              "      border-top-color: var(--fill-color);\n",
              "    }\n",
              "    30% {\n",
              "      border-color: transparent;\n",
              "      border-left-color: var(--fill-color);\n",
              "      border-top-color: var(--fill-color);\n",
              "      border-right-color: var(--fill-color);\n",
              "    }\n",
              "    40% {\n",
              "      border-color: transparent;\n",
              "      border-right-color: var(--fill-color);\n",
              "      border-top-color: var(--fill-color);\n",
              "    }\n",
              "    60% {\n",
              "      border-color: transparent;\n",
              "      border-right-color: var(--fill-color);\n",
              "    }\n",
              "    80% {\n",
              "      border-color: transparent;\n",
              "      border-right-color: var(--fill-color);\n",
              "      border-bottom-color: var(--fill-color);\n",
              "    }\n",
              "    90% {\n",
              "      border-color: transparent;\n",
              "      border-bottom-color: var(--fill-color);\n",
              "    }\n",
              "  }\n",
              "</style>\n",
              "\n",
              "  <script>\n",
              "    async function quickchart(key) {\n",
              "      const quickchartButtonEl =\n",
              "        document.querySelector('#' + key + ' button');\n",
              "      quickchartButtonEl.disabled = true;  // To prevent multiple clicks.\n",
              "      quickchartButtonEl.classList.add('colab-df-spinner');\n",
              "      try {\n",
              "        const charts = await google.colab.kernel.invokeFunction(\n",
              "            'suggestCharts', [key], {});\n",
              "      } catch (error) {\n",
              "        console.error('Error during call to suggestCharts:', error);\n",
              "      }\n",
              "      quickchartButtonEl.classList.remove('colab-df-spinner');\n",
              "      quickchartButtonEl.classList.add('colab-df-quickchart-complete');\n",
              "    }\n",
              "    (() => {\n",
              "      let quickchartButtonEl =\n",
              "        document.querySelector('#df-d3bb94e9-3d37-4ce9-b23e-5b0ec48f1408 button');\n",
              "      quickchartButtonEl.style.display =\n",
              "        google.colab.kernel.accessAllowed ? 'block' : 'none';\n",
              "    })();\n",
              "  </script>\n",
              "</div>\n",
              "\n",
              "  <div id=\"id_a7777d8a-17df-454c-bdd0-0616dd0b0544\">\n",
              "    <style>\n",
              "      .colab-df-generate {\n",
              "        background-color: #E8F0FE;\n",
              "        border: none;\n",
              "        border-radius: 50%;\n",
              "        cursor: pointer;\n",
              "        display: none;\n",
              "        fill: #1967D2;\n",
              "        height: 32px;\n",
              "        padding: 0 0 0 0;\n",
              "        width: 32px;\n",
              "      }\n",
              "\n",
              "      .colab-df-generate:hover {\n",
              "        background-color: #E2EBFA;\n",
              "        box-shadow: 0px 1px 2px rgba(60, 64, 67, 0.3), 0px 1px 3px 1px rgba(60, 64, 67, 0.15);\n",
              "        fill: #174EA6;\n",
              "      }\n",
              "\n",
              "      [theme=dark] .colab-df-generate {\n",
              "        background-color: #3B4455;\n",
              "        fill: #D2E3FC;\n",
              "      }\n",
              "\n",
              "      [theme=dark] .colab-df-generate:hover {\n",
              "        background-color: #434B5C;\n",
              "        box-shadow: 0px 1px 3px 1px rgba(0, 0, 0, 0.15);\n",
              "        filter: drop-shadow(0px 1px 2px rgba(0, 0, 0, 0.3));\n",
              "        fill: #FFFFFF;\n",
              "      }\n",
              "    </style>\n",
              "    <button class=\"colab-df-generate\" onclick=\"generateWithVariable('correlations')\"\n",
              "            title=\"Generate code using this dataframe.\"\n",
              "            style=\"display:none;\">\n",
              "\n",
              "  <svg xmlns=\"http://www.w3.org/2000/svg\" height=\"24px\"viewBox=\"0 0 24 24\"\n",
              "       width=\"24px\">\n",
              "    <path d=\"M7,19H8.4L18.45,9,17,7.55,7,17.6ZM5,21V16.75L18.45,3.32a2,2,0,0,1,2.83,0l1.4,1.43a1.91,1.91,0,0,1,.58,1.4,1.91,1.91,0,0,1-.58,1.4L9.25,21ZM18.45,9,17,7.55Zm-12,3A5.31,5.31,0,0,0,4.9,8.1,5.31,5.31,0,0,0,1,6.5,5.31,5.31,0,0,0,4.9,4.9,5.31,5.31,0,0,0,6.5,1,5.31,5.31,0,0,0,8.1,4.9,5.31,5.31,0,0,0,12,6.5,5.46,5.46,0,0,0,6.5,12Z\"/>\n",
              "  </svg>\n",
              "    </button>\n",
              "    <script>\n",
              "      (() => {\n",
              "      const buttonEl =\n",
              "        document.querySelector('#id_a7777d8a-17df-454c-bdd0-0616dd0b0544 button.colab-df-generate');\n",
              "      buttonEl.style.display =\n",
              "        google.colab.kernel.accessAllowed ? 'block' : 'none';\n",
              "\n",
              "      buttonEl.onclick = () => {\n",
              "        google.colab.notebook.generateWithVariable('correlations');\n",
              "      }\n",
              "      })();\n",
              "    </script>\n",
              "  </div>\n",
              "\n",
              "    </div>\n",
              "  </div>\n"
            ],
            "application/vnd.google.colaboratory.intrinsic+json": {
              "type": "dataframe",
              "variable_name": "correlations"
            }
          },
          "metadata": {},
          "execution_count": 318
        }
      ],
      "source": [
        "correlations = df_train.select_dtypes('number').drop(columns=\"Target Pressure (bar)\").corr()\n",
        "correlations"
      ]
    },
    {
      "cell_type": "code",
      "execution_count": null,
      "id": "FBlF7A7n0qFy",
      "metadata": {
        "colab": {
          "base_uri": "https://localhost:8080/",
          "height": 660
        },
        "id": "FBlF7A7n0qFy",
        "outputId": "7880af1f-136f-4c06-d114-3acb15752772"
      },
      "outputs": [
        {
          "output_type": "execute_result",
          "data": {
            "text/plain": [
              "<Axes: >"
            ]
          },
          "metadata": {},
          "execution_count": 322
        },
        {
          "output_type": "display_data",
          "data": {
            "text/plain": [
              "<Figure size 640x480 with 2 Axes>"
            ],
            "image/png": "[encoded data removed]"
          },
          "metadata": {}
        }
      ],
      "source": [
        "sns.heatmap(df.drop(columns=['ID', 'Liquid Temperature (K)', 'Liquid Critical Temperature (K)', \"Target Pressure (bar)\", \"Status\", 'Liquid Critical Pressure (bar)', 'Liquid Critical Temperature (K)', 'Liquid Boiling Temperature (K)', 'Tank Width (m)', 'Tank Length (m)', 'Tank Height (m)']).corr())"
      ]
    },
    {
      "cell_type": "code",
      "source": [
        " sensor_corr_target = df_train[\"Target Pressure (bar)\"].corr(df_train[\"Sensor Position z\"])\n",
        " obstacle_ang_corr_target = df_train[\"Target Pressure (bar)\"].corr(df_train[\"Obstacle Height (m)\"])\n",
        " print(f\"OBS: {abs(obstacle_ang_corr_target)}\\nSensor : {abs(sensor_corr_target)}\")"
      ],
      "metadata": {
        "colab": {
          "base_uri": "https://localhost:8080/"
        },
        "id": "xcpHa5x5apKx",
        "outputId": "5d89a57d-0185-4e29-ad9e-59c06d2abf2c"
      },
      "id": "xcpHa5x5apKx",
      "execution_count": null,
      "outputs": [
        {
          "output_type": "stream",
          "name": "stdout",
          "text": [
            "OBS: 0.11327910498566277\n",
            "Sensor : 0.19523375991230105\n"
          ]
        }
      ]
    },
    {
      "cell_type": "markdown",
      "id": "1e7d3223-c168-4392-98a2-0d454efabf27",
      "metadata": {
        "id": "1e7d3223-c168-4392-98a2-0d454efabf27"
      },
      "source": [
        "[link text](https://)##   EXPLORATORY DATA ANALYSIS"
      ]
    },
    {
      "cell_type": "code",
      "execution_count": null,
      "id": "ade6819f-eba5-435f-87a7-8f6ca1a2b90b",
      "metadata": {
        "colab": {
          "base_uri": "https://localhost:8080/",
          "height": 308
        },
        "id": "ade6819f-eba5-435f-87a7-8f6ca1a2b90b",
        "outputId": "1da2e9f9-d6f9-49eb-8fda-c49abe744bc6"
      },
      "outputs": [
        {
          "output_type": "execute_result",
          "data": {
            "text/plain": [
              "       ID  Tank Failure Pressure (bar)  Liquid Ratio (%)  Tank Width (m)  \\\n",
              "0  3203.0                         7.32              0.42            2.42   \n",
              "1  3204.0                         7.18              0.42            2.39   \n",
              "2  3205.0                         7.32              0.41            2.39   \n",
              "3  3206.0                         7.26              0.42            2.40   \n",
              "4  3207.0                         7.32              0.42            2.40   \n",
              "\n",
              "   Tank Length (m)  Tank Height (m)  BLEVE Height (m)  Vapour Height (m)  \\\n",
              "0             5.39             1.00              1.79               0.60   \n",
              "1             5.39             1.01              1.81               0.59   \n",
              "2             5.38             1.00              1.78               0.62   \n",
              "3             5.41             1.00              1.81               0.61   \n",
              "4             5.41             1.02              1.79               0.62   \n",
              "\n",
              "   Vapour Temperature (K)  Liquid Temperature (K)  ...       Status  \\\n",
              "0                  524.61                  354.49  ...  Superheated   \n",
              "1                  522.80                  354.31  ...  Superheated   \n",
              "2                  523.00                  354.59  ...  Superheated   \n",
              "3                  522.35                  354.37  ...  Superheated   \n",
              "4                  522.98                  354.33  ...  Superheated   \n",
              "\n",
              "   Liquid Critical Pressure (bar)  Liquid Boiling Temperature (K)  \\\n",
              "0                            37.9                            -1.0   \n",
              "1                            37.9                            -1.0   \n",
              "2                            37.9                            -1.0   \n",
              "3                            37.9                            -1.0   \n",
              "4                            37.9                            -1.0   \n",
              "\n",
              "   Liquid Critical Temperature (K)  Sensor ID Sensor Position Side  \\\n",
              "0                            152.0       18.0                  2.0   \n",
              "1                            152.0       19.0                  3.0   \n",
              "2                            152.0       20.0                  3.0   \n",
              "3                            152.0       21.0                  3.0   \n",
              "4                            152.0       22.0                  4.0   \n",
              "\n",
              "   Sensor Position x  Sensor Position y  Sensor Position z  \\\n",
              "0              12.15               7.90               10.7   \n",
              "1              12.50              -2.95               -1.9   \n",
              "2              12.50              -2.95                4.4   \n",
              "3              12.50              -2.95               10.7   \n",
              "4              12.50              -2.70               11.0   \n",
              "\n",
              "   Target Pressure (bar)  \n",
              "0               0.199929  \n",
              "1               0.435681  \n",
              "2               0.264031  \n",
              "3               0.270576  \n",
              "4               0.204675  \n",
              "\n",
              "[5 rows x 25 columns]"
            ],
            "text/html": [
              "\n",
              "  <div id=\"df-f03930ea-4264-44df-bc7d-cea015490f09\" class=\"colab-df-container\">\n",
              "    <div>\n",
              "<style scoped>\n",
              "    .dataframe tbody tr th:only-of-type {\n",
              "        vertical-align: middle;\n",
              "    }\n",
              "\n",
              "    .dataframe tbody tr th {\n",
              "        vertical-align: top;\n",
              "    }\n",
              "\n",
              "    .dataframe thead th {\n",
              "        text-align: right;\n",
              "    }\n",
              "</style>\n",
              "<table border=\"1\" class=\"dataframe\">\n",
              "  <thead>\n",
              "    <tr style=\"text-align: right;\">\n",
              "      <th></th>\n",
              "      <th>ID</th>\n",
              "      <th>Tank Failure Pressure (bar)</th>\n",
              "      <th>Liquid Ratio (%)</th>\n",
              "      <th>Tank Width (m)</th>\n",
              "      <th>Tank Length (m)</th>\n",
              "      <th>Tank Height (m)</th>\n",
              "      <th>BLEVE Height (m)</th>\n",
              "      <th>Vapour Height (m)</th>\n",
              "      <th>Vapour Temperature (K)</th>\n",
              "      <th>Liquid Temperature (K)</th>\n",
              "      <th>...</th>\n",
              "      <th>Status</th>\n",
              "      <th>Liquid Critical Pressure (bar)</th>\n",
              "      <th>Liquid Boiling Temperature (K)</th>\n",
              "      <th>Liquid Critical Temperature (K)</th>\n",
              "      <th>Sensor ID</th>\n",
              "      <th>Sensor Position Side</th>\n",
              "      <th>Sensor Position x</th>\n",
              "      <th>Sensor Position y</th>\n",
              "      <th>Sensor Position z</th>\n",
              "      <th>Target Pressure (bar)</th>\n",
              "    </tr>\n",
              "  </thead>\n",
              "  <tbody>\n",
              "    <tr>\n",
              "      <th>0</th>\n",
              "      <td>3203.0</td>\n",
              "      <td>7.32</td>\n",
              "      <td>0.42</td>\n",
              "      <td>2.42</td>\n",
              "      <td>5.39</td>\n",
              "      <td>1.00</td>\n",
              "      <td>1.79</td>\n",
              "      <td>0.60</td>\n",
              "      <td>524.61</td>\n",
              "      <td>354.49</td>\n",
              "      <td>...</td>\n",
              "      <td>Superheated</td>\n",
              "      <td>37.9</td>\n",
              "      <td>-1.0</td>\n",
              "      <td>152.0</td>\n",
              "      <td>18.0</td>\n",
              "      <td>2.0</td>\n",
              "      <td>12.15</td>\n",
              "      <td>7.90</td>\n",
              "      <td>10.7</td>\n",
              "      <td>0.199929</td>\n",
              "    </tr>\n",
              "    <tr>\n",
              "      <th>1</th>\n",
              "      <td>3204.0</td>\n",
              "      <td>7.18</td>\n",
              "      <td>0.42</td>\n",
              "      <td>2.39</td>\n",
              "      <td>5.39</td>\n",
              "      <td>1.01</td>\n",
              "      <td>1.81</td>\n",
              "      <td>0.59</td>\n",
              "      <td>522.80</td>\n",
              "      <td>354.31</td>\n",
              "      <td>...</td>\n",
              "      <td>Superheated</td>\n",
              "      <td>37.9</td>\n",
              "      <td>-1.0</td>\n",
              "      <td>152.0</td>\n",
              "      <td>19.0</td>\n",
              "      <td>3.0</td>\n",
              "      <td>12.50</td>\n",
              "      <td>-2.95</td>\n",
              "      <td>-1.9</td>\n",
              "      <td>0.435681</td>\n",
              "    </tr>\n",
              "    <tr>\n",
              "      <th>2</th>\n",
              "      <td>3205.0</td>\n",
              "      <td>7.32</td>\n",
              "      <td>0.41</td>\n",
              "      <td>2.39</td>\n",
              "      <td>5.38</td>\n",
              "      <td>1.00</td>\n",
              "      <td>1.78</td>\n",
              "      <td>0.62</td>\n",
              "      <td>523.00</td>\n",
              "      <td>354.59</td>\n",
              "      <td>...</td>\n",
              "      <td>Superheated</td>\n",
              "      <td>37.9</td>\n",
              "      <td>-1.0</td>\n",
              "      <td>152.0</td>\n",
              "      <td>20.0</td>\n",
              "      <td>3.0</td>\n",
              "      <td>12.50</td>\n",
              "      <td>-2.95</td>\n",
              "      <td>4.4</td>\n",
              "      <td>0.264031</td>\n",
              "    </tr>\n",
              "    <tr>\n",
              "      <th>3</th>\n",
              "      <td>3206.0</td>\n",
              "      <td>7.26</td>\n",
              "      <td>0.42</td>\n",
              "      <td>2.40</td>\n",
              "      <td>5.41</td>\n",
              "      <td>1.00</td>\n",
              "      <td>1.81</td>\n",
              "      <td>0.61</td>\n",
              "      <td>522.35</td>\n",
              "      <td>354.37</td>\n",
              "      <td>...</td>\n",
              "      <td>Superheated</td>\n",
              "      <td>37.9</td>\n",
              "      <td>-1.0</td>\n",
              "      <td>152.0</td>\n",
              "      <td>21.0</td>\n",
              "      <td>3.0</td>\n",
              "      <td>12.50</td>\n",
              "      <td>-2.95</td>\n",
              "      <td>10.7</td>\n",
              "      <td>0.270576</td>\n",
              "    </tr>\n",
              "    <tr>\n",
              "      <th>4</th>\n",
              "      <td>3207.0</td>\n",
              "      <td>7.32</td>\n",
              "      <td>0.42</td>\n",
              "      <td>2.40</td>\n",
              "      <td>5.41</td>\n",
              "      <td>1.02</td>\n",
              "      <td>1.79</td>\n",
              "      <td>0.62</td>\n",
              "      <td>522.98</td>\n",
              "      <td>354.33</td>\n",
              "      <td>...</td>\n",
              "      <td>Superheated</td>\n",
              "      <td>37.9</td>\n",
              "      <td>-1.0</td>\n",
              "      <td>152.0</td>\n",
              "      <td>22.0</td>\n",
              "      <td>4.0</td>\n",
              "      <td>12.50</td>\n",
              "      <td>-2.70</td>\n",
              "      <td>11.0</td>\n",
              "      <td>0.204675</td>\n",
              "    </tr>\n",
              "  </tbody>\n",
              "</table>\n",
              "<p>5 rows × 25 columns</p>\n",
              "</div>\n",
              "    <div class=\"colab-df-buttons\">\n",
              "\n",
              "  <div class=\"colab-df-container\">\n",
              "    <button class=\"colab-df-convert\" onclick=\"convertToInteractive('df-f03930ea-4264-44df-bc7d-cea015490f09')\"\n",
              "            title=\"Convert this dataframe to an interactive table.\"\n",
              "            style=\"display:none;\">\n",
              "\n",
              "  <svg xmlns=\"http://www.w3.org/2000/svg\" height=\"24px\" viewBox=\"0 -960 960 960\">\n",
              "    <path d=\"M120-120v-720h720v720H120Zm60-500h600v-160H180v160Zm220 220h160v-160H400v160Zm0 220h160v-160H400v160ZM180-400h160v-160H180v160Zm440 0h160v-160H620v160ZM180-180h160v-160H180v160Zm440 0h160v-160H620v160Z\"/>\n",
              "  </svg>\n",
              "    </button>\n",
              "\n",
              "  <style>\n",
              "    .colab-df-container {\n",
              "      display:flex;\n",
              "      gap: 12px;\n",
              "    }\n",
              "\n",
              "    .colab-df-convert {\n",
              "      background-color: #E8F0FE;\n",
              "      border: none;\n",
              "      border-radius: 50%;\n",
              "      cursor: pointer;\n",
              "      display: none;\n",
              "      fill: #1967D2;\n",
              "      height: 32px;\n",
              "      padding: 0 0 0 0;\n",
              "      width: 32px;\n",
              "    }\n",
              "\n",
              "    .colab-df-convert:hover {\n",
              "      background-color: #E2EBFA;\n",
              "      box-shadow: 0px 1px 2px rgba(60, 64, 67, 0.3), 0px 1px 3px 1px rgba(60, 64, 67, 0.15);\n",
              "      fill: #174EA6;\n",
              "    }\n",
              "\n",
              "    .colab-df-buttons div {\n",
              "      margin-bottom: 4px;\n",
              "    }\n",
              "\n",
              "    [theme=dark] .colab-df-convert {\n",
              "      background-color: #3B4455;\n",
              "      fill: #D2E3FC;\n",
              "    }\n",
              "\n",
              "    [theme=dark] .colab-df-convert:hover {\n",
              "      background-color: #434B5C;\n",
              "      box-shadow: 0px 1px 3px 1px rgba(0, 0, 0, 0.15);\n",
              "      filter: drop-shadow(0px 1px 2px rgba(0, 0, 0, 0.3));\n",
              "      fill: #FFFFFF;\n",
              "    }\n",
              "  </style>\n",
              "\n",
              "    <script>\n",
              "      const buttonEl =\n",
              "        document.querySelector('#df-f03930ea-4264-44df-bc7d-cea015490f09 button.colab-df-convert');\n",
              "      buttonEl.style.display =\n",
              "        google.colab.kernel.accessAllowed ? 'block' : 'none';\n",
              "\n",
              "      async function convertToInteractive(key) {\n",
              "        const element = document.querySelector('#df-f03930ea-4264-44df-bc7d-cea015490f09');\n",
              "        const dataTable =\n",
              "          await google.colab.kernel.invokeFunction('convertToInteractive',\n",
              "                                                    [key], {});\n",
              "        if (!dataTable) return;\n",
              "\n",
              "        const docLinkHtml = 'Like what you see? Visit the ' +\n",
              "          '<a target=\"_blank\" href=https://colab.research.google.com/notebooks/data_table.ipynb>data table notebook</a>'\n",
              "          + ' to learn more about interactive tables.';\n",
              "        element.innerHTML = '';\n",
              "        dataTable['output_type'] = 'display_data';\n",
              "        await google.colab.output.renderOutput(dataTable, element);\n",
              "        const docLink = document.createElement('div');\n",
              "        docLink.innerHTML = docLinkHtml;\n",
              "        element.appendChild(docLink);\n",
              "      }\n",
              "    </script>\n",
              "  </div>\n",
              "\n",
              "\n",
              "<div id=\"df-c3337d11-1b0c-44a9-8e8f-cc272d072b7a\">\n",
              "  <button class=\"colab-df-quickchart\" onclick=\"quickchart('df-c3337d11-1b0c-44a9-8e8f-cc272d072b7a')\"\n",
              "            title=\"Suggest charts\"\n",
              "            style=\"display:none;\">\n",
              "\n",
              "<svg xmlns=\"http://www.w3.org/2000/svg\" height=\"24px\"viewBox=\"0 0 24 24\"\n",
              "     width=\"24px\">\n",
              "    <g>\n",
              "        <path d=\"M19 3H5c-1.1 0-2 .9-2 2v14c0 1.1.9 2 2 2h14c1.1 0 2-.9 2-2V5c0-1.1-.9-2-2-2zM9 17H7v-7h2v7zm4 0h-2V7h2v10zm4 0h-2v-4h2v4z\"/>\n",
              "    </g>\n",
              "</svg>\n",
              "  </button>\n",
              "\n",
              "<style>\n",
              "  .colab-df-quickchart {\n",
              "      --bg-color: #E8F0FE;\n",
              "      --fill-color: #1967D2;\n",
              "      --hover-bg-color: #E2EBFA;\n",
              "      --hover-fill-color: #174EA6;\n",
              "      --disabled-fill-color: #AAA;\n",
              "      --disabled-bg-color: #DDD;\n",
              "  }\n",
              "\n",
              "  [theme=dark] .colab-df-quickchart {\n",
              "      --bg-color: #3B4455;\n",
              "      --fill-color: #D2E3FC;\n",
              "      --hover-bg-color: #434B5C;\n",
              "      --hover-fill-color: #FFFFFF;\n",
              "      --disabled-bg-color: #3B4455;\n",
              "      --disabled-fill-color: #666;\n",
              "  }\n",
              "\n",
              "  .colab-df-quickchart {\n",
              "    background-color: var(--bg-color);\n",
              "    border: none;\n",
              "    border-radius: 50%;\n",
              "    cursor: pointer;\n",
              "    display: none;\n",
              "    fill: var(--fill-color);\n",
              "    height: 32px;\n",
              "    padding: 0;\n",
              "    width: 32px;\n",
              "  }\n",
              "\n",
              "  .colab-df-quickchart:hover {\n",
              "    background-color: var(--hover-bg-color);\n",
              "    box-shadow: 0 1px 2px rgba(60, 64, 67, 0.3), 0 1px 3px 1px rgba(60, 64, 67, 0.15);\n",
              "    fill: var(--button-hover-fill-color);\n",
              "  }\n",
              "\n",
              "  .colab-df-quickchart-complete:disabled,\n",
              "  .colab-df-quickchart-complete:disabled:hover {\n",
              "    background-color: var(--disabled-bg-color);\n",
              "    fill: var(--disabled-fill-color);\n",
              "    box-shadow: none;\n",
              "  }\n",
              "\n",
              "  .colab-df-spinner {\n",
              "    border: 2px solid var(--fill-color);\n",
              "    border-color: transparent;\n",
              "    border-bottom-color: var(--fill-color);\n",
              "    animation:\n",
              "      spin 1s steps(1) infinite;\n",
              "  }\n",
              "\n",
              "  @keyframes spin {\n",
              "    0% {\n",
              "      border-color: transparent;\n",
              "      border-bottom-color: var(--fill-color);\n",
              "      border-left-color: var(--fill-color);\n",
              "    }\n",
              "    20% {\n",
              "      border-color: transparent;\n",
              "      border-left-color: var(--fill-color);\n",
              "      border-top-color: var(--fill-color);\n",
              "    }\n",
              "    30% {\n",
              "      border-color: transparent;\n",
              "      border-left-color: var(--fill-color);\n",
              "      border-top-color: var(--fill-color);\n",
              "      border-right-color: var(--fill-color);\n",
              "    }\n",
              "    40% {\n",
              "      border-color: transparent;\n",
              "      border-right-color: var(--fill-color);\n",
              "      border-top-color: var(--fill-color);\n",
              "    }\n",
              "    60% {\n",
              "      border-color: transparent;\n",
              "      border-right-color: var(--fill-color);\n",
              "    }\n",
              "    80% {\n",
              "      border-color: transparent;\n",
              "      border-right-color: var(--fill-color);\n",
              "      border-bottom-color: var(--fill-color);\n",
              "    }\n",
              "    90% {\n",
              "      border-color: transparent;\n",
              "      border-bottom-color: var(--fill-color);\n",
              "    }\n",
              "  }\n",
              "</style>\n",
              "\n",
              "  <script>\n",
              "    async function quickchart(key) {\n",
              "      const quickchartButtonEl =\n",
              "        document.querySelector('#' + key + ' button');\n",
              "      quickchartButtonEl.disabled = true;  // To prevent multiple clicks.\n",
              "      quickchartButtonEl.classList.add('colab-df-spinner');\n",
              "      try {\n",
              "        const charts = await google.colab.kernel.invokeFunction(\n",
              "            'suggestCharts', [key], {});\n",
              "      } catch (error) {\n",
              "        console.error('Error during call to suggestCharts:', error);\n",
              "      }\n",
              "      quickchartButtonEl.classList.remove('colab-df-spinner');\n",
              "      quickchartButtonEl.classList.add('colab-df-quickchart-complete');\n",
              "    }\n",
              "    (() => {\n",
              "      let quickchartButtonEl =\n",
              "        document.querySelector('#df-c3337d11-1b0c-44a9-8e8f-cc272d072b7a button');\n",
              "      quickchartButtonEl.style.display =\n",
              "        google.colab.kernel.accessAllowed ? 'block' : 'none';\n",
              "    })();\n",
              "  </script>\n",
              "</div>\n",
              "\n",
              "    </div>\n",
              "  </div>\n"
            ],
            "application/vnd.google.colaboratory.intrinsic+json": {
              "type": "dataframe",
              "variable_name": "df_train"
            }
          },
          "metadata": {},
          "execution_count": 16
        }
      ],
      "source": [
        "df_train.head(5)"
      ]
    },
    {
      "cell_type": "code",
      "source": [
        "df.describe()"
      ],
      "metadata": {
        "colab": {
          "base_uri": "https://localhost:8080/",
          "height": 402
        },
        "id": "sBvgDsfqeYJp",
        "outputId": "b795714d-2a78-414b-b5e3-8dbef6afd2dd"
      },
      "id": "sBvgDsfqeYJp",
      "execution_count": null,
      "outputs": [
        {
          "output_type": "execute_result",
          "data": {
            "text/plain": [
              "                 ID  Tank Failure Pressure (bar)  Liquid Ratio (%)  \\\n",
              "count   9938.000000                  9938.000000       9938.000000   \n",
              "mean    8208.699940                    38.053169          0.504293   \n",
              "std     2887.356782                   226.815926          0.228206   \n",
              "min     3203.000000                     4.920000          0.100000   \n",
              "25%     5708.250000                    13.722500          0.300000   \n",
              "50%     8218.500000                    22.910000          0.510000   \n",
              "75%    10709.750000                    32.170000          0.700000   \n",
              "max    13202.000000                  4995.616406          0.900000   \n",
              "\n",
              "       Tank Width (m)  Tank Length (m)  Tank Height (m)  BLEVE Height (m)  \\\n",
              "count     9938.000000      9938.000000      9938.000000       9938.000000   \n",
              "mean         1.697288         5.597544         1.674832          1.023489   \n",
              "std          0.765072         2.596565         0.751315          0.575309   \n",
              "min          0.380000         0.580000         0.380000         -0.020000   \n",
              "25%          1.010000         3.380000         1.010000          0.590000   \n",
              "50%          1.620000         5.620000         1.610000          1.010000   \n",
              "75%          2.390000         7.810000         2.390000          1.580000   \n",
              "max          3.020000        10.020000         3.020000          2.020000   \n",
              "\n",
              "       Vapour Height (m)  Vapour Temperature (K)  Liquid Temperature (K)  ...  \\\n",
              "count        9938.000000             9938.000000             9938.000000  ...   \n",
              "mean            0.846147              396.693613              343.432768  ...   \n",
              "std             0.536492               71.827333               35.552257  ...   \n",
              "min             0.180000              281.210000              282.950000  ...   \n",
              "25%             0.400000              336.620000              312.780000  ...   \n",
              "50%             0.780000              386.690000              342.320000  ...   \n",
              "75%             1.200000              441.865000              365.310000  ...   \n",
              "max             2.620000              573.300000              424.600000  ...   \n",
              "\n",
              "       Liquid Critical Pressure (bar)  Liquid Boiling Temperature (K)  \\\n",
              "count                     9938.000000                     9938.000000   \n",
              "mean                        40.101409                      -20.621252   \n",
              "std                          2.298002                       20.482188   \n",
              "min                         37.900000                      -42.000000   \n",
              "25%                         37.900000                      -42.000000   \n",
              "50%                         37.900000                       -1.000000   \n",
              "75%                         42.500000                       -1.000000   \n",
              "max                         42.500000                       -1.000000   \n",
              "\n",
              "       Liquid Critical Temperature (K)    Sensor ID  Sensor Position Side  \\\n",
              "count                      9938.000000  9938.000000           9938.000000   \n",
              "mean                        125.535238    14.012679              2.335983   \n",
              "std                          27.625975     7.792586              1.334818   \n",
              "min                          96.700000     1.000000              1.000000   \n",
              "25%                          96.700000     7.000000              1.000000   \n",
              "50%                         152.000000    14.000000              2.000000   \n",
              "75%                         152.000000    21.000000              3.000000   \n",
              "max                         152.000000    27.000000              5.000000   \n",
              "\n",
              "       Sensor Position x  Sensor Position y  Sensor Position z  \\\n",
              "count        9938.000000        9938.000000        9938.000000   \n",
              "mean           12.907455           2.987482           3.078909   \n",
              "std             4.156818           4.710582           4.211543   \n",
              "min             5.150000          -9.050000          -2.800000   \n",
              "25%             9.300000          -0.150000          -0.600000   \n",
              "50%            12.725000           2.800000           2.300000   \n",
              "75%            16.150000           6.400000           5.300000   \n",
              "max            23.750000          19.550000          16.700000   \n",
              "\n",
              "       Target Pressure (bar)      Cluster  \n",
              "count            9938.000000  9938.000000  \n",
              "mean                0.360653     0.686557  \n",
              "std                 0.496481     0.737488  \n",
              "min                 0.016098     0.000000  \n",
              "25%                 0.102253     0.000000  \n",
              "50%                 0.206182     1.000000  \n",
              "75%                 0.412276     1.000000  \n",
              "max                 9.170477     3.000000  \n",
              "\n",
              "[8 rows x 26 columns]"
            ],
            "text/html": [
              "\n",
              "  <div id=\"df-61c049b3-999b-4b2a-88e7-ec9199b6cf22\" class=\"colab-df-container\">\n",
              "    <div>\n",
              "<style scoped>\n",
              "    .dataframe tbody tr th:only-of-type {\n",
              "        vertical-align: middle;\n",
              "    }\n",
              "\n",
              "    .dataframe tbody tr th {\n",
              "        vertical-align: top;\n",
              "    }\n",
              "\n",
              "    .dataframe thead th {\n",
              "        text-align: right;\n",
              "    }\n",
              "</style>\n",
              "<table border=\"1\" class=\"dataframe\">\n",
              "  <thead>\n",
              "    <tr style=\"text-align: right;\">\n",
              "      <th></th>\n",
              "      <th>ID</th>\n",
              "      <th>Tank Failure Pressure (bar)</th>\n",
              "      <th>Liquid Ratio (%)</th>\n",
              "      <th>Tank Width (m)</th>\n",
              "      <th>Tank Length (m)</th>\n",
              "      <th>Tank Height (m)</th>\n",
              "      <th>BLEVE Height (m)</th>\n",
              "      <th>Vapour Height (m)</th>\n",
              "      <th>Vapour Temperature (K)</th>\n",
              "      <th>Liquid Temperature (K)</th>\n",
              "      <th>...</th>\n",
              "      <th>Liquid Critical Pressure (bar)</th>\n",
              "      <th>Liquid Boiling Temperature (K)</th>\n",
              "      <th>Liquid Critical Temperature (K)</th>\n",
              "      <th>Sensor ID</th>\n",
              "      <th>Sensor Position Side</th>\n",
              "      <th>Sensor Position x</th>\n",
              "      <th>Sensor Position y</th>\n",
              "      <th>Sensor Position z</th>\n",
              "      <th>Target Pressure (bar)</th>\n",
              "      <th>Cluster</th>\n",
              "    </tr>\n",
              "  </thead>\n",
              "  <tbody>\n",
              "    <tr>\n",
              "      <th>count</th>\n",
              "      <td>9938.000000</td>\n",
              "      <td>9938.000000</td>\n",
              "      <td>9938.000000</td>\n",
              "      <td>9938.000000</td>\n",
              "      <td>9938.000000</td>\n",
              "      <td>9938.000000</td>\n",
              "      <td>9938.000000</td>\n",
              "      <td>9938.000000</td>\n",
              "      <td>9938.000000</td>\n",
              "      <td>9938.000000</td>\n",
              "      <td>...</td>\n",
              "      <td>9938.000000</td>\n",
              "      <td>9938.000000</td>\n",
              "      <td>9938.000000</td>\n",
              "      <td>9938.000000</td>\n",
              "      <td>9938.000000</td>\n",
              "      <td>9938.000000</td>\n",
              "      <td>9938.000000</td>\n",
              "      <td>9938.000000</td>\n",
              "      <td>9938.000000</td>\n",
              "      <td>9938.000000</td>\n",
              "    </tr>\n",
              "    <tr>\n",
              "      <th>mean</th>\n",
              "      <td>8208.699940</td>\n",
              "      <td>38.053169</td>\n",
              "      <td>0.504293</td>\n",
              "      <td>1.697288</td>\n",
              "      <td>5.597544</td>\n",
              "      <td>1.674832</td>\n",
              "      <td>1.023489</td>\n",
              "      <td>0.846147</td>\n",
              "      <td>396.693613</td>\n",
              "      <td>343.432768</td>\n",
              "      <td>...</td>\n",
              "      <td>40.101409</td>\n",
              "      <td>-20.621252</td>\n",
              "      <td>125.535238</td>\n",
              "      <td>14.012679</td>\n",
              "      <td>2.335983</td>\n",
              "      <td>12.907455</td>\n",
              "      <td>2.987482</td>\n",
              "      <td>3.078909</td>\n",
              "      <td>0.360653</td>\n",
              "      <td>0.686557</td>\n",
              "    </tr>\n",
              "    <tr>\n",
              "      <th>std</th>\n",
              "      <td>2887.356782</td>\n",
              "      <td>226.815926</td>\n",
              "      <td>0.228206</td>\n",
              "      <td>0.765072</td>\n",
              "      <td>2.596565</td>\n",
              "      <td>0.751315</td>\n",
              "      <td>0.575309</td>\n",
              "      <td>0.536492</td>\n",
              "      <td>71.827333</td>\n",
              "      <td>35.552257</td>\n",
              "      <td>...</td>\n",
              "      <td>2.298002</td>\n",
              "      <td>20.482188</td>\n",
              "      <td>27.625975</td>\n",
              "      <td>7.792586</td>\n",
              "      <td>1.334818</td>\n",
              "      <td>4.156818</td>\n",
              "      <td>4.710582</td>\n",
              "      <td>4.211543</td>\n",
              "      <td>0.496481</td>\n",
              "      <td>0.737488</td>\n",
              "    </tr>\n",
              "    <tr>\n",
              "      <th>min</th>\n",
              "      <td>3203.000000</td>\n",
              "      <td>4.920000</td>\n",
              "      <td>0.100000</td>\n",
              "      <td>0.380000</td>\n",
              "      <td>0.580000</td>\n",
              "      <td>0.380000</td>\n",
              "      <td>-0.020000</td>\n",
              "      <td>0.180000</td>\n",
              "      <td>281.210000</td>\n",
              "      <td>282.950000</td>\n",
              "      <td>...</td>\n",
              "      <td>37.900000</td>\n",
              "      <td>-42.000000</td>\n",
              "      <td>96.700000</td>\n",
              "      <td>1.000000</td>\n",
              "      <td>1.000000</td>\n",
              "      <td>5.150000</td>\n",
              "      <td>-9.050000</td>\n",
              "      <td>-2.800000</td>\n",
              "      <td>0.016098</td>\n",
              "      <td>0.000000</td>\n",
              "    </tr>\n",
              "    <tr>\n",
              "      <th>25%</th>\n",
              "      <td>5708.250000</td>\n",
              "      <td>13.722500</td>\n",
              "      <td>0.300000</td>\n",
              "      <td>1.010000</td>\n",
              "      <td>3.380000</td>\n",
              "      <td>1.010000</td>\n",
              "      <td>0.590000</td>\n",
              "      <td>0.400000</td>\n",
              "      <td>336.620000</td>\n",
              "      <td>312.780000</td>\n",
              "      <td>...</td>\n",
              "      <td>37.900000</td>\n",
              "      <td>-42.000000</td>\n",
              "      <td>96.700000</td>\n",
              "      <td>7.000000</td>\n",
              "      <td>1.000000</td>\n",
              "      <td>9.300000</td>\n",
              "      <td>-0.150000</td>\n",
              "      <td>-0.600000</td>\n",
              "      <td>0.102253</td>\n",
              "      <td>0.000000</td>\n",
              "    </tr>\n",
              "    <tr>\n",
              "      <th>50%</th>\n",
              "      <td>8218.500000</td>\n",
              "      <td>22.910000</td>\n",
              "      <td>0.510000</td>\n",
              "      <td>1.620000</td>\n",
              "      <td>5.620000</td>\n",
              "      <td>1.610000</td>\n",
              "      <td>1.010000</td>\n",
              "      <td>0.780000</td>\n",
              "      <td>386.690000</td>\n",
              "      <td>342.320000</td>\n",
              "      <td>...</td>\n",
              "      <td>37.900000</td>\n",
              "      <td>-1.000000</td>\n",
              "      <td>152.000000</td>\n",
              "      <td>14.000000</td>\n",
              "      <td>2.000000</td>\n",
              "      <td>12.725000</td>\n",
              "      <td>2.800000</td>\n",
              "      <td>2.300000</td>\n",
              "      <td>0.206182</td>\n",
              "      <td>1.000000</td>\n",
              "    </tr>\n",
              "    <tr>\n",
              "      <th>75%</th>\n",
              "      <td>10709.750000</td>\n",
              "      <td>32.170000</td>\n",
              "      <td>0.700000</td>\n",
              "      <td>2.390000</td>\n",
              "      <td>7.810000</td>\n",
              "      <td>2.390000</td>\n",
              "      <td>1.580000</td>\n",
              "      <td>1.200000</td>\n",
              "      <td>441.865000</td>\n",
              "      <td>365.310000</td>\n",
              "      <td>...</td>\n",
              "      <td>42.500000</td>\n",
              "      <td>-1.000000</td>\n",
              "      <td>152.000000</td>\n",
              "      <td>21.000000</td>\n",
              "      <td>3.000000</td>\n",
              "      <td>16.150000</td>\n",
              "      <td>6.400000</td>\n",
              "      <td>5.300000</td>\n",
              "      <td>0.412276</td>\n",
              "      <td>1.000000</td>\n",
              "    </tr>\n",
              "    <tr>\n",
              "      <th>max</th>\n",
              "      <td>13202.000000</td>\n",
              "      <td>4995.616406</td>\n",
              "      <td>0.900000</td>\n",
              "      <td>3.020000</td>\n",
              "      <td>10.020000</td>\n",
              "      <td>3.020000</td>\n",
              "      <td>2.020000</td>\n",
              "      <td>2.620000</td>\n",
              "      <td>573.300000</td>\n",
              "      <td>424.600000</td>\n",
              "      <td>...</td>\n",
              "      <td>42.500000</td>\n",
              "      <td>-1.000000</td>\n",
              "      <td>152.000000</td>\n",
              "      <td>27.000000</td>\n",
              "      <td>5.000000</td>\n",
              "      <td>23.750000</td>\n",
              "      <td>19.550000</td>\n",
              "      <td>16.700000</td>\n",
              "      <td>9.170477</td>\n",
              "      <td>3.000000</td>\n",
              "    </tr>\n",
              "  </tbody>\n",
              "</table>\n",
              "<p>8 rows × 26 columns</p>\n",
              "</div>\n",
              "    <div class=\"colab-df-buttons\">\n",
              "\n",
              "  <div class=\"colab-df-container\">\n",
              "    <button class=\"colab-df-convert\" onclick=\"convertToInteractive('df-61c049b3-999b-4b2a-88e7-ec9199b6cf22')\"\n",
              "            title=\"Convert this dataframe to an interactive table.\"\n",
              "            style=\"display:none;\">\n",
              "\n",
              "  <svg xmlns=\"http://www.w3.org/2000/svg\" height=\"24px\" viewBox=\"0 -960 960 960\">\n",
              "    <path d=\"M120-120v-720h720v720H120Zm60-500h600v-160H180v160Zm220 220h160v-160H400v160Zm0 220h160v-160H400v160ZM180-400h160v-160H180v160Zm440 0h160v-160H620v160ZM180-180h160v-160H180v160Zm440 0h160v-160H620v160Z\"/>\n",
              "  </svg>\n",
              "    </button>\n",
              "\n",
              "  <style>\n",
              "    .colab-df-container {\n",
              "      display:flex;\n",
              "      gap: 12px;\n",
              "    }\n",
              "\n",
              "    .colab-df-convert {\n",
              "      background-color: #E8F0FE;\n",
              "      border: none;\n",
              "      border-radius: 50%;\n",
              "      cursor: pointer;\n",
              "      display: none;\n",
              "      fill: #1967D2;\n",
              "      height: 32px;\n",
              "      padding: 0 0 0 0;\n",
              "      width: 32px;\n",
              "    }\n",
              "\n",
              "    .colab-df-convert:hover {\n",
              "      background-color: #E2EBFA;\n",
              "      box-shadow: 0px 1px 2px rgba(60, 64, 67, 0.3), 0px 1px 3px 1px rgba(60, 64, 67, 0.15);\n",
              "      fill: #174EA6;\n",
              "    }\n",
              "\n",
              "    .colab-df-buttons div {\n",
              "      margin-bottom: 4px;\n",
              "    }\n",
              "\n",
              "    [theme=dark] .colab-df-convert {\n",
              "      background-color: #3B4455;\n",
              "      fill: #D2E3FC;\n",
              "    }\n",
              "\n",
              "    [theme=dark] .colab-df-convert:hover {\n",
              "      background-color: #434B5C;\n",
              "      box-shadow: 0px 1px 3px 1px rgba(0, 0, 0, 0.15);\n",
              "      filter: drop-shadow(0px 1px 2px rgba(0, 0, 0, 0.3));\n",
              "      fill: #FFFFFF;\n",
              "    }\n",
              "  </style>\n",
              "\n",
              "    <script>\n",
              "      const buttonEl =\n",
              "        document.querySelector('#df-61c049b3-999b-4b2a-88e7-ec9199b6cf22 button.colab-df-convert');\n",
              "      buttonEl.style.display =\n",
              "        google.colab.kernel.accessAllowed ? 'block' : 'none';\n",
              "\n",
              "      async function convertToInteractive(key) {\n",
              "        const element = document.querySelector('#df-61c049b3-999b-4b2a-88e7-ec9199b6cf22');\n",
              "        const dataTable =\n",
              "          await google.colab.kernel.invokeFunction('convertToInteractive',\n",
              "                                                    [key], {});\n",
              "        if (!dataTable) return;\n",
              "\n",
              "        const docLinkHtml = 'Like what you see? Visit the ' +\n",
              "          '<a target=\"_blank\" href=https://colab.research.google.com/notebooks/data_table.ipynb>data table notebook</a>'\n",
              "          + ' to learn more about interactive tables.';\n",
              "        element.innerHTML = '';\n",
              "        dataTable['output_type'] = 'display_data';\n",
              "        await google.colab.output.renderOutput(dataTable, element);\n",
              "        const docLink = document.createElement('div');\n",
              "        docLink.innerHTML = docLinkHtml;\n",
              "        element.appendChild(docLink);\n",
              "      }\n",
              "    </script>\n",
              "  </div>\n",
              "\n",
              "\n",
              "<div id=\"df-b02a741d-e14d-4f5e-bf88-15ebcdd0ee03\">\n",
              "  <button class=\"colab-df-quickchart\" onclick=\"quickchart('df-b02a741d-e14d-4f5e-bf88-15ebcdd0ee03')\"\n",
              "            title=\"Suggest charts\"\n",
              "            style=\"display:none;\">\n",
              "\n",
              "<svg xmlns=\"http://www.w3.org/2000/svg\" height=\"24px\"viewBox=\"0 0 24 24\"\n",
              "     width=\"24px\">\n",
              "    <g>\n",
              "        <path d=\"M19 3H5c-1.1 0-2 .9-2 2v14c0 1.1.9 2 2 2h14c1.1 0 2-.9 2-2V5c0-1.1-.9-2-2-2zM9 17H7v-7h2v7zm4 0h-2V7h2v10zm4 0h-2v-4h2v4z\"/>\n",
              "    </g>\n",
              "</svg>\n",
              "  </button>\n",
              "\n",
              "<style>\n",
              "  .colab-df-quickchart {\n",
              "      --bg-color: #E8F0FE;\n",
              "      --fill-color: #1967D2;\n",
              "      --hover-bg-color: #E2EBFA;\n",
              "      --hover-fill-color: #174EA6;\n",
              "      --disabled-fill-color: #AAA;\n",
              "      --disabled-bg-color: #DDD;\n",
              "  }\n",
              "\n",
              "  [theme=dark] .colab-df-quickchart {\n",
              "      --bg-color: #3B4455;\n",
              "      --fill-color: #D2E3FC;\n",
              "      --hover-bg-color: #434B5C;\n",
              "      --hover-fill-color: #FFFFFF;\n",
              "      --disabled-bg-color: #3B4455;\n",
              "      --disabled-fill-color: #666;\n",
              "  }\n",
              "\n",
              "  .colab-df-quickchart {\n",
              "    background-color: var(--bg-color);\n",
              "    border: none;\n",
              "    border-radius: 50%;\n",
              "    cursor: pointer;\n",
              "    display: none;\n",
              "    fill: var(--fill-color);\n",
              "    height: 32px;\n",
              "    padding: 0;\n",
              "    width: 32px;\n",
              "  }\n",
              "\n",
              "  .colab-df-quickchart:hover {\n",
              "    background-color: var(--hover-bg-color);\n",
              "    box-shadow: 0 1px 2px rgba(60, 64, 67, 0.3), 0 1px 3px 1px rgba(60, 64, 67, 0.15);\n",
              "    fill: var(--button-hover-fill-color);\n",
              "  }\n",
              "\n",
              "  .colab-df-quickchart-complete:disabled,\n",
              "  .colab-df-quickchart-complete:disabled:hover {\n",
              "    background-color: var(--disabled-bg-color);\n",
              "    fill: var(--disabled-fill-color);\n",
              "    box-shadow: none;\n",
              "  }\n",
              "\n",
              "  .colab-df-spinner {\n",
              "    border: 2px solid var(--fill-color);\n",
              "    border-color: transparent;\n",
              "    border-bottom-color: var(--fill-color);\n",
              "    animation:\n",
              "      spin 1s steps(1) infinite;\n",
              "  }\n",
              "\n",
              "  @keyframes spin {\n",
              "    0% {\n",
              "      border-color: transparent;\n",
              "      border-bottom-color: var(--fill-color);\n",
              "      border-left-color: var(--fill-color);\n",
              "    }\n",
              "    20% {\n",
              "      border-color: transparent;\n",
              "      border-left-color: var(--fill-color);\n",
              "      border-top-color: var(--fill-color);\n",
              "    }\n",
              "    30% {\n",
              "      border-color: transparent;\n",
              "      border-left-color: var(--fill-color);\n",
              "      border-top-color: var(--fill-color);\n",
              "      border-right-color: var(--fill-color);\n",
              "    }\n",
              "    40% {\n",
              "      border-color: transparent;\n",
              "      border-right-color: var(--fill-color);\n",
              "      border-top-color: var(--fill-color);\n",
              "    }\n",
              "    60% {\n",
              "      border-color: transparent;\n",
              "      border-right-color: var(--fill-color);\n",
              "    }\n",
              "    80% {\n",
              "      border-color: transparent;\n",
              "      border-right-color: var(--fill-color);\n",
              "      border-bottom-color: var(--fill-color);\n",
              "    }\n",
              "    90% {\n",
              "      border-color: transparent;\n",
              "      border-bottom-color: var(--fill-color);\n",
              "    }\n",
              "  }\n",
              "</style>\n",
              "\n",
              "  <script>\n",
              "    async function quickchart(key) {\n",
              "      const quickchartButtonEl =\n",
              "        document.querySelector('#' + key + ' button');\n",
              "      quickchartButtonEl.disabled = true;  // To prevent multiple clicks.\n",
              "      quickchartButtonEl.classList.add('colab-df-spinner');\n",
              "      try {\n",
              "        const charts = await google.colab.kernel.invokeFunction(\n",
              "            'suggestCharts', [key], {});\n",
              "      } catch (error) {\n",
              "        console.error('Error during call to suggestCharts:', error);\n",
              "      }\n",
              "      quickchartButtonEl.classList.remove('colab-df-spinner');\n",
              "      quickchartButtonEl.classList.add('colab-df-quickchart-complete');\n",
              "    }\n",
              "    (() => {\n",
              "      let quickchartButtonEl =\n",
              "        document.querySelector('#df-b02a741d-e14d-4f5e-bf88-15ebcdd0ee03 button');\n",
              "      quickchartButtonEl.style.display =\n",
              "        google.colab.kernel.accessAllowed ? 'block' : 'none';\n",
              "    })();\n",
              "  </script>\n",
              "</div>\n",
              "\n",
              "    </div>\n",
              "  </div>\n"
            ],
            "application/vnd.google.colaboratory.intrinsic+json": {
              "type": "dataframe"
            }
          },
          "metadata": {},
          "execution_count": 328
        }
      ]
    },
    {
      "cell_type": "code",
      "execution_count": null,
      "id": "6864b75d-cbab-42e1-9abd-bea7c535cc1f",
      "metadata": {
        "colab": {
          "base_uri": "https://localhost:8080/",
          "height": 447
        },
        "id": "6864b75d-cbab-42e1-9abd-bea7c535cc1f",
        "outputId": "8acc84f9-be28-4cbf-c9e3-7044f84fba40"
      },
      "outputs": [
        {
          "output_type": "execute_result",
          "data": {
            "text/plain": [
              "<Axes: >"
            ]
          },
          "metadata": {},
          "execution_count": 327
        },
        {
          "output_type": "display_data",
          "data": {
            "text/plain": [
              "<Figure size 640x480 with 1 Axes>"
            ],
            "image/png": "[encoded data removed]"
          },
          "metadata": {}
        }
      ],
      "source": [
        "df[\"Tank Failure Pressure (bar)\"].hist()"
      ]
    },
    {
      "cell_type": "code",
      "execution_count": null,
      "id": "X4tiFaoxPJOS",
      "metadata": {
        "colab": {
          "base_uri": "https://localhost:8080/"
        },
        "id": "X4tiFaoxPJOS",
        "outputId": "3bcff6c5-afa0-4468-a637-8d8571222461"
      },
      "outputs": [
        {
          "output_type": "execute_result",
          "data": {
            "text/plain": [
              "count    0.0\n",
              "mean     NaN\n",
              "std      NaN\n",
              "min      NaN\n",
              "25%      NaN\n",
              "50%      NaN\n",
              "75%      NaN\n",
              "max      NaN\n",
              "Name: Target Pressure (bar), dtype: float64"
            ]
          },
          "metadata": {},
          "execution_count": 17
        }
      ],
      "source": [
        "liquid_mask = df_train[df_train.Status==\"Supercooled\"]\n",
        "liquid_mask[\"Target Pressure (bar)\"].describe()"
      ]
    },
    {
      "cell_type": "code",
      "execution_count": null,
      "id": "a1c76fec-c096-4c4e-b63e-97e57b271d17",
      "metadata": {
        "colab": {
          "base_uri": "https://localhost:8080/",
          "height": 560
        },
        "id": "a1c76fec-c096-4c4e-b63e-97e57b271d17",
        "outputId": "e28398f2-f204-4243-9caf-e9d24c3eba3d"
      },
      "outputs": [
        {
          "output_type": "execute_result",
          "data": {
            "text/plain": [
              "<Axes: xlabel='Vapour Height (m)', ylabel='count'>"
            ]
          },
          "metadata": {},
          "execution_count": 19
        },
        {
          "output_type": "display_data",
          "data": {
            "text/plain": [
              "<Figure size 1500x600 with 3 Axes>"
            ],
            "image/png": "[encoded data removed]"
          },
          "metadata": {}
        }
      ],
      "source": [
        "plt.figure(figsize=(15,6))\n",
        "plt.subplot(1,3,1)\n",
        "sns.countplot(data = df_train, x = \"BLEVE Height (m)\")\n",
        "plt.subplot(1,3,2)\n",
        "sns.countplot(data = df_train, x = \"Tank Failure Pressure (bar)\")\n",
        "plt.subplot(1,3,3)\n",
        "sns.countplot(data = df_train, x = \"Vapour Height (m)\")\n",
        "#plt.savefig('C:/Users/Admin/Desktop/chart.png')\n",
        "#plt.show()\n"
      ]
    },
    {
      "cell_type": "code",
      "execution_count": null,
      "id": "ecbe2c79-0354-4048-a1bf-10f4be7267b2",
      "metadata": {
        "colab": {
          "base_uri": "https://localhost:8080/",
          "height": 542
        },
        "id": "ecbe2c79-0354-4048-a1bf-10f4be7267b2",
        "outputId": "21fd500a-e9fa-431d-9453-5c9b5c900d29"
      },
      "outputs": [
        {
          "output_type": "execute_result",
          "data": {
            "text/plain": [
              "<seaborn.axisgrid.FacetGrid at 0x7c891de74160>"
            ]
          },
          "metadata": {},
          "execution_count": 20
        },
        {
          "output_type": "display_data",
          "data": {
            "text/plain": [
              "<Figure size 1500x600 with 0 Axes>"
            ]
          },
          "metadata": {}
        },
        {
          "output_type": "display_data",
          "data": {
            "text/plain": [
              "<Figure size 500x500 with 1 Axes>"
            ],
            "image/png": "[encoded data removed]"
          },
          "metadata": {}
        }
      ],
      "source": [
        "sns.set_style('darkgrid')\n",
        "plt.figure(figsize=(15,6))\n",
        "sns.displot(df_train['Obstacle Distance to BLEVE (m)'],kde= True, bins =30)\n",
        "\n"
      ]
    },
    {
      "cell_type": "code",
      "execution_count": null,
      "id": "6d0a0802-0b0d-434f-87fd-e0fb849072fe",
      "metadata": {
        "id": "6d0a0802-0b0d-434f-87fd-e0fb849072fe"
      },
      "outputs": [],
      "source": []
    },
    {
      "cell_type": "markdown",
      "id": "5afaed1a-1d33-4f7e-b5d0-5882e1ec643a",
      "metadata": {
        "id": "5afaed1a-1d33-4f7e-b5d0-5882e1ec643a"
      },
      "source": [
        "### WRANGLING FUNCTION"
      ]
    },
    {
      "cell_type": "code",
      "execution_count": null,
      "id": "QrWA0V_L90fI",
      "metadata": {
        "id": "QrWA0V_L90fI"
      },
      "outputs": [],
      "source": [
        "\n",
        "def wrangle2(filepath):\n",
        "    \"\"\"\n",
        "    Args:\n",
        "        filepath: Path to the CSV file.\n",
        "\n",
        "    Returns:\n",
        "        df: Processed DataFrame.\n",
        "    \"\"\"\n",
        "\n",
        "    # Read the CSV file into a DataFrame\n",
        "    df = pd.read_csv(filepath)\n",
        "\n",
        "    # Check for NaN values\n",
        "    df.isna().any().sum()\n",
        "\n",
        "    # Drop rows with NaN values\n",
        "    df.dropna(inplace=True)\n",
        "\n",
        "    # Drop some features that don't help\n",
        "    df.drop(columns=['Sensor ID', 'Sensor Position Side'], inplace=True)\n",
        "\n",
        "    # Create a new column named 'Tank Volume'\n",
        "    df['Tank_Vol'] = df['Tank Width (m)'] * df['Tank Height (m)'] * df['Tank Length (m)']\n",
        "\n",
        "    # Drop the columns Width, Height, Length\n",
        "    df.drop(columns=['Tank Width (m)', 'Tank Length (m)', 'Tank Height (m)'], inplace=True)\n",
        "\n",
        "    # Correct spelling mistakes in the 'Status' column\n",
        "    df[\"Status\"] = df[\"Status\"].str.lower()\n",
        "    df[\"Status\"] = df[\"Status\"].replace(['subcool', 'subcoled'], 'subcooled')\n",
        "    df[\"Status\"] = df[\"Status\"].replace(['superheat', 'saperheated'], 'superheated')\n",
        "\n",
        "    # Drop negative values in `BLEVE Height (m)`\n",
        "    df = df[df['BLEVE Height (m)'] >= 0]\n",
        "\n",
        "    # Convert 'Status' column to binary values (1 for superheated, 0 for subcooled)\n",
        "    df[\"Status\"] = (df[\"Status\"] != \"subcooled\").astype(int)\n",
        "\n",
        "    # Drop columns with redundant info\n",
        "    df.drop(columns=['Liquid Critical Pressure (bar)', 'Liquid Critical Temperature (K)', 'Liquid Boiling Temperature (K)'], inplace=True)\n",
        "\n",
        "    # Drop columns with multicollinearity\n",
        "    df.drop(columns=[\"Obstacle Height (m)\", \"Obstacle Angle\"], inplace=True)\n",
        "\n",
        "    #IQR\n",
        "    Q1 = df.quantile(0.1)\n",
        "    Q3 = df.quantile(0.9)\n",
        "    IQR = Q3 - Q1\n",
        "    lower_bound = Q1 - 1.5 * IQR\n",
        "    upper_bound = Q3 + 1.5 * IQR\n",
        "    df = df[~((df < lower_bound) | (df > upper_bound)).any(axis=1)]\n",
        "\n",
        "    return df\n"
      ]
    },
    {
      "cell_type": "code",
      "execution_count": null,
      "id": "gliB9R_O-hml",
      "metadata": {
        "id": "gliB9R_O-hml"
      },
      "outputs": [],
      "source": [
        "option1_encoded = wrangle2('/content/drive/MyDrive/train.csv')"
      ]
    },
    {
      "cell_type": "markdown",
      "id": "0d9b001d-ae99-4136-96e5-e733ec56d078",
      "metadata": {
        "id": "0d9b001d-ae99-4136-96e5-e733ec56d078"
      },
      "source": [
        "# MACHINE LEARNING"
      ]
    },
    {
      "cell_type": "code",
      "execution_count": null,
      "id": "ab4650f2-6452-4b13-a558-5692d2d6f94f",
      "metadata": {
        "id": "ab4650f2-6452-4b13-a558-5692d2d6f94f"
      },
      "outputs": [],
      "source": [
        "X = option1_encoded.drop('Target Pressure (bar)', axis = 1)\n",
        "y = option1_encoded['Target Pressure (bar)']"
      ]
    },
    {
      "cell_type": "code",
      "execution_count": null,
      "id": "d11d6b78-c9a7-4e50-ae7d-32446122357d",
      "metadata": {
        "id": "d11d6b78-c9a7-4e50-ae7d-32446122357d"
      },
      "outputs": [],
      "source": []
    },
    {
      "cell_type": "code",
      "execution_count": null,
      "id": "005be4cb-2515-4f4a-a348-2c8afa13153a",
      "metadata": {
        "id": "005be4cb-2515-4f4a-a348-2c8afa13153a"
      },
      "outputs": [],
      "source": [
        "from sklearn.model_selection import train_test_split"
      ]
    },
    {
      "cell_type": "code",
      "execution_count": null,
      "id": "c218d988-b23f-4b1d-8fd3-d30adfe8d8af",
      "metadata": {
        "id": "c218d988-b23f-4b1d-8fd3-d30adfe8d8af"
      },
      "outputs": [],
      "source": [
        "X_train,X_test,y_train,y_test = train_test_split(X,y,random_state = 42, train_size = .80)"
      ]
    },
    {
      "cell_type": "markdown",
      "id": "fe7bf830-8058-4952-9a2b-5878c4d3229f",
      "metadata": {
        "id": "fe7bf830-8058-4952-9a2b-5878c4d3229f"
      },
      "source": [
        "REGRESSION IMPLEMENTATION"
      ]
    },
    {
      "cell_type": "markdown",
      "id": "eee52d0a-6c12-42b7-81e8-fa69aec3e1c8",
      "metadata": {
        "id": "eee52d0a-6c12-42b7-81e8-fa69aec3e1c8"
      },
      "source": [
        "#### Decision Tree Model"
      ]
    },
    {
      "cell_type": "code",
      "execution_count": null,
      "id": "0e0fbad4-47da-4c74-b8f4-42f5b3d736d9",
      "metadata": {
        "id": "0e0fbad4-47da-4c74-b8f4-42f5b3d736d9"
      },
      "outputs": [],
      "source": [
        "from sklearn.tree import DecisionTreeRegressor"
      ]
    },
    {
      "cell_type": "code",
      "execution_count": null,
      "id": "9c026928-9492-4d27-b997-d7e03e236293",
      "metadata": {
        "id": "9c026928-9492-4d27-b997-d7e03e236293"
      },
      "outputs": [],
      "source": [
        "dtree = DecisionTreeRegressor()"
      ]
    },
    {
      "cell_type": "code",
      "execution_count": null,
      "id": "8caff994-dd71-49dd-89de-e96965ed311d",
      "metadata": {
        "colab": {
          "base_uri": "https://localhost:8080/",
          "height": 75
        },
        "id": "8caff994-dd71-49dd-89de-e96965ed311d",
        "outputId": "bf72354f-7db2-48ee-c0d1-6e2374cac513"
      },
      "outputs": [
        {
          "output_type": "execute_result",
          "data": {
            "text/plain": [
              "DecisionTreeRegressor()"
            ],
            "text/html": [
              "<style>#sk-container-id-4 {color: black;background-color: white;}#sk-container-id-4 pre{padding: 0;}#sk-container-id-4 div.sk-toggleable {background-color: white;}#sk-container-id-4 label.sk-toggleable__label {cursor: pointer;display: block;width: 100%;margin-bottom: 0;padding: 0.3em;box-sizing: border-box;text-align: center;}#sk-container-id-4 label.sk-toggleable__label-arrow:before {content: \"▸\";float: left;margin-right: 0.25em;color: #696969;}#sk-container-id-4 label.sk-toggleable__label-arrow:hover:before {color: black;}#sk-container-id-4 div.sk-estimator:hover label.sk-toggleable__label-arrow:before {color: black;}#sk-container-id-4 div.sk-toggleable__content {max-height: 0;max-width: 0;overflow: hidden;text-align: left;background-color: #f0f8ff;}#sk-container-id-4 div.sk-toggleable__content pre {margin: 0.2em;color: black;border-radius: 0.25em;background-color: #f0f8ff;}#sk-container-id-4 input.sk-toggleable__control:checked~div.sk-toggleable__content {max-height: 200px;max-width: 100%;overflow: auto;}#sk-container-id-4 input.sk-toggleable__control:checked~label.sk-toggleable__label-arrow:before {content: \"▾\";}#sk-container-id-4 div.sk-estimator input.sk-toggleable__control:checked~label.sk-toggleable__label {background-color: #d4ebff;}#sk-container-id-4 div.sk-label input.sk-toggleable__control:checked~label.sk-toggleable__label {background-color: #d4ebff;}#sk-container-id-4 input.sk-hidden--visually {border: 0;clip: rect(1px 1px 1px 1px);clip: rect(1px, 1px, 1px, 1px);height: 1px;margin: -1px;overflow: hidden;padding: 0;position: absolute;width: 1px;}#sk-container-id-4 div.sk-estimator {font-family: monospace;background-color: #f0f8ff;border: 1px dotted black;border-radius: 0.25em;box-sizing: border-box;margin-bottom: 0.5em;}#sk-container-id-4 div.sk-estimator:hover {background-color: #d4ebff;}#sk-container-id-4 div.sk-parallel-item::after {content: \"\";width: 100%;border-bottom: 1px solid gray;flex-grow: 1;}#sk-container-id-4 div.sk-label:hover label.sk-toggleable__label {background-color: #d4ebff;}#sk-container-id-4 div.sk-serial::before {content: \"\";position: absolute;border-left: 1px solid gray;box-sizing: border-box;top: 0;bottom: 0;left: 50%;z-index: 0;}#sk-container-id-4 div.sk-serial {display: flex;flex-direction: column;align-items: center;background-color: white;padding-right: 0.2em;padding-left: 0.2em;position: relative;}#sk-container-id-4 div.sk-item {position: relative;z-index: 1;}#sk-container-id-4 div.sk-parallel {display: flex;align-items: stretch;justify-content: center;background-color: white;position: relative;}#sk-container-id-4 div.sk-item::before, #sk-container-id-4 div.sk-parallel-item::before {content: \"\";position: absolute;border-left: 1px solid gray;box-sizing: border-box;top: 0;bottom: 0;left: 50%;z-index: -1;}#sk-container-id-4 div.sk-parallel-item {display: flex;flex-direction: column;z-index: 1;position: relative;background-color: white;}#sk-container-id-4 div.sk-parallel-item:first-child::after {align-self: flex-end;width: 50%;}#sk-container-id-4 div.sk-parallel-item:last-child::after {align-self: flex-start;width: 50%;}#sk-container-id-4 div.sk-parallel-item:only-child::after {width: 0;}#sk-container-id-4 div.sk-dashed-wrapped {border: 1px dashed gray;margin: 0 0.4em 0.5em 0.4em;box-sizing: border-box;padding-bottom: 0.4em;background-color: white;}#sk-container-id-4 div.sk-label label {font-family: monospace;font-weight: bold;display: inline-block;line-height: 1.2em;}#sk-container-id-4 div.sk-label-container {text-align: center;}#sk-container-id-4 div.sk-container {/* jupyter's `normalize.less` sets `[hidden] { display: none; }` but bootstrap.min.css set `[hidden] { display: none !important; }` so we also need the `!important` here to be able to override the default hidden behavior on the sphinx rendered scikit-learn.org. See: https://github.com/scikit-learn/scikit-learn/issues/21755 */display: inline-block !important;position: relative;}#sk-container-id-4 div.sk-text-repr-fallback {display: none;}</style><div id=\"sk-container-id-4\" class=\"sk-top-container\"><div class=\"sk-text-repr-fallback\"><pre>DecisionTreeRegressor()</pre><b>In a Jupyter environment, please rerun this cell to show the HTML representation or trust the notebook. <br />On GitHub, the HTML representation is unable to render, please try loading this page with nbviewer.org.</b></div><div class=\"sk-container\" hidden><div class=\"sk-item\"><div class=\"sk-estimator sk-toggleable\"><input class=\"sk-toggleable__control sk-hidden--visually\" id=\"sk-estimator-id-4\" type=\"checkbox\" checked><label for=\"sk-estimator-id-4\" class=\"sk-toggleable__label sk-toggleable__label-arrow\">DecisionTreeRegressor</label><div class=\"sk-toggleable__content\"><pre>DecisionTreeRegressor()</pre></div></div></div></div></div>"
            ]
          },
          "metadata": {},
          "execution_count": 83
        }
      ],
      "source": [
        "dtree.fit(X_train,y_train)"
      ]
    },
    {
      "cell_type": "code",
      "execution_count": null,
      "id": "76b61786-19b3-4849-a8fd-5b579963e0b9",
      "metadata": {
        "id": "76b61786-19b3-4849-a8fd-5b579963e0b9",
        "colab": {
          "base_uri": "https://localhost:8080/"
        },
        "outputId": "3f380590-447b-4178-913a-0ca542c482fe"
      },
      "outputs": [
        {
          "output_type": "stream",
          "name": "stdout",
          "text": [
            "<class 'pandas.core.frame.DataFrame'>\n",
            "RangeIndex: 1908 entries, 0 to 1907\n",
            "Data columns (total 1 columns):\n",
            " #   Column  Non-Null Count  Dtype  \n",
            "---  ------  --------------  -----  \n",
            " 0   0       1908 non-null   float64\n",
            "dtypes: float64(1)\n",
            "memory usage: 15.0 KB\n"
          ]
        }
      ],
      "source": [
        "dtree_pred =dtree.predict(X_test)\n",
        "pd.DataFrame(dtree_pred).info()"
      ]
    },
    {
      "cell_type": "code",
      "execution_count": null,
      "id": "9569342d-b0a9-4f8f-a9c5-8c0a1005fa66",
      "metadata": {
        "id": "9569342d-b0a9-4f8f-a9c5-8c0a1005fa66"
      },
      "outputs": [],
      "source": [
        "from sklearn.metrics import mean_squared_error,mean_absolute_error, r2_score, mean_absolute_percentage_error"
      ]
    },
    {
      "cell_type": "code",
      "execution_count": null,
      "id": "25ead003-3148-47a0-8edb-c9fd395e5c11",
      "metadata": {
        "id": "25ead003-3148-47a0-8edb-c9fd395e5c11"
      },
      "outputs": [],
      "source": [
        "MSE = np.square(np.subtract(y_test,dtree_pred)).mean()\n",
        "RMSE = math.sqrt(MSE)"
      ]
    },
    {
      "cell_type": "code",
      "execution_count": null,
      "id": "3d620dae-6d1f-4f7c-be73-523a57505fe6",
      "metadata": {
        "colab": {
          "base_uri": "https://localhost:8080/"
        },
        "id": "3d620dae-6d1f-4f7c-be73-523a57505fe6",
        "outputId": "ed2bd4a9-43c6-4dd8-8b3c-2440cfa66352"
      },
      "outputs": [
        {
          "output_type": "stream",
          "name": "stdout",
          "text": [
            "0.4774850222783516\n",
            "\n",
            "\n",
            "0.04383924943138933\n",
            "\n",
            "\n",
            "0.10967078474895178\n",
            "\n",
            "\n",
            "0.5558869573936964\n",
            "\n",
            "\n",
            "0.20937824488563594\n"
          ]
        }
      ],
      "source": [
        "print(mean_absolute_percentage_error(y_test, dtree_pred))\n",
        "print('\\n')\n",
        "print(mean_squared_error(y_test,dtree_pred))\n",
        "print('\\n')\n",
        "print(mean_absolute_error(y_test,dtree_pred))\n",
        "print('\\n')\n",
        "print(r2_score(y_test,dtree_pred))\n",
        "print('\\n')\n",
        "print(RMSE)"
      ]
    },
    {
      "cell_type": "code",
      "source": [
        "dtree_pred_test = dtree.predict(wrangle2('/content/drive/MyDrive/test.csv'))"
      ],
      "metadata": {
        "id": "4-yWVolSeEaA"
      },
      "id": "4-yWVolSeEaA",
      "execution_count": null,
      "outputs": []
    },
    {
      "cell_type": "code",
      "source": [
        "pd.DataFrame(dtree_pred_test).to_csv('dtree_submission.csv', index=True)"
      ],
      "metadata": {
        "id": "gYP43cWAekiP"
      },
      "id": "gYP43cWAekiP",
      "execution_count": null,
      "outputs": []
    },
    {
      "cell_type": "markdown",
      "id": "d06a4c09-b4dd-4e9c-a9b2-4d40303e7370",
      "metadata": {
        "id": "d06a4c09-b4dd-4e9c-a9b2-4d40303e7370"
      },
      "source": [
        "#### Linear Regression Model"
      ]
    },
    {
      "cell_type": "code",
      "execution_count": null,
      "id": "feb174b6-3516-45d0-9e7b-3ede53e6b957",
      "metadata": {
        "id": "feb174b6-3516-45d0-9e7b-3ede53e6b957"
      },
      "outputs": [],
      "source": [
        "from sklearn.linear_model import LinearRegression"
      ]
    },
    {
      "cell_type": "code",
      "execution_count": null,
      "id": "1dc9e817-d1a5-4e96-b9c7-e4bd47121ca2",
      "metadata": {
        "colab": {
          "base_uri": "https://localhost:8080/",
          "height": 75
        },
        "id": "1dc9e817-d1a5-4e96-b9c7-e4bd47121ca2",
        "outputId": "f726f28c-c862-495e-9222-8dba05e2e043"
      },
      "outputs": [
        {
          "output_type": "execute_result",
          "data": {
            "text/plain": [
              "LinearRegression()"
            ],
            "text/html": [
              "<style>#sk-container-id-2 {color: black;background-color: white;}#sk-container-id-2 pre{padding: 0;}#sk-container-id-2 div.sk-toggleable {background-color: white;}#sk-container-id-2 label.sk-toggleable__label {cursor: pointer;display: block;width: 100%;margin-bottom: 0;padding: 0.3em;box-sizing: border-box;text-align: center;}#sk-container-id-2 label.sk-toggleable__label-arrow:before {content: \"▸\";float: left;margin-right: 0.25em;color: #696969;}#sk-container-id-2 label.sk-toggleable__label-arrow:hover:before {color: black;}#sk-container-id-2 div.sk-estimator:hover label.sk-toggleable__label-arrow:before {color: black;}#sk-container-id-2 div.sk-toggleable__content {max-height: 0;max-width: 0;overflow: hidden;text-align: left;background-color: #f0f8ff;}#sk-container-id-2 div.sk-toggleable__content pre {margin: 0.2em;color: black;border-radius: 0.25em;background-color: #f0f8ff;}#sk-container-id-2 input.sk-toggleable__control:checked~div.sk-toggleable__content {max-height: 200px;max-width: 100%;overflow: auto;}#sk-container-id-2 input.sk-toggleable__control:checked~label.sk-toggleable__label-arrow:before {content: \"▾\";}#sk-container-id-2 div.sk-estimator input.sk-toggleable__control:checked~label.sk-toggleable__label {background-color: #d4ebff;}#sk-container-id-2 div.sk-label input.sk-toggleable__control:checked~label.sk-toggleable__label {background-color: #d4ebff;}#sk-container-id-2 input.sk-hidden--visually {border: 0;clip: rect(1px 1px 1px 1px);clip: rect(1px, 1px, 1px, 1px);height: 1px;margin: -1px;overflow: hidden;padding: 0;position: absolute;width: 1px;}#sk-container-id-2 div.sk-estimator {font-family: monospace;background-color: #f0f8ff;border: 1px dotted black;border-radius: 0.25em;box-sizing: border-box;margin-bottom: 0.5em;}#sk-container-id-2 div.sk-estimator:hover {background-color: #d4ebff;}#sk-container-id-2 div.sk-parallel-item::after {content: \"\";width: 100%;border-bottom: 1px solid gray;flex-grow: 1;}#sk-container-id-2 div.sk-label:hover label.sk-toggleable__label {background-color: #d4ebff;}#sk-container-id-2 div.sk-serial::before {content: \"\";position: absolute;border-left: 1px solid gray;box-sizing: border-box;top: 0;bottom: 0;left: 50%;z-index: 0;}#sk-container-id-2 div.sk-serial {display: flex;flex-direction: column;align-items: center;background-color: white;padding-right: 0.2em;padding-left: 0.2em;position: relative;}#sk-container-id-2 div.sk-item {position: relative;z-index: 1;}#sk-container-id-2 div.sk-parallel {display: flex;align-items: stretch;justify-content: center;background-color: white;position: relative;}#sk-container-id-2 div.sk-item::before, #sk-container-id-2 div.sk-parallel-item::before {content: \"\";position: absolute;border-left: 1px solid gray;box-sizing: border-box;top: 0;bottom: 0;left: 50%;z-index: -1;}#sk-container-id-2 div.sk-parallel-item {display: flex;flex-direction: column;z-index: 1;position: relative;background-color: white;}#sk-container-id-2 div.sk-parallel-item:first-child::after {align-self: flex-end;width: 50%;}#sk-container-id-2 div.sk-parallel-item:last-child::after {align-self: flex-start;width: 50%;}#sk-container-id-2 div.sk-parallel-item:only-child::after {width: 0;}#sk-container-id-2 div.sk-dashed-wrapped {border: 1px dashed gray;margin: 0 0.4em 0.5em 0.4em;box-sizing: border-box;padding-bottom: 0.4em;background-color: white;}#sk-container-id-2 div.sk-label label {font-family: monospace;font-weight: bold;display: inline-block;line-height: 1.2em;}#sk-container-id-2 div.sk-label-container {text-align: center;}#sk-container-id-2 div.sk-container {/* jupyter's `normalize.less` sets `[hidden] { display: none; }` but bootstrap.min.css set `[hidden] { display: none !important; }` so we also need the `!important` here to be able to override the default hidden behavior on the sphinx rendered scikit-learn.org. See: https://github.com/scikit-learn/scikit-learn/issues/21755 */display: inline-block !important;position: relative;}#sk-container-id-2 div.sk-text-repr-fallback {display: none;}</style><div id=\"sk-container-id-2\" class=\"sk-top-container\"><div class=\"sk-text-repr-fallback\"><pre>LinearRegression()</pre><b>In a Jupyter environment, please rerun this cell to show the HTML representation or trust the notebook. <br />On GitHub, the HTML representation is unable to render, please try loading this page with nbviewer.org.</b></div><div class=\"sk-container\" hidden><div class=\"sk-item\"><div class=\"sk-estimator sk-toggleable\"><input class=\"sk-toggleable__control sk-hidden--visually\" id=\"sk-estimator-id-2\" type=\"checkbox\" checked><label for=\"sk-estimator-id-2\" class=\"sk-toggleable__label sk-toggleable__label-arrow\">LinearRegression</label><div class=\"sk-toggleable__content\"><pre>LinearRegression()</pre></div></div></div></div></div>"
            ]
          },
          "metadata": {},
          "execution_count": 32
        }
      ],
      "source": [
        "lm = LinearRegression()\n",
        "lm.fit(X_train,y_train)"
      ]
    },
    {
      "cell_type": "code",
      "execution_count": null,
      "id": "10c906e2-7a19-4f7b-817d-c2fdd1e5865a",
      "metadata": {
        "id": "10c906e2-7a19-4f7b-817d-c2fdd1e5865a"
      },
      "outputs": [],
      "source": [
        "lm_pred  = lm.predict(X_test)"
      ]
    },
    {
      "cell_type": "code",
      "execution_count": null,
      "id": "e5806a3d-1820-4b99-ba00-d6b43bed1e52",
      "metadata": {
        "id": "e5806a3d-1820-4b99-ba00-d6b43bed1e52"
      },
      "outputs": [],
      "source": [
        "error_rate = []\n",
        "error_rate.append(np.mean(lm_pred != y_test))"
      ]
    },
    {
      "cell_type": "code",
      "execution_count": null,
      "id": "d3f0d08f-3caf-49ae-ac59-2586829c015b",
      "metadata": {
        "colab": {
          "base_uri": "https://localhost:8080/"
        },
        "id": "d3f0d08f-3caf-49ae-ac59-2586829c015b",
        "outputId": "adefdae7-e450-4b1a-a7c6-ab605cdafe2a"
      },
      "outputs": [
        {
          "output_type": "execute_result",
          "data": {
            "text/plain": [
              "[1.0]"
            ]
          },
          "metadata": {},
          "execution_count": 205
        }
      ],
      "source": [
        "error_rate"
      ]
    },
    {
      "cell_type": "code",
      "execution_count": null,
      "id": "55a1cf78-3c82-4984-9c64-2fbb441661a0",
      "metadata": {
        "colab": {
          "base_uri": "https://localhost:8080/",
          "height": 238
        },
        "id": "55a1cf78-3c82-4984-9c64-2fbb441661a0",
        "outputId": "993ed5a0-dc69-4035-9c00-c9acf847c8d9"
      },
      "outputs": [
        {
          "output_type": "execute_result",
          "data": {
            "text/plain": [
              "           Actual  Predicted\n",
              "ID                          \n",
              "7216.0   0.054250   0.354036\n",
              "7625.0   0.831306   0.432602\n",
              "11920.0  0.382970   0.275978\n",
              "4850.0   0.211490   0.325781\n",
              "9892.0   0.343515   0.544536"
            ],
            "text/html": [
              "\n",
              "  <div id=\"df-bb5971d4-cefa-4ff2-8476-504b780e12b5\" class=\"colab-df-container\">\n",
              "    <div>\n",
              "<style scoped>\n",
              "    .dataframe tbody tr th:only-of-type {\n",
              "        vertical-align: middle;\n",
              "    }\n",
              "\n",
              "    .dataframe tbody tr th {\n",
              "        vertical-align: top;\n",
              "    }\n",
              "\n",
              "    .dataframe thead th {\n",
              "        text-align: right;\n",
              "    }\n",
              "</style>\n",
              "<table border=\"1\" class=\"dataframe\">\n",
              "  <thead>\n",
              "    <tr style=\"text-align: right;\">\n",
              "      <th></th>\n",
              "      <th>Actual</th>\n",
              "      <th>Predicted</th>\n",
              "    </tr>\n",
              "    <tr>\n",
              "      <th>ID</th>\n",
              "      <th></th>\n",
              "      <th></th>\n",
              "    </tr>\n",
              "  </thead>\n",
              "  <tbody>\n",
              "    <tr>\n",
              "      <th>7216.0</th>\n",
              "      <td>0.054250</td>\n",
              "      <td>0.354036</td>\n",
              "    </tr>\n",
              "    <tr>\n",
              "      <th>7625.0</th>\n",
              "      <td>0.831306</td>\n",
              "      <td>0.432602</td>\n",
              "    </tr>\n",
              "    <tr>\n",
              "      <th>11920.0</th>\n",
              "      <td>0.382970</td>\n",
              "      <td>0.275978</td>\n",
              "    </tr>\n",
              "    <tr>\n",
              "      <th>4850.0</th>\n",
              "      <td>0.211490</td>\n",
              "      <td>0.325781</td>\n",
              "    </tr>\n",
              "    <tr>\n",
              "      <th>9892.0</th>\n",
              "      <td>0.343515</td>\n",
              "      <td>0.544536</td>\n",
              "    </tr>\n",
              "  </tbody>\n",
              "</table>\n",
              "</div>\n",
              "    <div class=\"colab-df-buttons\">\n",
              "\n",
              "  <div class=\"colab-df-container\">\n",
              "    <button class=\"colab-df-convert\" onclick=\"convertToInteractive('df-bb5971d4-cefa-4ff2-8476-504b780e12b5')\"\n",
              "            title=\"Convert this dataframe to an interactive table.\"\n",
              "            style=\"display:none;\">\n",
              "\n",
              "  <svg xmlns=\"http://www.w3.org/2000/svg\" height=\"24px\" viewBox=\"0 -960 960 960\">\n",
              "    <path d=\"M120-120v-720h720v720H120Zm60-500h600v-160H180v160Zm220 220h160v-160H400v160Zm0 220h160v-160H400v160ZM180-400h160v-160H180v160Zm440 0h160v-160H620v160ZM180-180h160v-160H180v160Zm440 0h160v-160H620v160Z\"/>\n",
              "  </svg>\n",
              "    </button>\n",
              "\n",
              "  <style>\n",
              "    .colab-df-container {\n",
              "      display:flex;\n",
              "      gap: 12px;\n",
              "    }\n",
              "\n",
              "    .colab-df-convert {\n",
              "      background-color: #E8F0FE;\n",
              "      border: none;\n",
              "      border-radius: 50%;\n",
              "      cursor: pointer;\n",
              "      display: none;\n",
              "      fill: #1967D2;\n",
              "      height: 32px;\n",
              "      padding: 0 0 0 0;\n",
              "      width: 32px;\n",
              "    }\n",
              "\n",
              "    .colab-df-convert:hover {\n",
              "      background-color: #E2EBFA;\n",
              "      box-shadow: 0px 1px 2px rgba(60, 64, 67, 0.3), 0px 1px 3px 1px rgba(60, 64, 67, 0.15);\n",
              "      fill: #174EA6;\n",
              "    }\n",
              "\n",
              "    .colab-df-buttons div {\n",
              "      margin-bottom: 4px;\n",
              "    }\n",
              "\n",
              "    [theme=dark] .colab-df-convert {\n",
              "      background-color: #3B4455;\n",
              "      fill: #D2E3FC;\n",
              "    }\n",
              "\n",
              "    [theme=dark] .colab-df-convert:hover {\n",
              "      background-color: #434B5C;\n",
              "      box-shadow: 0px 1px 3px 1px rgba(0, 0, 0, 0.15);\n",
              "      filter: drop-shadow(0px 1px 2px rgba(0, 0, 0, 0.3));\n",
              "      fill: #FFFFFF;\n",
              "    }\n",
              "  </style>\n",
              "\n",
              "    <script>\n",
              "      const buttonEl =\n",
              "        document.querySelector('#df-bb5971d4-cefa-4ff2-8476-504b780e12b5 button.colab-df-convert');\n",
              "      buttonEl.style.display =\n",
              "        google.colab.kernel.accessAllowed ? 'block' : 'none';\n",
              "\n",
              "      async function convertToInteractive(key) {\n",
              "        const element = document.querySelector('#df-bb5971d4-cefa-4ff2-8476-504b780e12b5');\n",
              "        const dataTable =\n",
              "          await google.colab.kernel.invokeFunction('convertToInteractive',\n",
              "                                                    [key], {});\n",
              "        if (!dataTable) return;\n",
              "\n",
              "        const docLinkHtml = 'Like what you see? Visit the ' +\n",
              "          '<a target=\"_blank\" href=https://colab.research.google.com/notebooks/data_table.ipynb>data table notebook</a>'\n",
              "          + ' to learn more about interactive tables.';\n",
              "        element.innerHTML = '';\n",
              "        dataTable['output_type'] = 'display_data';\n",
              "        await google.colab.output.renderOutput(dataTable, element);\n",
              "        const docLink = document.createElement('div');\n",
              "        docLink.innerHTML = docLinkHtml;\n",
              "        element.appendChild(docLink);\n",
              "      }\n",
              "    </script>\n",
              "  </div>\n",
              "\n",
              "\n",
              "<div id=\"df-ee0f4b72-0ab8-4d26-a70d-63994815a6cd\">\n",
              "  <button class=\"colab-df-quickchart\" onclick=\"quickchart('df-ee0f4b72-0ab8-4d26-a70d-63994815a6cd')\"\n",
              "            title=\"Suggest charts\"\n",
              "            style=\"display:none;\">\n",
              "\n",
              "<svg xmlns=\"http://www.w3.org/2000/svg\" height=\"24px\"viewBox=\"0 0 24 24\"\n",
              "     width=\"24px\">\n",
              "    <g>\n",
              "        <path d=\"M19 3H5c-1.1 0-2 .9-2 2v14c0 1.1.9 2 2 2h14c1.1 0 2-.9 2-2V5c0-1.1-.9-2-2-2zM9 17H7v-7h2v7zm4 0h-2V7h2v10zm4 0h-2v-4h2v4z\"/>\n",
              "    </g>\n",
              "</svg>\n",
              "  </button>\n",
              "\n",
              "<style>\n",
              "  .colab-df-quickchart {\n",
              "      --bg-color: #E8F0FE;\n",
              "      --fill-color: #1967D2;\n",
              "      --hover-bg-color: #E2EBFA;\n",
              "      --hover-fill-color: #174EA6;\n",
              "      --disabled-fill-color: #AAA;\n",
              "      --disabled-bg-color: #DDD;\n",
              "  }\n",
              "\n",
              "  [theme=dark] .colab-df-quickchart {\n",
              "      --bg-color: #3B4455;\n",
              "      --fill-color: #D2E3FC;\n",
              "      --hover-bg-color: #434B5C;\n",
              "      --hover-fill-color: #FFFFFF;\n",
              "      --disabled-bg-color: #3B4455;\n",
              "      --disabled-fill-color: #666;\n",
              "  }\n",
              "\n",
              "  .colab-df-quickchart {\n",
              "    background-color: var(--bg-color);\n",
              "    border: none;\n",
              "    border-radius: 50%;\n",
              "    cursor: pointer;\n",
              "    display: none;\n",
              "    fill: var(--fill-color);\n",
              "    height: 32px;\n",
              "    padding: 0;\n",
              "    width: 32px;\n",
              "  }\n",
              "\n",
              "  .colab-df-quickchart:hover {\n",
              "    background-color: var(--hover-bg-color);\n",
              "    box-shadow: 0 1px 2px rgba(60, 64, 67, 0.3), 0 1px 3px 1px rgba(60, 64, 67, 0.15);\n",
              "    fill: var(--button-hover-fill-color);\n",
              "  }\n",
              "\n",
              "  .colab-df-quickchart-complete:disabled,\n",
              "  .colab-df-quickchart-complete:disabled:hover {\n",
              "    background-color: var(--disabled-bg-color);\n",
              "    fill: var(--disabled-fill-color);\n",
              "    box-shadow: none;\n",
              "  }\n",
              "\n",
              "  .colab-df-spinner {\n",
              "    border: 2px solid var(--fill-color);\n",
              "    border-color: transparent;\n",
              "    border-bottom-color: var(--fill-color);\n",
              "    animation:\n",
              "      spin 1s steps(1) infinite;\n",
              "  }\n",
              "\n",
              "  @keyframes spin {\n",
              "    0% {\n",
              "      border-color: transparent;\n",
              "      border-bottom-color: var(--fill-color);\n",
              "      border-left-color: var(--fill-color);\n",
              "    }\n",
              "    20% {\n",
              "      border-color: transparent;\n",
              "      border-left-color: var(--fill-color);\n",
              "      border-top-color: var(--fill-color);\n",
              "    }\n",
              "    30% {\n",
              "      border-color: transparent;\n",
              "      border-left-color: var(--fill-color);\n",
              "      border-top-color: var(--fill-color);\n",
              "      border-right-color: var(--fill-color);\n",
              "    }\n",
              "    40% {\n",
              "      border-color: transparent;\n",
              "      border-right-color: var(--fill-color);\n",
              "      border-top-color: var(--fill-color);\n",
              "    }\n",
              "    60% {\n",
              "      border-color: transparent;\n",
              "      border-right-color: var(--fill-color);\n",
              "    }\n",
              "    80% {\n",
              "      border-color: transparent;\n",
              "      border-right-color: var(--fill-color);\n",
              "      border-bottom-color: var(--fill-color);\n",
              "    }\n",
              "    90% {\n",
              "      border-color: transparent;\n",
              "      border-bottom-color: var(--fill-color);\n",
              "    }\n",
              "  }\n",
              "</style>\n",
              "\n",
              "  <script>\n",
              "    async function quickchart(key) {\n",
              "      const quickchartButtonEl =\n",
              "        document.querySelector('#' + key + ' button');\n",
              "      quickchartButtonEl.disabled = true;  // To prevent multiple clicks.\n",
              "      quickchartButtonEl.classList.add('colab-df-spinner');\n",
              "      try {\n",
              "        const charts = await google.colab.kernel.invokeFunction(\n",
              "            'suggestCharts', [key], {});\n",
              "      } catch (error) {\n",
              "        console.error('Error during call to suggestCharts:', error);\n",
              "      }\n",
              "      quickchartButtonEl.classList.remove('colab-df-spinner');\n",
              "      quickchartButtonEl.classList.add('colab-df-quickchart-complete');\n",
              "    }\n",
              "    (() => {\n",
              "      let quickchartButtonEl =\n",
              "        document.querySelector('#df-ee0f4b72-0ab8-4d26-a70d-63994815a6cd button');\n",
              "      quickchartButtonEl.style.display =\n",
              "        google.colab.kernel.accessAllowed ? 'block' : 'none';\n",
              "    })();\n",
              "  </script>\n",
              "</div>\n",
              "\n",
              "    </div>\n",
              "  </div>\n"
            ],
            "application/vnd.google.colaboratory.intrinsic+json": {
              "type": "dataframe",
              "variable_name": "cd",
              "summary": "{\n  \"name\": \"cd\",\n  \"rows\": 1908,\n  \"fields\": [\n    {\n      \"column\": \"ID\",\n      \"properties\": {\n        \"dtype\": \"number\",\n        \"std\": 2892.947219435032,\n        \"min\": 3203.0,\n        \"max\": 13199.0,\n        \"num_unique_values\": 1906,\n        \"samples\": [\n          4552.0,\n          12893.0,\n          8059.0\n        ],\n        \"semantic_type\": \"\",\n        \"description\": \"\"\n      }\n    },\n    {\n      \"column\": \"Actual\",\n      \"properties\": {\n        \"dtype\": \"number\",\n        \"std\": 0.31426689151692816,\n        \"min\": 0.019194199,\n        \"max\": 1.8927532,\n        \"num_unique_values\": 1906,\n        \"samples\": [\n          0.08261326,\n          0.20903549,\n          1.1908576\n        ],\n        \"semantic_type\": \"\",\n        \"description\": \"\"\n      }\n    },\n    {\n      \"column\": \"Predicted\",\n      \"properties\": {\n        \"dtype\": \"number\",\n        \"std\": 0.22254248328381307,\n        \"min\": -0.3132138615901439,\n        \"max\": 1.577280076674891,\n        \"num_unique_values\": 1906,\n        \"samples\": [\n          0.2813870917819609,\n          0.22645959731327325,\n          0.518177739124345\n        ],\n        \"semantic_type\": \"\",\n        \"description\": \"\"\n      }\n    }\n  ]\n}"
            }
          },
          "metadata": {},
          "execution_count": 34
        }
      ],
      "source": [
        "cd=pd.DataFrame(dict(Actual = y_test, Predicted = lm_pred))\n",
        "#pd.set_option('display.max_rows', 200) # displays the entire dataset\n",
        "cd.head()"
      ]
    },
    {
      "cell_type": "code",
      "execution_count": null,
      "id": "3fbeb6a4-db41-4a5d-90aa-0a6b6ecfb794",
      "metadata": {
        "colab": {
          "base_uri": "https://localhost:8080/"
        },
        "id": "3fbeb6a4-db41-4a5d-90aa-0a6b6ecfb794",
        "outputId": "e01c6d5e-1a56-49ae-885d-009b11365aaa"
      },
      "outputs": [
        {
          "output_type": "execute_result",
          "data": {
            "text/plain": [
              "0.2938308909461844"
            ]
          },
          "metadata": {},
          "execution_count": 62
        }
      ],
      "source": [
        "lm.coef_\n",
        "\n",
        "lm.intercept_"
      ]
    },
    {
      "cell_type": "code",
      "execution_count": null,
      "id": "59c4a7d2-90ce-468c-87c1-4ce8ac806c01",
      "metadata": {
        "id": "59c4a7d2-90ce-468c-87c1-4ce8ac806c01"
      },
      "outputs": [],
      "source": [
        "from sklearn.metrics import mean_squared_error,mean_absolute_error"
      ]
    },
    {
      "cell_type": "code",
      "execution_count": null,
      "id": "97a4f24d-eb39-4a16-9ae4-82a5b37fc896",
      "metadata": {
        "id": "97a4f24d-eb39-4a16-9ae4-82a5b37fc896"
      },
      "outputs": [],
      "source": [
        "MSE = np.square(np.subtract(y_test,lm_pred)).mean()\n",
        "RMSE_LM = math.sqrt(MSE)"
      ]
    },
    {
      "cell_type": "code",
      "execution_count": null,
      "id": "80b94573-aa52-4dd1-b8b1-4dbd8cceba79",
      "metadata": {
        "colab": {
          "base_uri": "https://localhost:8080/"
        },
        "id": "80b94573-aa52-4dd1-b8b1-4dbd8cceba79",
        "outputId": "1ca065c5-b7f5-4478-a54f-6fec5d62adc4"
      },
      "outputs": [
        {
          "output_type": "stream",
          "name": "stdout",
          "text": [
            "MAPE: 0.9262353292941138\n",
            "MSE : 0.050751624244655937\n",
            "MAE: 0.15514999233356433\n",
            "R2 Score: 0.4858612190479813\n"
          ]
        }
      ],
      "source": [
        "print(f\"MAPE: {mean_absolute_percentage_error(y_test, lm_pred)}\")\n",
        "print(f\"MSE : {mean_squared_error(y_test,lm_pred)}\")\n",
        "print(f\"MAE: {mean_absolute_error(y_test,lm_pred)}\")\n",
        "print(f\"R2 Score: {r2_score(y_test,lm_pred)}\")"
      ]
    },
    {
      "cell_type": "code",
      "source": [
        "lm_pred_test = lm.predict(wrangle2('/content/drive/MyDrive/test.csv'))"
      ],
      "metadata": {
        "id": "vnaVeqG4frWj"
      },
      "id": "vnaVeqG4frWj",
      "execution_count": null,
      "outputs": []
    },
    {
      "cell_type": "code",
      "source": [
        "pd.DataFrame(lm_pred_test).to_csv('lm_submission.csv', index=True)"
      ],
      "metadata": {
        "id": "uiZYkA3tf4x-"
      },
      "id": "uiZYkA3tf4x-",
      "execution_count": null,
      "outputs": []
    },
    {
      "cell_type": "markdown",
      "id": "ce140615-4349-4584-8dc4-8b5bcf63bc3c",
      "metadata": {
        "id": "ce140615-4349-4584-8dc4-8b5bcf63bc3c"
      },
      "source": [
        "#### Ridge Regression"
      ]
    },
    {
      "cell_type": "code",
      "execution_count": null,
      "id": "3d812013-6e36-4369-9e24-bdd574ec3d61",
      "metadata": {
        "id": "3d812013-6e36-4369-9e24-bdd574ec3d61"
      },
      "outputs": [],
      "source": [
        "from sklearn.linear_model import Ridge"
      ]
    },
    {
      "cell_type": "code",
      "execution_count": null,
      "id": "4e013e85-04e5-47bc-9bbf-7b91ed17037c",
      "metadata": {
        "id": "4e013e85-04e5-47bc-9bbf-7b91ed17037c"
      },
      "outputs": [],
      "source": [
        "ridge_model = Ridge()"
      ]
    },
    {
      "cell_type": "code",
      "execution_count": null,
      "id": "72191f2e-0b03-4b86-a939-83dd31f006ce",
      "metadata": {
        "colab": {
          "base_uri": "https://localhost:8080/",
          "height": 75
        },
        "id": "72191f2e-0b03-4b86-a939-83dd31f006ce",
        "outputId": "205cfd2b-6a17-453a-bb89-8f2ea0b0194b"
      },
      "outputs": [
        {
          "output_type": "execute_result",
          "data": {
            "text/plain": [
              "Ridge()"
            ],
            "text/html": [
              "<style>#sk-container-id-7 {color: black;background-color: white;}#sk-container-id-7 pre{padding: 0;}#sk-container-id-7 div.sk-toggleable {background-color: white;}#sk-container-id-7 label.sk-toggleable__label {cursor: pointer;display: block;width: 100%;margin-bottom: 0;padding: 0.3em;box-sizing: border-box;text-align: center;}#sk-container-id-7 label.sk-toggleable__label-arrow:before {content: \"▸\";float: left;margin-right: 0.25em;color: #696969;}#sk-container-id-7 label.sk-toggleable__label-arrow:hover:before {color: black;}#sk-container-id-7 div.sk-estimator:hover label.sk-toggleable__label-arrow:before {color: black;}#sk-container-id-7 div.sk-toggleable__content {max-height: 0;max-width: 0;overflow: hidden;text-align: left;background-color: #f0f8ff;}#sk-container-id-7 div.sk-toggleable__content pre {margin: 0.2em;color: black;border-radius: 0.25em;background-color: #f0f8ff;}#sk-container-id-7 input.sk-toggleable__control:checked~div.sk-toggleable__content {max-height: 200px;max-width: 100%;overflow: auto;}#sk-container-id-7 input.sk-toggleable__control:checked~label.sk-toggleable__label-arrow:before {content: \"▾\";}#sk-container-id-7 div.sk-estimator input.sk-toggleable__control:checked~label.sk-toggleable__label {background-color: #d4ebff;}#sk-container-id-7 div.sk-label input.sk-toggleable__control:checked~label.sk-toggleable__label {background-color: #d4ebff;}#sk-container-id-7 input.sk-hidden--visually {border: 0;clip: rect(1px 1px 1px 1px);clip: rect(1px, 1px, 1px, 1px);height: 1px;margin: -1px;overflow: hidden;padding: 0;position: absolute;width: 1px;}#sk-container-id-7 div.sk-estimator {font-family: monospace;background-color: #f0f8ff;border: 1px dotted black;border-radius: 0.25em;box-sizing: border-box;margin-bottom: 0.5em;}#sk-container-id-7 div.sk-estimator:hover {background-color: #d4ebff;}#sk-container-id-7 div.sk-parallel-item::after {content: \"\";width: 100%;border-bottom: 1px solid gray;flex-grow: 1;}#sk-container-id-7 div.sk-label:hover label.sk-toggleable__label {background-color: #d4ebff;}#sk-container-id-7 div.sk-serial::before {content: \"\";position: absolute;border-left: 1px solid gray;box-sizing: border-box;top: 0;bottom: 0;left: 50%;z-index: 0;}#sk-container-id-7 div.sk-serial {display: flex;flex-direction: column;align-items: center;background-color: white;padding-right: 0.2em;padding-left: 0.2em;position: relative;}#sk-container-id-7 div.sk-item {position: relative;z-index: 1;}#sk-container-id-7 div.sk-parallel {display: flex;align-items: stretch;justify-content: center;background-color: white;position: relative;}#sk-container-id-7 div.sk-item::before, #sk-container-id-7 div.sk-parallel-item::before {content: \"\";position: absolute;border-left: 1px solid gray;box-sizing: border-box;top: 0;bottom: 0;left: 50%;z-index: -1;}#sk-container-id-7 div.sk-parallel-item {display: flex;flex-direction: column;z-index: 1;position: relative;background-color: white;}#sk-container-id-7 div.sk-parallel-item:first-child::after {align-self: flex-end;width: 50%;}#sk-container-id-7 div.sk-parallel-item:last-child::after {align-self: flex-start;width: 50%;}#sk-container-id-7 div.sk-parallel-item:only-child::after {width: 0;}#sk-container-id-7 div.sk-dashed-wrapped {border: 1px dashed gray;margin: 0 0.4em 0.5em 0.4em;box-sizing: border-box;padding-bottom: 0.4em;background-color: white;}#sk-container-id-7 div.sk-label label {font-family: monospace;font-weight: bold;display: inline-block;line-height: 1.2em;}#sk-container-id-7 div.sk-label-container {text-align: center;}#sk-container-id-7 div.sk-container {/* jupyter's `normalize.less` sets `[hidden] { display: none; }` but bootstrap.min.css set `[hidden] { display: none !important; }` so we also need the `!important` here to be able to override the default hidden behavior on the sphinx rendered scikit-learn.org. See: https://github.com/scikit-learn/scikit-learn/issues/21755 */display: inline-block !important;position: relative;}#sk-container-id-7 div.sk-text-repr-fallback {display: none;}</style><div id=\"sk-container-id-7\" class=\"sk-top-container\"><div class=\"sk-text-repr-fallback\"><pre>Ridge()</pre><b>In a Jupyter environment, please rerun this cell to show the HTML representation or trust the notebook. <br />On GitHub, the HTML representation is unable to render, please try loading this page with nbviewer.org.</b></div><div class=\"sk-container\" hidden><div class=\"sk-item\"><div class=\"sk-estimator sk-toggleable\"><input class=\"sk-toggleable__control sk-hidden--visually\" id=\"sk-estimator-id-9\" type=\"checkbox\" checked><label for=\"sk-estimator-id-9\" class=\"sk-toggleable__label sk-toggleable__label-arrow\">Ridge</label><div class=\"sk-toggleable__content\"><pre>Ridge()</pre></div></div></div></div></div>"
            ]
          },
          "metadata": {},
          "execution_count": 91
        }
      ],
      "source": [
        "ridge_model.fit(X_train,y_train)"
      ]
    },
    {
      "cell_type": "code",
      "execution_count": null,
      "id": "da7669cf-4ffb-4c1b-825a-a40de20fd997",
      "metadata": {
        "id": "da7669cf-4ffb-4c1b-825a-a40de20fd997"
      },
      "outputs": [],
      "source": [
        "rid_pred = ridge_model.predict(X_test)"
      ]
    },
    {
      "cell_type": "code",
      "execution_count": null,
      "id": "9e38db5e-0019-4cfc-ab0f-036ad5d6c95d",
      "metadata": {
        "id": "9e38db5e-0019-4cfc-ab0f-036ad5d6c95d"
      },
      "outputs": [],
      "source": [
        "MSE = np.square(np.subtract(y_test,rid_pred)).mean()\n",
        "RMSE_RID= math.sqrt(MSE)"
      ]
    },
    {
      "cell_type": "code",
      "execution_count": null,
      "id": "ca625c6e-de38-45c7-9bf3-0d8ebff39e30",
      "metadata": {
        "colab": {
          "base_uri": "https://localhost:8080/"
        },
        "id": "ca625c6e-de38-45c7-9bf3-0d8ebff39e30",
        "outputId": "182dfb1d-4605-4340-b5b3-049dea25dad2"
      },
      "outputs": [
        {
          "output_type": "stream",
          "name": "stdout",
          "text": [
            "MAPE: 0.926088433034143\n",
            "MSE : 0.0507536222491482\n",
            "MAE: 0.15514426613905477\n",
            "R2 Score: 0.48584097828506434\n"
          ]
        }
      ],
      "source": [
        "print(f\"MAPE: {mean_absolute_percentage_error(y_test, rid_pred)}\")\n",
        "print(f\"MSE : {mean_squared_error(y_test,rid_pred)}\")\n",
        "print(f\"MAE: {mean_absolute_error(y_test,rid_pred)}\")\n",
        "print(f\"R2 Score: {r2_score(y_test,rid_pred)}\")"
      ]
    },
    {
      "cell_type": "code",
      "source": [
        "ridge_pred_test = ridge_model.predict(wrangle2('/content/drive/MyDrive/test.csv'))\n",
        "pd.DataFrame(ridge_pred_test).to_csv('ridge_submission.csv', index = True)"
      ],
      "metadata": {
        "id": "e9ID8tyqiKNi"
      },
      "id": "e9ID8tyqiKNi",
      "execution_count": null,
      "outputs": []
    },
    {
      "cell_type": "markdown",
      "id": "d610ffc7-51cc-4387-8207-0f969b0fc559",
      "metadata": {
        "id": "d610ffc7-51cc-4387-8207-0f969b0fc559"
      },
      "source": [
        "### Lasso Regression"
      ]
    },
    {
      "cell_type": "code",
      "execution_count": null,
      "id": "a2c16cb4-4221-4bae-ac8a-10cd94c07644",
      "metadata": {
        "id": "a2c16cb4-4221-4bae-ac8a-10cd94c07644"
      },
      "outputs": [],
      "source": [
        "from sklearn.linear_model import Lasso"
      ]
    },
    {
      "cell_type": "code",
      "execution_count": null,
      "id": "d786e7fc-72c3-4d32-a0bd-d8191f8b706f",
      "metadata": {
        "id": "d786e7fc-72c3-4d32-a0bd-d8191f8b706f"
      },
      "outputs": [],
      "source": [
        "lasso_model = Lasso()"
      ]
    },
    {
      "cell_type": "code",
      "execution_count": null,
      "id": "ad878e12-cc45-4dab-b966-8e38dbcf8772",
      "metadata": {
        "colab": {
          "base_uri": "https://localhost:8080/",
          "height": 75
        },
        "id": "ad878e12-cc45-4dab-b966-8e38dbcf8772",
        "outputId": "a228b964-2e53-44ac-a2f4-d34de23fb981"
      },
      "outputs": [
        {
          "output_type": "execute_result",
          "data": {
            "text/plain": [
              "Lasso()"
            ],
            "text/html": [
              "<style>#sk-container-id-8 {color: black;background-color: white;}#sk-container-id-8 pre{padding: 0;}#sk-container-id-8 div.sk-toggleable {background-color: white;}#sk-container-id-8 label.sk-toggleable__label {cursor: pointer;display: block;width: 100%;margin-bottom: 0;padding: 0.3em;box-sizing: border-box;text-align: center;}#sk-container-id-8 label.sk-toggleable__label-arrow:before {content: \"▸\";float: left;margin-right: 0.25em;color: #696969;}#sk-container-id-8 label.sk-toggleable__label-arrow:hover:before {color: black;}#sk-container-id-8 div.sk-estimator:hover label.sk-toggleable__label-arrow:before {color: black;}#sk-container-id-8 div.sk-toggleable__content {max-height: 0;max-width: 0;overflow: hidden;text-align: left;background-color: #f0f8ff;}#sk-container-id-8 div.sk-toggleable__content pre {margin: 0.2em;color: black;border-radius: 0.25em;background-color: #f0f8ff;}#sk-container-id-8 input.sk-toggleable__control:checked~div.sk-toggleable__content {max-height: 200px;max-width: 100%;overflow: auto;}#sk-container-id-8 input.sk-toggleable__control:checked~label.sk-toggleable__label-arrow:before {content: \"▾\";}#sk-container-id-8 div.sk-estimator input.sk-toggleable__control:checked~label.sk-toggleable__label {background-color: #d4ebff;}#sk-container-id-8 div.sk-label input.sk-toggleable__control:checked~label.sk-toggleable__label {background-color: #d4ebff;}#sk-container-id-8 input.sk-hidden--visually {border: 0;clip: rect(1px 1px 1px 1px);clip: rect(1px, 1px, 1px, 1px);height: 1px;margin: -1px;overflow: hidden;padding: 0;position: absolute;width: 1px;}#sk-container-id-8 div.sk-estimator {font-family: monospace;background-color: #f0f8ff;border: 1px dotted black;border-radius: 0.25em;box-sizing: border-box;margin-bottom: 0.5em;}#sk-container-id-8 div.sk-estimator:hover {background-color: #d4ebff;}#sk-container-id-8 div.sk-parallel-item::after {content: \"\";width: 100%;border-bottom: 1px solid gray;flex-grow: 1;}#sk-container-id-8 div.sk-label:hover label.sk-toggleable__label {background-color: #d4ebff;}#sk-container-id-8 div.sk-serial::before {content: \"\";position: absolute;border-left: 1px solid gray;box-sizing: border-box;top: 0;bottom: 0;left: 50%;z-index: 0;}#sk-container-id-8 div.sk-serial {display: flex;flex-direction: column;align-items: center;background-color: white;padding-right: 0.2em;padding-left: 0.2em;position: relative;}#sk-container-id-8 div.sk-item {position: relative;z-index: 1;}#sk-container-id-8 div.sk-parallel {display: flex;align-items: stretch;justify-content: center;background-color: white;position: relative;}#sk-container-id-8 div.sk-item::before, #sk-container-id-8 div.sk-parallel-item::before {content: \"\";position: absolute;border-left: 1px solid gray;box-sizing: border-box;top: 0;bottom: 0;left: 50%;z-index: -1;}#sk-container-id-8 div.sk-parallel-item {display: flex;flex-direction: column;z-index: 1;position: relative;background-color: white;}#sk-container-id-8 div.sk-parallel-item:first-child::after {align-self: flex-end;width: 50%;}#sk-container-id-8 div.sk-parallel-item:last-child::after {align-self: flex-start;width: 50%;}#sk-container-id-8 div.sk-parallel-item:only-child::after {width: 0;}#sk-container-id-8 div.sk-dashed-wrapped {border: 1px dashed gray;margin: 0 0.4em 0.5em 0.4em;box-sizing: border-box;padding-bottom: 0.4em;background-color: white;}#sk-container-id-8 div.sk-label label {font-family: monospace;font-weight: bold;display: inline-block;line-height: 1.2em;}#sk-container-id-8 div.sk-label-container {text-align: center;}#sk-container-id-8 div.sk-container {/* jupyter's `normalize.less` sets `[hidden] { display: none; }` but bootstrap.min.css set `[hidden] { display: none !important; }` so we also need the `!important` here to be able to override the default hidden behavior on the sphinx rendered scikit-learn.org. See: https://github.com/scikit-learn/scikit-learn/issues/21755 */display: inline-block !important;position: relative;}#sk-container-id-8 div.sk-text-repr-fallback {display: none;}</style><div id=\"sk-container-id-8\" class=\"sk-top-container\"><div class=\"sk-text-repr-fallback\"><pre>Lasso()</pre><b>In a Jupyter environment, please rerun this cell to show the HTML representation or trust the notebook. <br />On GitHub, the HTML representation is unable to render, please try loading this page with nbviewer.org.</b></div><div class=\"sk-container\" hidden><div class=\"sk-item\"><div class=\"sk-estimator sk-toggleable\"><input class=\"sk-toggleable__control sk-hidden--visually\" id=\"sk-estimator-id-10\" type=\"checkbox\" checked><label for=\"sk-estimator-id-10\" class=\"sk-toggleable__label sk-toggleable__label-arrow\">Lasso</label><div class=\"sk-toggleable__content\"><pre>Lasso()</pre></div></div></div></div></div>"
            ]
          },
          "metadata": {},
          "execution_count": 97
        }
      ],
      "source": [
        "lasso_model.fit(X_train,y_train)"
      ]
    },
    {
      "cell_type": "code",
      "execution_count": null,
      "id": "6274f9b8-6d63-4ad3-a88d-549b64392a5f",
      "metadata": {
        "id": "6274f9b8-6d63-4ad3-a88d-549b64392a5f"
      },
      "outputs": [],
      "source": [
        "lasso_pred = lasso_model.predict(X_test)"
      ]
    },
    {
      "cell_type": "code",
      "execution_count": null,
      "id": "5057da98-e9e3-44c7-9481-30c10bf13366",
      "metadata": {
        "id": "5057da98-e9e3-44c7-9481-30c10bf13366"
      },
      "outputs": [],
      "source": [
        "\n",
        "MSE = np.square(np.subtract(y_test,lasso_pred)).mean()\n",
        "\n",
        "RMSE_LASSO = math.sqrt(MSE)"
      ]
    },
    {
      "cell_type": "code",
      "execution_count": null,
      "id": "d39eb127-ca8f-4802-bb11-fd04096b679e",
      "metadata": {
        "colab": {
          "base_uri": "https://localhost:8080/"
        },
        "id": "d39eb127-ca8f-4802-bb11-fd04096b679e",
        "outputId": "5a31bbc6-35c1-4ba3-960c-d840eaae79dd"
      },
      "outputs": [
        {
          "output_type": "stream",
          "name": "stdout",
          "text": [
            "MAPE: 1.6253824107512873\n",
            "MSE : 0.09824620944864251\n",
            "MAE: 0.22442655497273828\n",
            "R2 Score: 0.004717836899562622\n"
          ]
        }
      ],
      "source": [
        "print(f\"MAPE: {mean_absolute_percentage_error(y_test, lasso_pred)}\")\n",
        "print(f\"MSE : {mean_squared_error(y_test,lasso_pred)}\")\n",
        "print(f\"MAE: {mean_absolute_error(y_test,lasso_pred)}\")\n",
        "print(f\"R2 Score: {r2_score(y_test,lasso_pred)}\")"
      ]
    },
    {
      "cell_type": "code",
      "source": [
        "lasso_pred_test = lasso_model.predict(wrangle2('/content/drive/MyDrive/test.csv'))\n",
        "pd.DataFrame(lasso_pred_test).to_csv('lasso_submission.csv', index = True)"
      ],
      "metadata": {
        "id": "7DDe40TFio9d"
      },
      "id": "7DDe40TFio9d",
      "execution_count": null,
      "outputs": []
    },
    {
      "cell_type": "markdown",
      "id": "c74da8a5-d030-4ef2-b832-05461801f01a",
      "metadata": {
        "id": "c74da8a5-d030-4ef2-b832-05461801f01a"
      },
      "source": [
        "### Random Forest Regression"
      ]
    },
    {
      "cell_type": "code",
      "execution_count": null,
      "id": "89133639-70a8-47ca-8e33-ce0a99d3b6a1",
      "metadata": {
        "id": "89133639-70a8-47ca-8e33-ce0a99d3b6a1"
      },
      "outputs": [],
      "source": [
        "from sklearn.ensemble import RandomForestRegressor"
      ]
    },
    {
      "cell_type": "code",
      "execution_count": null,
      "id": "6a04dae4-8a88-420a-9cf7-379c2acba479",
      "metadata": {
        "id": "6a04dae4-8a88-420a-9cf7-379c2acba479"
      },
      "outputs": [],
      "source": [
        "rfr = RandomForestRegressor()"
      ]
    },
    {
      "cell_type": "code",
      "execution_count": null,
      "id": "9bf1c512-7dee-4979-86c9-aa3b1b916bc4",
      "metadata": {
        "colab": {
          "base_uri": "https://localhost:8080/",
          "height": 75
        },
        "id": "9bf1c512-7dee-4979-86c9-aa3b1b916bc4",
        "outputId": "9f66f26e-7a57-4674-bae4-c53514564d79"
      },
      "outputs": [
        {
          "output_type": "execute_result",
          "data": {
            "text/plain": [
              "RandomForestRegressor()"
            ],
            "text/html": [
              "<style>#sk-container-id-5 {color: black;background-color: white;}#sk-container-id-5 pre{padding: 0;}#sk-container-id-5 div.sk-toggleable {background-color: white;}#sk-container-id-5 label.sk-toggleable__label {cursor: pointer;display: block;width: 100%;margin-bottom: 0;padding: 0.3em;box-sizing: border-box;text-align: center;}#sk-container-id-5 label.sk-toggleable__label-arrow:before {content: \"▸\";float: left;margin-right: 0.25em;color: #696969;}#sk-container-id-5 label.sk-toggleable__label-arrow:hover:before {color: black;}#sk-container-id-5 div.sk-estimator:hover label.sk-toggleable__label-arrow:before {color: black;}#sk-container-id-5 div.sk-toggleable__content {max-height: 0;max-width: 0;overflow: hidden;text-align: left;background-color: #f0f8ff;}#sk-container-id-5 div.sk-toggleable__content pre {margin: 0.2em;color: black;border-radius: 0.25em;background-color: #f0f8ff;}#sk-container-id-5 input.sk-toggleable__control:checked~div.sk-toggleable__content {max-height: 200px;max-width: 100%;overflow: auto;}#sk-container-id-5 input.sk-toggleable__control:checked~label.sk-toggleable__label-arrow:before {content: \"▾\";}#sk-container-id-5 div.sk-estimator input.sk-toggleable__control:checked~label.sk-toggleable__label {background-color: #d4ebff;}#sk-container-id-5 div.sk-label input.sk-toggleable__control:checked~label.sk-toggleable__label {background-color: #d4ebff;}#sk-container-id-5 input.sk-hidden--visually {border: 0;clip: rect(1px 1px 1px 1px);clip: rect(1px, 1px, 1px, 1px);height: 1px;margin: -1px;overflow: hidden;padding: 0;position: absolute;width: 1px;}#sk-container-id-5 div.sk-estimator {font-family: monospace;background-color: #f0f8ff;border: 1px dotted black;border-radius: 0.25em;box-sizing: border-box;margin-bottom: 0.5em;}#sk-container-id-5 div.sk-estimator:hover {background-color: #d4ebff;}#sk-container-id-5 div.sk-parallel-item::after {content: \"\";width: 100%;border-bottom: 1px solid gray;flex-grow: 1;}#sk-container-id-5 div.sk-label:hover label.sk-toggleable__label {background-color: #d4ebff;}#sk-container-id-5 div.sk-serial::before {content: \"\";position: absolute;border-left: 1px solid gray;box-sizing: border-box;top: 0;bottom: 0;left: 50%;z-index: 0;}#sk-container-id-5 div.sk-serial {display: flex;flex-direction: column;align-items: center;background-color: white;padding-right: 0.2em;padding-left: 0.2em;position: relative;}#sk-container-id-5 div.sk-item {position: relative;z-index: 1;}#sk-container-id-5 div.sk-parallel {display: flex;align-items: stretch;justify-content: center;background-color: white;position: relative;}#sk-container-id-5 div.sk-item::before, #sk-container-id-5 div.sk-parallel-item::before {content: \"\";position: absolute;border-left: 1px solid gray;box-sizing: border-box;top: 0;bottom: 0;left: 50%;z-index: -1;}#sk-container-id-5 div.sk-parallel-item {display: flex;flex-direction: column;z-index: 1;position: relative;background-color: white;}#sk-container-id-5 div.sk-parallel-item:first-child::after {align-self: flex-end;width: 50%;}#sk-container-id-5 div.sk-parallel-item:last-child::after {align-self: flex-start;width: 50%;}#sk-container-id-5 div.sk-parallel-item:only-child::after {width: 0;}#sk-container-id-5 div.sk-dashed-wrapped {border: 1px dashed gray;margin: 0 0.4em 0.5em 0.4em;box-sizing: border-box;padding-bottom: 0.4em;background-color: white;}#sk-container-id-5 div.sk-label label {font-family: monospace;font-weight: bold;display: inline-block;line-height: 1.2em;}#sk-container-id-5 div.sk-label-container {text-align: center;}#sk-container-id-5 div.sk-container {/* jupyter's `normalize.less` sets `[hidden] { display: none; }` but bootstrap.min.css set `[hidden] { display: none !important; }` so we also need the `!important` here to be able to override the default hidden behavior on the sphinx rendered scikit-learn.org. See: https://github.com/scikit-learn/scikit-learn/issues/21755 */display: inline-block !important;position: relative;}#sk-container-id-5 div.sk-text-repr-fallback {display: none;}</style><div id=\"sk-container-id-5\" class=\"sk-top-container\"><div class=\"sk-text-repr-fallback\"><pre>RandomForestRegressor()</pre><b>In a Jupyter environment, please rerun this cell to show the HTML representation or trust the notebook. <br />On GitHub, the HTML representation is unable to render, please try loading this page with nbviewer.org.</b></div><div class=\"sk-container\" hidden><div class=\"sk-item\"><div class=\"sk-estimator sk-toggleable\"><input class=\"sk-toggleable__control sk-hidden--visually\" id=\"sk-estimator-id-5\" type=\"checkbox\" checked><label for=\"sk-estimator-id-5\" class=\"sk-toggleable__label sk-toggleable__label-arrow\">RandomForestRegressor</label><div class=\"sk-toggleable__content\"><pre>RandomForestRegressor()</pre></div></div></div></div></div>"
            ]
          },
          "metadata": {},
          "execution_count": 59
        }
      ],
      "source": [
        "rfr.fit(X_train,y_train)"
      ]
    },
    {
      "cell_type": "code",
      "execution_count": null,
      "id": "1e58045d-28ef-4914-91e8-6d01fa32898b",
      "metadata": {
        "id": "1e58045d-28ef-4914-91e8-6d01fa32898b"
      },
      "outputs": [],
      "source": [
        "rfr_pred = rfr.predict(X_test)"
      ]
    },
    {
      "cell_type": "code",
      "execution_count": null,
      "id": "c0318e5d-9775-464f-8af2-00873560bbdc",
      "metadata": {
        "id": "c0318e5d-9775-464f-8af2-00873560bbdc"
      },
      "outputs": [],
      "source": [
        "MSE = np.square(np.subtract(y_test,rfr_pred)).mean()\n",
        "RMSE_RFR = math.sqrt(MSE)"
      ]
    },
    {
      "cell_type": "code",
      "execution_count": null,
      "id": "f29420c3-a01c-4a56-a2e5-5f0833540ab6",
      "metadata": {
        "colab": {
          "base_uri": "https://localhost:8080/"
        },
        "id": "f29420c3-a01c-4a56-a2e5-5f0833540ab6",
        "outputId": "b67e071d-5e18-4317-de6a-e532fa4e5e01"
      },
      "outputs": [
        {
          "output_type": "stream",
          "name": "stdout",
          "text": [
            "MAPE: 0.540378765198339\n",
            "MSE : 0.024868409228703578\n",
            "MAE: 0.10262902182201257\n",
            "R2 Score: 0.7480708490544927\n"
          ]
        }
      ],
      "source": [
        "print(f\"MAPE: {mean_absolute_percentage_error(y_test, rfr_pred)}\")\n",
        "print(f\"MSE : {mean_squared_error(y_test,rfr_pred)}\")\n",
        "print(f\"MAE: {mean_absolute_error(y_test,rfr_pred)}\")\n",
        "print(f\"R2 Score: {r2_score(y_test,rfr_pred)}\")"
      ]
    },
    {
      "cell_type": "code",
      "execution_count": null,
      "id": "794c4461-6ee2-4a4d-a360-3932b30676fa",
      "metadata": {
        "id": "794c4461-6ee2-4a4d-a360-3932b30676fa"
      },
      "outputs": [],
      "source": [
        "randomf_pred_test = rfr.predict(wrangle2('/content/drive/MyDrive/test.csv'))\n",
        "pd.DataFrame(randomf_pred_test).to_csv('rfr_submission.csv', index = 1)"
      ]
    },
    {
      "cell_type": "markdown",
      "id": "59bc1f63-57d8-47e8-a991-61b72ad177d1",
      "metadata": {
        "id": "59bc1f63-57d8-47e8-a991-61b72ad177d1"
      },
      "source": [
        "#### Data Strutures(DataFrame)"
      ]
    },
    {
      "cell_type": "code",
      "execution_count": null,
      "id": "af3e89f6-b342-455a-88ea-494fbd6a3f27",
      "metadata": {
        "id": "af3e89f6-b342-455a-88ea-494fbd6a3f27"
      },
      "outputs": [],
      "source": [
        "lasso=[mean_absolute_percentage_error(y_test, lasso_pred), mean_squared_error(y_test,lasso_pred),mean_absolute_error(y_test,lasso_pred),r2_score(y_test,lasso_pred),RMSE_LASSO]\n",
        "ridge=[mean_absolute_percentage_error(y_test, rid_pred), mean_squared_error(y_test,rid_pred),mean_absolute_error(y_test,rid_pred),r2_score(y_test,rid_pred), RMSE_RID]\n",
        "linear=[mean_absolute_percentage_error(y_test, lm_pred), mean_squared_error(y_test,lm_pred),mean_absolute_error(y_test,lm_pred),r2_score(y_test,lm_pred), RMSE_LM]\n",
        "randomforest=[mean_absolute_percentage_error(y_test, rfr_pred), mean_squared_error(y_test,rfr_pred),mean_absolute_error(y_test,rfr_pred),r2_score(y_test,rfr_pred),RMSE_RFR]"
      ]
    },
    {
      "cell_type": "code",
      "execution_count": null,
      "id": "240e7090-00c1-4e80-99db-478265160fa3",
      "metadata": {
        "id": "240e7090-00c1-4e80-99db-478265160fa3"
      },
      "outputs": [],
      "source": [
        "lasso=pd.DataFrame(lasso,columns  = [\"LASSO REGRESSION\"], index = [\"MAPE\", \"MEAN SQUARED ERROR\", \"MEAN ABSOLUTE ERROR\", \"R-SQUARED ERROR\",\"ROOT MEAN SQUARED ERROR\"])\n",
        "ridge=pd.DataFrame(ridge, columns = [\"RIDGE REGRESSION\"], index = [\"MAPE\", \"MEAN SQUARED ERROR\", \"MEAN ABSOLUTE ERROR\", \"R-SQUARED ERROR\",\"ROOT MEAN SQUARED ERROR\"])\n",
        "linear =pd.DataFrame(linear,columns  = [\"LINEAR REGRESSION\"], index   = [\"MAPE\",\"MEAN SQUARED ERROR\", \"MEAN ABSOLUTE ERROR\", \"R-SQUARED ERROR\",\"ROOT MEAN SQUARED ERROR\"])\n",
        "randomforest =pd.DataFrame(randomforest,columns  = [\"RANDOM FOREST REGRESSION\"], index   = [\"MAPE\", \"MEAN SQUARED ERROR\", \"MEAN ABSOLUTE ERROR\", \"R-SQUARED ERROR\",\"ROOT MEAN SQUARED ERROR\"])"
      ]
    },
    {
      "cell_type": "code",
      "execution_count": null,
      "id": "b178cfce-6a3a-45b3-88fe-802edc65a0e3",
      "metadata": {
        "id": "b178cfce-6a3a-45b3-88fe-802edc65a0e3"
      },
      "outputs": [],
      "source": [
        "concat_data = pd.concat([lasso,ridge,linear,randomforest], axis =1 )"
      ]
    },
    {
      "cell_type": "code",
      "execution_count": null,
      "id": "0d649146-6b49-490e-af3c-8e0fe9c4b5e4",
      "metadata": {
        "colab": {
          "base_uri": "https://localhost:8080/",
          "height": 206
        },
        "id": "0d649146-6b49-490e-af3c-8e0fe9c4b5e4",
        "outputId": "daa43222-8c6e-4bea-99ed-de9fae2484bd"
      },
      "outputs": [
        {
          "output_type": "execute_result",
          "data": {
            "text/plain": [
              "                         LASSO REGRESSION  RIDGE REGRESSION  \\\n",
              "MAPE                             1.625382          0.926088   \n",
              "MEAN SQUARED ERROR               0.098246          0.050754   \n",
              "MEAN ABSOLUTE ERROR              0.224427          0.155144   \n",
              "R-SQUARED ERROR                  0.004718          0.485841   \n",
              "ROOT MEAN SQUARED ERROR          0.313443          0.225286   \n",
              "\n",
              "                         LINEAR REGRESSION  RANDOM FOREST REGRESSION  \n",
              "MAPE                              0.926235                  0.540379  \n",
              "MEAN SQUARED ERROR                0.050752                  0.024868  \n",
              "MEAN ABSOLUTE ERROR               0.155150                  0.102629  \n",
              "R-SQUARED ERROR                   0.485861                  0.748071  \n",
              "ROOT MEAN SQUARED ERROR           0.225281                  0.157697  "
            ],
            "text/html": [
              "\n",
              "  <div id=\"df-d9ba9e56-6caa-4dc9-9a77-d7509ec569b8\" class=\"colab-df-container\">\n",
              "    <div>\n",
              "<style scoped>\n",
              "    .dataframe tbody tr th:only-of-type {\n",
              "        vertical-align: middle;\n",
              "    }\n",
              "\n",
              "    .dataframe tbody tr th {\n",
              "        vertical-align: top;\n",
              "    }\n",
              "\n",
              "    .dataframe thead th {\n",
              "        text-align: right;\n",
              "    }\n",
              "</style>\n",
              "<table border=\"1\" class=\"dataframe\">\n",
              "  <thead>\n",
              "    <tr style=\"text-align: right;\">\n",
              "      <th></th>\n",
              "      <th>LASSO REGRESSION</th>\n",
              "      <th>RIDGE REGRESSION</th>\n",
              "      <th>LINEAR REGRESSION</th>\n",
              "      <th>RANDOM FOREST REGRESSION</th>\n",
              "    </tr>\n",
              "  </thead>\n",
              "  <tbody>\n",
              "    <tr>\n",
              "      <th>MAPE</th>\n",
              "      <td>1.625382</td>\n",
              "      <td>0.926088</td>\n",
              "      <td>0.926235</td>\n",
              "      <td>0.540379</td>\n",
              "    </tr>\n",
              "    <tr>\n",
              "      <th>MEAN SQUARED ERROR</th>\n",
              "      <td>0.098246</td>\n",
              "      <td>0.050754</td>\n",
              "      <td>0.050752</td>\n",
              "      <td>0.024868</td>\n",
              "    </tr>\n",
              "    <tr>\n",
              "      <th>MEAN ABSOLUTE ERROR</th>\n",
              "      <td>0.224427</td>\n",
              "      <td>0.155144</td>\n",
              "      <td>0.155150</td>\n",
              "      <td>0.102629</td>\n",
              "    </tr>\n",
              "    <tr>\n",
              "      <th>R-SQUARED ERROR</th>\n",
              "      <td>0.004718</td>\n",
              "      <td>0.485841</td>\n",
              "      <td>0.485861</td>\n",
              "      <td>0.748071</td>\n",
              "    </tr>\n",
              "    <tr>\n",
              "      <th>ROOT MEAN SQUARED ERROR</th>\n",
              "      <td>0.313443</td>\n",
              "      <td>0.225286</td>\n",
              "      <td>0.225281</td>\n",
              "      <td>0.157697</td>\n",
              "    </tr>\n",
              "  </tbody>\n",
              "</table>\n",
              "</div>\n",
              "    <div class=\"colab-df-buttons\">\n",
              "\n",
              "  <div class=\"colab-df-container\">\n",
              "    <button class=\"colab-df-convert\" onclick=\"convertToInteractive('df-d9ba9e56-6caa-4dc9-9a77-d7509ec569b8')\"\n",
              "            title=\"Convert this dataframe to an interactive table.\"\n",
              "            style=\"display:none;\">\n",
              "\n",
              "  <svg xmlns=\"http://www.w3.org/2000/svg\" height=\"24px\" viewBox=\"0 -960 960 960\">\n",
              "    <path d=\"M120-120v-720h720v720H120Zm60-500h600v-160H180v160Zm220 220h160v-160H400v160Zm0 220h160v-160H400v160ZM180-400h160v-160H180v160Zm440 0h160v-160H620v160ZM180-180h160v-160H180v160Zm440 0h160v-160H620v160Z\"/>\n",
              "  </svg>\n",
              "    </button>\n",
              "\n",
              "  <style>\n",
              "    .colab-df-container {\n",
              "      display:flex;\n",
              "      gap: 12px;\n",
              "    }\n",
              "\n",
              "    .colab-df-convert {\n",
              "      background-color: #E8F0FE;\n",
              "      border: none;\n",
              "      border-radius: 50%;\n",
              "      cursor: pointer;\n",
              "      display: none;\n",
              "      fill: #1967D2;\n",
              "      height: 32px;\n",
              "      padding: 0 0 0 0;\n",
              "      width: 32px;\n",
              "    }\n",
              "\n",
              "    .colab-df-convert:hover {\n",
              "      background-color: #E2EBFA;\n",
              "      box-shadow: 0px 1px 2px rgba(60, 64, 67, 0.3), 0px 1px 3px 1px rgba(60, 64, 67, 0.15);\n",
              "      fill: #174EA6;\n",
              "    }\n",
              "\n",
              "    .colab-df-buttons div {\n",
              "      margin-bottom: 4px;\n",
              "    }\n",
              "\n",
              "    [theme=dark] .colab-df-convert {\n",
              "      background-color: #3B4455;\n",
              "      fill: #D2E3FC;\n",
              "    }\n",
              "\n",
              "    [theme=dark] .colab-df-convert:hover {\n",
              "      background-color: #434B5C;\n",
              "      box-shadow: 0px 1px 3px 1px rgba(0, 0, 0, 0.15);\n",
              "      filter: drop-shadow(0px 1px 2px rgba(0, 0, 0, 0.3));\n",
              "      fill: #FFFFFF;\n",
              "    }\n",
              "  </style>\n",
              "\n",
              "    <script>\n",
              "      const buttonEl =\n",
              "        document.querySelector('#df-d9ba9e56-6caa-4dc9-9a77-d7509ec569b8 button.colab-df-convert');\n",
              "      buttonEl.style.display =\n",
              "        google.colab.kernel.accessAllowed ? 'block' : 'none';\n",
              "\n",
              "      async function convertToInteractive(key) {\n",
              "        const element = document.querySelector('#df-d9ba9e56-6caa-4dc9-9a77-d7509ec569b8');\n",
              "        const dataTable =\n",
              "          await google.colab.kernel.invokeFunction('convertToInteractive',\n",
              "                                                    [key], {});\n",
              "        if (!dataTable) return;\n",
              "\n",
              "        const docLinkHtml = 'Like what you see? Visit the ' +\n",
              "          '<a target=\"_blank\" href=https://colab.research.google.com/notebooks/data_table.ipynb>data table notebook</a>'\n",
              "          + ' to learn more about interactive tables.';\n",
              "        element.innerHTML = '';\n",
              "        dataTable['output_type'] = 'display_data';\n",
              "        await google.colab.output.renderOutput(dataTable, element);\n",
              "        const docLink = document.createElement('div');\n",
              "        docLink.innerHTML = docLinkHtml;\n",
              "        element.appendChild(docLink);\n",
              "      }\n",
              "    </script>\n",
              "  </div>\n",
              "\n",
              "\n",
              "<div id=\"df-773aedc3-e722-4198-835d-897932c3b370\">\n",
              "  <button class=\"colab-df-quickchart\" onclick=\"quickchart('df-773aedc3-e722-4198-835d-897932c3b370')\"\n",
              "            title=\"Suggest charts\"\n",
              "            style=\"display:none;\">\n",
              "\n",
              "<svg xmlns=\"http://www.w3.org/2000/svg\" height=\"24px\"viewBox=\"0 0 24 24\"\n",
              "     width=\"24px\">\n",
              "    <g>\n",
              "        <path d=\"M19 3H5c-1.1 0-2 .9-2 2v14c0 1.1.9 2 2 2h14c1.1 0 2-.9 2-2V5c0-1.1-.9-2-2-2zM9 17H7v-7h2v7zm4 0h-2V7h2v10zm4 0h-2v-4h2v4z\"/>\n",
              "    </g>\n",
              "</svg>\n",
              "  </button>\n",
              "\n",
              "<style>\n",
              "  .colab-df-quickchart {\n",
              "      --bg-color: #E8F0FE;\n",
              "      --fill-color: #1967D2;\n",
              "      --hover-bg-color: #E2EBFA;\n",
              "      --hover-fill-color: #174EA6;\n",
              "      --disabled-fill-color: #AAA;\n",
              "      --disabled-bg-color: #DDD;\n",
              "  }\n",
              "\n",
              "  [theme=dark] .colab-df-quickchart {\n",
              "      --bg-color: #3B4455;\n",
              "      --fill-color: #D2E3FC;\n",
              "      --hover-bg-color: #434B5C;\n",
              "      --hover-fill-color: #FFFFFF;\n",
              "      --disabled-bg-color: #3B4455;\n",
              "      --disabled-fill-color: #666;\n",
              "  }\n",
              "\n",
              "  .colab-df-quickchart {\n",
              "    background-color: var(--bg-color);\n",
              "    border: none;\n",
              "    border-radius: 50%;\n",
              "    cursor: pointer;\n",
              "    display: none;\n",
              "    fill: var(--fill-color);\n",
              "    height: 32px;\n",
              "    padding: 0;\n",
              "    width: 32px;\n",
              "  }\n",
              "\n",
              "  .colab-df-quickchart:hover {\n",
              "    background-color: var(--hover-bg-color);\n",
              "    box-shadow: 0 1px 2px rgba(60, 64, 67, 0.3), 0 1px 3px 1px rgba(60, 64, 67, 0.15);\n",
              "    fill: var(--button-hover-fill-color);\n",
              "  }\n",
              "\n",
              "  .colab-df-quickchart-complete:disabled,\n",
              "  .colab-df-quickchart-complete:disabled:hover {\n",
              "    background-color: var(--disabled-bg-color);\n",
              "    fill: var(--disabled-fill-color);\n",
              "    box-shadow: none;\n",
              "  }\n",
              "\n",
              "  .colab-df-spinner {\n",
              "    border: 2px solid var(--fill-color);\n",
              "    border-color: transparent;\n",
              "    border-bottom-color: var(--fill-color);\n",
              "    animation:\n",
              "      spin 1s steps(1) infinite;\n",
              "  }\n",
              "\n",
              "  @keyframes spin {\n",
              "    0% {\n",
              "      border-color: transparent;\n",
              "      border-bottom-color: var(--fill-color);\n",
              "      border-left-color: var(--fill-color);\n",
              "    }\n",
              "    20% {\n",
              "      border-color: transparent;\n",
              "      border-left-color: var(--fill-color);\n",
              "      border-top-color: var(--fill-color);\n",
              "    }\n",
              "    30% {\n",
              "      border-color: transparent;\n",
              "      border-left-color: var(--fill-color);\n",
              "      border-top-color: var(--fill-color);\n",
              "      border-right-color: var(--fill-color);\n",
              "    }\n",
              "    40% {\n",
              "      border-color: transparent;\n",
              "      border-right-color: var(--fill-color);\n",
              "      border-top-color: var(--fill-color);\n",
              "    }\n",
              "    60% {\n",
              "      border-color: transparent;\n",
              "      border-right-color: var(--fill-color);\n",
              "    }\n",
              "    80% {\n",
              "      border-color: transparent;\n",
              "      border-right-color: var(--fill-color);\n",
              "      border-bottom-color: var(--fill-color);\n",
              "    }\n",
              "    90% {\n",
              "      border-color: transparent;\n",
              "      border-bottom-color: var(--fill-color);\n",
              "    }\n",
              "  }\n",
              "</style>\n",
              "\n",
              "  <script>\n",
              "    async function quickchart(key) {\n",
              "      const quickchartButtonEl =\n",
              "        document.querySelector('#' + key + ' button');\n",
              "      quickchartButtonEl.disabled = true;  // To prevent multiple clicks.\n",
              "      quickchartButtonEl.classList.add('colab-df-spinner');\n",
              "      try {\n",
              "        const charts = await google.colab.kernel.invokeFunction(\n",
              "            'suggestCharts', [key], {});\n",
              "      } catch (error) {\n",
              "        console.error('Error during call to suggestCharts:', error);\n",
              "      }\n",
              "      quickchartButtonEl.classList.remove('colab-df-spinner');\n",
              "      quickchartButtonEl.classList.add('colab-df-quickchart-complete');\n",
              "    }\n",
              "    (() => {\n",
              "      let quickchartButtonEl =\n",
              "        document.querySelector('#df-773aedc3-e722-4198-835d-897932c3b370 button');\n",
              "      quickchartButtonEl.style.display =\n",
              "        google.colab.kernel.accessAllowed ? 'block' : 'none';\n",
              "    })();\n",
              "  </script>\n",
              "</div>\n",
              "\n",
              "    </div>\n",
              "  </div>\n"
            ],
            "application/vnd.google.colaboratory.intrinsic+json": {
              "type": "dataframe",
              "summary": "{\n  \"name\": \"pd\",\n  \"rows\": 5,\n  \"fields\": [\n    {\n      \"column\": \"LASSO REGRESSION\",\n      \"properties\": {\n        \"dtype\": \"number\",\n        \"std\": 0.6657720110767786,\n        \"min\": 0.004717836899562622,\n        \"max\": 1.6253824107512873,\n        \"num_unique_values\": 5,\n        \"samples\": [\n          0.09824620944864251,\n          0.3134425137862484,\n          0.22442655497273828\n        ],\n        \"semantic_type\": \"\",\n        \"description\": \"\"\n      }\n    },\n    {\n      \"column\": \"RIDGE REGRESSION\",\n      \"properties\": {\n        \"dtype\": \"number\",\n        \"std\": 0.35059501981023333,\n        \"min\": 0.0507536222491482,\n        \"max\": 0.926088433034143,\n        \"num_unique_values\": 5,\n        \"samples\": [\n          0.0507536222491482,\n          0.22528564590126066,\n          0.15514426613905477\n        ],\n        \"semantic_type\": \"\",\n        \"description\": \"\"\n      }\n    },\n    {\n      \"column\": \"LINEAR REGRESSION\",\n      \"properties\": {\n        \"dtype\": \"number\",\n        \"std\": 0.3506551401470113,\n        \"min\": 0.050751624244655937,\n        \"max\": 0.9262353292941138,\n        \"num_unique_values\": 5,\n        \"samples\": [\n          0.050751624244655937,\n          0.22528121147724667,\n          0.15514999233356433\n        ],\n        \"semantic_type\": \"\",\n        \"description\": \"\"\n      }\n    },\n    {\n      \"column\": \"RANDOM FOREST REGRESSION\",\n      \"properties\": {\n        \"dtype\": \"number\",\n        \"std\": 0.31319623296807153,\n        \"min\": 0.024868409228703578,\n        \"max\": 0.7480708490544927,\n        \"num_unique_values\": 5,\n        \"samples\": [\n          0.024868409228703578,\n          0.15769720742201992,\n          0.10262902182201257\n        ],\n        \"semantic_type\": \"\",\n        \"description\": \"\"\n      }\n    }\n  ]\n}"
            }
          },
          "metadata": {},
          "execution_count": 68
        }
      ],
      "source": [
        "pd.DataFrame(concat_data, index  = [\"MAPE\", \"MEAN SQUARED ERROR\", \"MEAN ABSOLUTE ERROR\", \"R-SQUARED ERROR\",\"ROOT MEAN SQUARED ERROR\"], columns  = [\"LASSO REGRESSION\",\"RIDGE REGRESSION\", \"LINEAR REGRESSION\", \"RANDOM FOREST REGRESSION\"])"
      ]
    },
    {
      "cell_type": "code",
      "execution_count": null,
      "id": "26a4cfaa-cc1c-406e-a8e4-bb965eb3d48d",
      "metadata": {
        "colab": {
          "base_uri": "https://localhost:8080/",
          "height": 175
        },
        "id": "26a4cfaa-cc1c-406e-a8e4-bb965eb3d48d",
        "outputId": "bdc477bc-8bf5-4860-b07c-7ae621631efa"
      },
      "outputs": [
        {
          "output_type": "execute_result",
          "data": {
            "text/plain": [
              "                              MAPE  MEAN SQUARED ERROR  MEAN ABSOLUTE ERROR  \\\n",
              "LASSO REGRESSION          1.625382            0.098246             0.224427   \n",
              "RIDGE REGRESSION          0.926088            0.050754             0.155144   \n",
              "LINEAR REGRESSION         0.926235            0.050752             0.155150   \n",
              "RANDOM FOREST REGRESSION  0.540379            0.024868             0.102629   \n",
              "\n",
              "                          R-SQUARED ERROR  ROOT MEAN SQUARED ERROR  \n",
              "LASSO REGRESSION                 0.004718                 0.313443  \n",
              "RIDGE REGRESSION                 0.485841                 0.225286  \n",
              "LINEAR REGRESSION                0.485861                 0.225281  \n",
              "RANDOM FOREST REGRESSION         0.748071                 0.157697  "
            ],
            "text/html": [
              "\n",
              "  <div id=\"df-d2082842-c8ec-421f-93e8-0d191f3c515c\" class=\"colab-df-container\">\n",
              "    <div>\n",
              "<style scoped>\n",
              "    .dataframe tbody tr th:only-of-type {\n",
              "        vertical-align: middle;\n",
              "    }\n",
              "\n",
              "    .dataframe tbody tr th {\n",
              "        vertical-align: top;\n",
              "    }\n",
              "\n",
              "    .dataframe thead th {\n",
              "        text-align: right;\n",
              "    }\n",
              "</style>\n",
              "<table border=\"1\" class=\"dataframe\">\n",
              "  <thead>\n",
              "    <tr style=\"text-align: right;\">\n",
              "      <th></th>\n",
              "      <th>MAPE</th>\n",
              "      <th>MEAN SQUARED ERROR</th>\n",
              "      <th>MEAN ABSOLUTE ERROR</th>\n",
              "      <th>R-SQUARED ERROR</th>\n",
              "      <th>ROOT MEAN SQUARED ERROR</th>\n",
              "    </tr>\n",
              "  </thead>\n",
              "  <tbody>\n",
              "    <tr>\n",
              "      <th>LASSO REGRESSION</th>\n",
              "      <td>1.625382</td>\n",
              "      <td>0.098246</td>\n",
              "      <td>0.224427</td>\n",
              "      <td>0.004718</td>\n",
              "      <td>0.313443</td>\n",
              "    </tr>\n",
              "    <tr>\n",
              "      <th>RIDGE REGRESSION</th>\n",
              "      <td>0.926088</td>\n",
              "      <td>0.050754</td>\n",
              "      <td>0.155144</td>\n",
              "      <td>0.485841</td>\n",
              "      <td>0.225286</td>\n",
              "    </tr>\n",
              "    <tr>\n",
              "      <th>LINEAR REGRESSION</th>\n",
              "      <td>0.926235</td>\n",
              "      <td>0.050752</td>\n",
              "      <td>0.155150</td>\n",
              "      <td>0.485861</td>\n",
              "      <td>0.225281</td>\n",
              "    </tr>\n",
              "    <tr>\n",
              "      <th>RANDOM FOREST REGRESSION</th>\n",
              "      <td>0.540379</td>\n",
              "      <td>0.024868</td>\n",
              "      <td>0.102629</td>\n",
              "      <td>0.748071</td>\n",
              "      <td>0.157697</td>\n",
              "    </tr>\n",
              "  </tbody>\n",
              "</table>\n",
              "</div>\n",
              "    <div class=\"colab-df-buttons\">\n",
              "\n",
              "  <div class=\"colab-df-container\">\n",
              "    <button class=\"colab-df-convert\" onclick=\"convertToInteractive('df-d2082842-c8ec-421f-93e8-0d191f3c515c')\"\n",
              "            title=\"Convert this dataframe to an interactive table.\"\n",
              "            style=\"display:none;\">\n",
              "\n",
              "  <svg xmlns=\"http://www.w3.org/2000/svg\" height=\"24px\" viewBox=\"0 -960 960 960\">\n",
              "    <path d=\"M120-120v-720h720v720H120Zm60-500h600v-160H180v160Zm220 220h160v-160H400v160Zm0 220h160v-160H400v160ZM180-400h160v-160H180v160Zm440 0h160v-160H620v160ZM180-180h160v-160H180v160Zm440 0h160v-160H620v160Z\"/>\n",
              "  </svg>\n",
              "    </button>\n",
              "\n",
              "  <style>\n",
              "    .colab-df-container {\n",
              "      display:flex;\n",
              "      gap: 12px;\n",
              "    }\n",
              "\n",
              "    .colab-df-convert {\n",
              "      background-color: #E8F0FE;\n",
              "      border: none;\n",
              "      border-radius: 50%;\n",
              "      cursor: pointer;\n",
              "      display: none;\n",
              "      fill: #1967D2;\n",
              "      height: 32px;\n",
              "      padding: 0 0 0 0;\n",
              "      width: 32px;\n",
              "    }\n",
              "\n",
              "    .colab-df-convert:hover {\n",
              "      background-color: #E2EBFA;\n",
              "      box-shadow: 0px 1px 2px rgba(60, 64, 67, 0.3), 0px 1px 3px 1px rgba(60, 64, 67, 0.15);\n",
              "      fill: #174EA6;\n",
              "    }\n",
              "\n",
              "    .colab-df-buttons div {\n",
              "      margin-bottom: 4px;\n",
              "    }\n",
              "\n",
              "    [theme=dark] .colab-df-convert {\n",
              "      background-color: #3B4455;\n",
              "      fill: #D2E3FC;\n",
              "    }\n",
              "\n",
              "    [theme=dark] .colab-df-convert:hover {\n",
              "      background-color: #434B5C;\n",
              "      box-shadow: 0px 1px 3px 1px rgba(0, 0, 0, 0.15);\n",
              "      filter: drop-shadow(0px 1px 2px rgba(0, 0, 0, 0.3));\n",
              "      fill: #FFFFFF;\n",
              "    }\n",
              "  </style>\n",
              "\n",
              "    <script>\n",
              "      const buttonEl =\n",
              "        document.querySelector('#df-d2082842-c8ec-421f-93e8-0d191f3c515c button.colab-df-convert');\n",
              "      buttonEl.style.display =\n",
              "        google.colab.kernel.accessAllowed ? 'block' : 'none';\n",
              "\n",
              "      async function convertToInteractive(key) {\n",
              "        const element = document.querySelector('#df-d2082842-c8ec-421f-93e8-0d191f3c515c');\n",
              "        const dataTable =\n",
              "          await google.colab.kernel.invokeFunction('convertToInteractive',\n",
              "                                                    [key], {});\n",
              "        if (!dataTable) return;\n",
              "\n",
              "        const docLinkHtml = 'Like what you see? Visit the ' +\n",
              "          '<a target=\"_blank\" href=https://colab.research.google.com/notebooks/data_table.ipynb>data table notebook</a>'\n",
              "          + ' to learn more about interactive tables.';\n",
              "        element.innerHTML = '';\n",
              "        dataTable['output_type'] = 'display_data';\n",
              "        await google.colab.output.renderOutput(dataTable, element);\n",
              "        const docLink = document.createElement('div');\n",
              "        docLink.innerHTML = docLinkHtml;\n",
              "        element.appendChild(docLink);\n",
              "      }\n",
              "    </script>\n",
              "  </div>\n",
              "\n",
              "\n",
              "<div id=\"df-311459ff-9529-47c7-9e73-bf2b18f01554\">\n",
              "  <button class=\"colab-df-quickchart\" onclick=\"quickchart('df-311459ff-9529-47c7-9e73-bf2b18f01554')\"\n",
              "            title=\"Suggest charts\"\n",
              "            style=\"display:none;\">\n",
              "\n",
              "<svg xmlns=\"http://www.w3.org/2000/svg\" height=\"24px\"viewBox=\"0 0 24 24\"\n",
              "     width=\"24px\">\n",
              "    <g>\n",
              "        <path d=\"M19 3H5c-1.1 0-2 .9-2 2v14c0 1.1.9 2 2 2h14c1.1 0 2-.9 2-2V5c0-1.1-.9-2-2-2zM9 17H7v-7h2v7zm4 0h-2V7h2v10zm4 0h-2v-4h2v4z\"/>\n",
              "    </g>\n",
              "</svg>\n",
              "  </button>\n",
              "\n",
              "<style>\n",
              "  .colab-df-quickchart {\n",
              "      --bg-color: #E8F0FE;\n",
              "      --fill-color: #1967D2;\n",
              "      --hover-bg-color: #E2EBFA;\n",
              "      --hover-fill-color: #174EA6;\n",
              "      --disabled-fill-color: #AAA;\n",
              "      --disabled-bg-color: #DDD;\n",
              "  }\n",
              "\n",
              "  [theme=dark] .colab-df-quickchart {\n",
              "      --bg-color: #3B4455;\n",
              "      --fill-color: #D2E3FC;\n",
              "      --hover-bg-color: #434B5C;\n",
              "      --hover-fill-color: #FFFFFF;\n",
              "      --disabled-bg-color: #3B4455;\n",
              "      --disabled-fill-color: #666;\n",
              "  }\n",
              "\n",
              "  .colab-df-quickchart {\n",
              "    background-color: var(--bg-color);\n",
              "    border: none;\n",
              "    border-radius: 50%;\n",
              "    cursor: pointer;\n",
              "    display: none;\n",
              "    fill: var(--fill-color);\n",
              "    height: 32px;\n",
              "    padding: 0;\n",
              "    width: 32px;\n",
              "  }\n",
              "\n",
              "  .colab-df-quickchart:hover {\n",
              "    background-color: var(--hover-bg-color);\n",
              "    box-shadow: 0 1px 2px rgba(60, 64, 67, 0.3), 0 1px 3px 1px rgba(60, 64, 67, 0.15);\n",
              "    fill: var(--button-hover-fill-color);\n",
              "  }\n",
              "\n",
              "  .colab-df-quickchart-complete:disabled,\n",
              "  .colab-df-quickchart-complete:disabled:hover {\n",
              "    background-color: var(--disabled-bg-color);\n",
              "    fill: var(--disabled-fill-color);\n",
              "    box-shadow: none;\n",
              "  }\n",
              "\n",
              "  .colab-df-spinner {\n",
              "    border: 2px solid var(--fill-color);\n",
              "    border-color: transparent;\n",
              "    border-bottom-color: var(--fill-color);\n",
              "    animation:\n",
              "      spin 1s steps(1) infinite;\n",
              "  }\n",
              "\n",
              "  @keyframes spin {\n",
              "    0% {\n",
              "      border-color: transparent;\n",
              "      border-bottom-color: var(--fill-color);\n",
              "      border-left-color: var(--fill-color);\n",
              "    }\n",
              "    20% {\n",
              "      border-color: transparent;\n",
              "      border-left-color: var(--fill-color);\n",
              "      border-top-color: var(--fill-color);\n",
              "    }\n",
              "    30% {\n",
              "      border-color: transparent;\n",
              "      border-left-color: var(--fill-color);\n",
              "      border-top-color: var(--fill-color);\n",
              "      border-right-color: var(--fill-color);\n",
              "    }\n",
              "    40% {\n",
              "      border-color: transparent;\n",
              "      border-right-color: var(--fill-color);\n",
              "      border-top-color: var(--fill-color);\n",
              "    }\n",
              "    60% {\n",
              "      border-color: transparent;\n",
              "      border-right-color: var(--fill-color);\n",
              "    }\n",
              "    80% {\n",
              "      border-color: transparent;\n",
              "      border-right-color: var(--fill-color);\n",
              "      border-bottom-color: var(--fill-color);\n",
              "    }\n",
              "    90% {\n",
              "      border-color: transparent;\n",
              "      border-bottom-color: var(--fill-color);\n",
              "    }\n",
              "  }\n",
              "</style>\n",
              "\n",
              "  <script>\n",
              "    async function quickchart(key) {\n",
              "      const quickchartButtonEl =\n",
              "        document.querySelector('#' + key + ' button');\n",
              "      quickchartButtonEl.disabled = true;  // To prevent multiple clicks.\n",
              "      quickchartButtonEl.classList.add('colab-df-spinner');\n",
              "      try {\n",
              "        const charts = await google.colab.kernel.invokeFunction(\n",
              "            'suggestCharts', [key], {});\n",
              "      } catch (error) {\n",
              "        console.error('Error during call to suggestCharts:', error);\n",
              "      }\n",
              "      quickchartButtonEl.classList.remove('colab-df-spinner');\n",
              "      quickchartButtonEl.classList.add('colab-df-quickchart-complete');\n",
              "    }\n",
              "    (() => {\n",
              "      let quickchartButtonEl =\n",
              "        document.querySelector('#df-311459ff-9529-47c7-9e73-bf2b18f01554 button');\n",
              "      quickchartButtonEl.style.display =\n",
              "        google.colab.kernel.accessAllowed ? 'block' : 'none';\n",
              "    })();\n",
              "  </script>\n",
              "</div>\n",
              "\n",
              "    </div>\n",
              "  </div>\n"
            ],
            "application/vnd.google.colaboratory.intrinsic+json": {
              "type": "dataframe",
              "summary": "{\n  \"name\": \"concat_data\",\n  \"rows\": 4,\n  \"fields\": [\n    {\n      \"column\": \"MAPE\",\n      \"properties\": {\n        \"dtype\": \"number\",\n        \"std\": 0.45209778414455976,\n        \"min\": 0.540378765198339,\n        \"max\": 1.6253824107512873,\n        \"num_unique_values\": 4,\n        \"samples\": [\n          0.926088433034143,\n          0.540378765198339,\n          1.6253824107512873\n        ],\n        \"semantic_type\": \"\",\n        \"description\": \"\"\n      }\n    },\n    {\n      \"column\": \"MEAN SQUARED ERROR\",\n      \"properties\": {\n        \"dtype\": \"number\",\n        \"std\": 0.030598976159867154,\n        \"min\": 0.024868409228703578,\n        \"max\": 0.09824620944864251,\n        \"num_unique_values\": 4,\n        \"samples\": [\n          0.0507536222491482,\n          0.024868409228703578,\n          0.09824620944864251\n        ],\n        \"semantic_type\": \"\",\n        \"description\": \"\"\n      }\n    },\n    {\n      \"column\": \"MEAN ABSOLUTE ERROR\",\n      \"properties\": {\n        \"dtype\": \"number\",\n        \"std\": 0.049958499460951496,\n        \"min\": 0.10262902182201257,\n        \"max\": 0.22442655497273828,\n        \"num_unique_values\": 4,\n        \"samples\": [\n          0.15514426613905477,\n          0.10262902182201257,\n          0.22442655497273828\n        ],\n        \"semantic_type\": \"\",\n        \"description\": \"\"\n      }\n    },\n    {\n      \"column\": \"R-SQUARED ERROR\",\n      \"properties\": {\n        \"dtype\": \"number\",\n        \"std\": 0.3099825973130416,\n        \"min\": 0.004717836899562622,\n        \"max\": 0.7480708490544927,\n        \"num_unique_values\": 4,\n        \"samples\": [\n          0.48584097828506434,\n          0.7480708490544927,\n          0.004717836899562622\n        ],\n        \"semantic_type\": \"\",\n        \"description\": \"\"\n      }\n    },\n    {\n      \"column\": \"ROOT MEAN SQUARED ERROR\",\n      \"properties\": {\n        \"dtype\": \"number\",\n        \"std\": 0.06385950965104367,\n        \"min\": 0.15769720742201992,\n        \"max\": 0.3134425137862484,\n        \"num_unique_values\": 4,\n        \"samples\": [\n          0.22528564590126066,\n          0.15769720742201992,\n          0.3134425137862484\n        ],\n        \"semantic_type\": \"\",\n        \"description\": \"\"\n      }\n    }\n  ]\n}"
            }
          },
          "metadata": {},
          "execution_count": 69
        }
      ],
      "source": [
        "concat_data.transpose()"
      ]
    },
    {
      "cell_type": "markdown",
      "id": "3bff14eb-df3d-432c-acc4-885b8066b697",
      "metadata": {
        "id": "3bff14eb-df3d-432c-acc4-885b8066b697"
      },
      "source": [
        "### NEURAL NETWORK"
      ]
    },
    {
      "cell_type": "code",
      "execution_count": null,
      "id": "d682e7a6-0060-434b-a683-ead9a855b281",
      "metadata": {
        "id": "d682e7a6-0060-434b-a683-ead9a855b281"
      },
      "outputs": [],
      "source": [
        "from sklearn.preprocessing import StandardScaler\n",
        "from tensorflow import keras\n"
      ]
    },
    {
      "cell_type": "code",
      "execution_count": null,
      "id": "27a18352-da28-463e-8d64-cb4ed7f7bfc3",
      "metadata": {
        "id": "27a18352-da28-463e-8d64-cb4ed7f7bfc3"
      },
      "outputs": [],
      "source": [
        "X_train, X_test, y_train, y_test = train_test_split(X, y, test_size=0.2, random_state=42)"
      ]
    },
    {
      "cell_type": "code",
      "execution_count": null,
      "id": "e04fe4a4-5281-4116-8c81-fbc47ff32c18",
      "metadata": {
        "id": "e04fe4a4-5281-4116-8c81-fbc47ff32c18"
      },
      "outputs": [],
      "source": [
        "scaler = StandardScaler()"
      ]
    },
    {
      "cell_type": "code",
      "execution_count": null,
      "id": "e3af2f4f-3f3d-4130-a7ea-4b71e2a81940",
      "metadata": {
        "id": "e3af2f4f-3f3d-4130-a7ea-4b71e2a81940"
      },
      "outputs": [],
      "source": [
        "X_train_scaled = scaler.fit_transform(X_train)\n",
        "X_test_scaled = scaler.transform(X_test)"
      ]
    },
    {
      "cell_type": "code",
      "execution_count": null,
      "id": "21a5eee3-1f02-456b-969b-27559ceac426",
      "metadata": {
        "id": "21a5eee3-1f02-456b-969b-27559ceac426"
      },
      "outputs": [],
      "source": [
        "nn_model = keras.Sequential([\n",
        "    keras.layers.Dense(64, activation='relu', input_shape=(X_train_scaled.shape[1],)),\n",
        "    keras.layers.Dense(64, activation='relu'),\n",
        "    keras.layers.Dense(1)  # Output layer with one neuron for regression\n",
        "])"
      ]
    },
    {
      "cell_type": "code",
      "execution_count": null,
      "id": "22f507b8-6848-472c-ad4c-474175a3807e",
      "metadata": {
        "colab": {
          "base_uri": "https://localhost:8080/"
        },
        "id": "22f507b8-6848-472c-ad4c-474175a3807e",
        "outputId": "cb2efc24-9dea-4610-bc49-07405aa8352b"
      },
      "outputs": [
        {
          "output_type": "stream",
          "name": "stdout",
          "text": [
            "Epoch 1/50\n",
            "191/191 - 1s - loss: 0.0550 - mae: 0.1363 - val_loss: 0.0509 - val_mae: 0.1262 - 1s/epoch - 6ms/step\n",
            "Epoch 2/50\n",
            "191/191 - 0s - loss: 0.0443 - mae: 0.1134 - val_loss: 0.0491 - val_mae: 0.1105 - 427ms/epoch - 2ms/step\n",
            "Epoch 3/50\n",
            "191/191 - 1s - loss: 0.0418 - mae: 0.1082 - val_loss: 0.0478 - val_mae: 0.1221 - 578ms/epoch - 3ms/step\n",
            "Epoch 4/50\n",
            "191/191 - 1s - loss: 0.0403 - mae: 0.1074 - val_loss: 0.0447 - val_mae: 0.1171 - 566ms/epoch - 3ms/step\n",
            "Epoch 5/50\n",
            "191/191 - 1s - loss: 0.0386 - mae: 0.1050 - val_loss: 0.0447 - val_mae: 0.1031 - 595ms/epoch - 3ms/step\n",
            "Epoch 6/50\n",
            "191/191 - 0s - loss: 0.0373 - mae: 0.1030 - val_loss: 0.0445 - val_mae: 0.1070 - 488ms/epoch - 3ms/step\n",
            "Epoch 7/50\n",
            "191/191 - 1s - loss: 0.0364 - mae: 0.1024 - val_loss: 0.0411 - val_mae: 0.1123 - 584ms/epoch - 3ms/step\n",
            "Epoch 8/50\n",
            "191/191 - 1s - loss: 0.0347 - mae: 0.1008 - val_loss: 0.0390 - val_mae: 0.1106 - 562ms/epoch - 3ms/step\n",
            "Epoch 9/50\n",
            "191/191 - 0s - loss: 0.0330 - mae: 0.0974 - val_loss: 0.0380 - val_mae: 0.1097 - 393ms/epoch - 2ms/step\n",
            "Epoch 10/50\n",
            "191/191 - 0s - loss: 0.0321 - mae: 0.0987 - val_loss: 0.0389 - val_mae: 0.1050 - 343ms/epoch - 2ms/step\n",
            "Epoch 11/50\n",
            "191/191 - 0s - loss: 0.0305 - mae: 0.0930 - val_loss: 0.0367 - val_mae: 0.0937 - 349ms/epoch - 2ms/step\n",
            "Epoch 12/50\n",
            "191/191 - 0s - loss: 0.0295 - mae: 0.0912 - val_loss: 0.0347 - val_mae: 0.1022 - 351ms/epoch - 2ms/step\n",
            "Epoch 13/50\n",
            "191/191 - 0s - loss: 0.0280 - mae: 0.0874 - val_loss: 0.0330 - val_mae: 0.0957 - 339ms/epoch - 2ms/step\n",
            "Epoch 14/50\n",
            "191/191 - 0s - loss: 0.0269 - mae: 0.0857 - val_loss: 0.0345 - val_mae: 0.0877 - 344ms/epoch - 2ms/step\n",
            "Epoch 15/50\n",
            "191/191 - 0s - loss: 0.0261 - mae: 0.0824 - val_loss: 0.0326 - val_mae: 0.0905 - 358ms/epoch - 2ms/step\n",
            "Epoch 16/50\n",
            "191/191 - 0s - loss: 0.0247 - mae: 0.0800 - val_loss: 0.0327 - val_mae: 0.0925 - 344ms/epoch - 2ms/step\n",
            "Epoch 17/50\n",
            "191/191 - 0s - loss: 0.0239 - mae: 0.0796 - val_loss: 0.0290 - val_mae: 0.0867 - 338ms/epoch - 2ms/step\n",
            "Epoch 18/50\n",
            "191/191 - 0s - loss: 0.0235 - mae: 0.0778 - val_loss: 0.0279 - val_mae: 0.0834 - 370ms/epoch - 2ms/step\n",
            "Epoch 19/50\n",
            "191/191 - 0s - loss: 0.0223 - mae: 0.0748 - val_loss: 0.0315 - val_mae: 0.0891 - 337ms/epoch - 2ms/step\n",
            "Epoch 20/50\n",
            "191/191 - 0s - loss: 0.0220 - mae: 0.0740 - val_loss: 0.0285 - val_mae: 0.0798 - 340ms/epoch - 2ms/step\n",
            "Epoch 21/50\n",
            "191/191 - 0s - loss: 0.0211 - mae: 0.0719 - val_loss: 0.0279 - val_mae: 0.0869 - 363ms/epoch - 2ms/step\n",
            "Epoch 22/50\n",
            "191/191 - 0s - loss: 0.0216 - mae: 0.0732 - val_loss: 0.0284 - val_mae: 0.0811 - 353ms/epoch - 2ms/step\n",
            "Epoch 23/50\n",
            "191/191 - 0s - loss: 0.0207 - mae: 0.0708 - val_loss: 0.0278 - val_mae: 0.0818 - 360ms/epoch - 2ms/step\n",
            "Epoch 24/50\n",
            "191/191 - 0s - loss: 0.0200 - mae: 0.0704 - val_loss: 0.0252 - val_mae: 0.0743 - 361ms/epoch - 2ms/step\n",
            "Epoch 25/50\n",
            "191/191 - 0s - loss: 0.0190 - mae: 0.0659 - val_loss: 0.0254 - val_mae: 0.0737 - 356ms/epoch - 2ms/step\n",
            "Epoch 26/50\n",
            "191/191 - 0s - loss: 0.0203 - mae: 0.0683 - val_loss: 0.0269 - val_mae: 0.0771 - 434ms/epoch - 2ms/step\n",
            "Epoch 27/50\n",
            "191/191 - 0s - loss: 0.0186 - mae: 0.0643 - val_loss: 0.0245 - val_mae: 0.0732 - 342ms/epoch - 2ms/step\n",
            "Epoch 28/50\n",
            "191/191 - 0s - loss: 0.0180 - mae: 0.0629 - val_loss: 0.0255 - val_mae: 0.0741 - 351ms/epoch - 2ms/step\n",
            "Epoch 29/50\n",
            "191/191 - 0s - loss: 0.0173 - mae: 0.0609 - val_loss: 0.0267 - val_mae: 0.0767 - 371ms/epoch - 2ms/step\n",
            "Epoch 30/50\n",
            "191/191 - 0s - loss: 0.0176 - mae: 0.0610 - val_loss: 0.0246 - val_mae: 0.0708 - 359ms/epoch - 2ms/step\n",
            "Epoch 31/50\n",
            "191/191 - 0s - loss: 0.0169 - mae: 0.0602 - val_loss: 0.0254 - val_mae: 0.0735 - 368ms/epoch - 2ms/step\n",
            "Epoch 32/50\n",
            "191/191 - 0s - loss: 0.0167 - mae: 0.0588 - val_loss: 0.0258 - val_mae: 0.0766 - 362ms/epoch - 2ms/step\n",
            "Epoch 33/50\n",
            "191/191 - 0s - loss: 0.0166 - mae: 0.0582 - val_loss: 0.0237 - val_mae: 0.0684 - 344ms/epoch - 2ms/step\n",
            "Epoch 34/50\n",
            "191/191 - 0s - loss: 0.0160 - mae: 0.0569 - val_loss: 0.0238 - val_mae: 0.0664 - 344ms/epoch - 2ms/step\n",
            "Epoch 35/50\n",
            "191/191 - 0s - loss: 0.0152 - mae: 0.0550 - val_loss: 0.0255 - val_mae: 0.0697 - 347ms/epoch - 2ms/step\n",
            "Epoch 36/50\n",
            "191/191 - 0s - loss: 0.0150 - mae: 0.0546 - val_loss: 0.0230 - val_mae: 0.0687 - 374ms/epoch - 2ms/step\n",
            "Epoch 37/50\n",
            "191/191 - 1s - loss: 0.0150 - mae: 0.0545 - val_loss: 0.0250 - val_mae: 0.0711 - 538ms/epoch - 3ms/step\n",
            "Epoch 38/50\n",
            "191/191 - 1s - loss: 0.0150 - mae: 0.0541 - val_loss: 0.0230 - val_mae: 0.0661 - 578ms/epoch - 3ms/step\n",
            "Epoch 39/50\n",
            "191/191 - 1s - loss: 0.0147 - mae: 0.0523 - val_loss: 0.0251 - val_mae: 0.0668 - 570ms/epoch - 3ms/step\n",
            "Epoch 40/50\n",
            "191/191 - 0s - loss: 0.0146 - mae: 0.0521 - val_loss: 0.0292 - val_mae: 0.0807 - 485ms/epoch - 3ms/step\n",
            "Epoch 41/50\n",
            "191/191 - 1s - loss: 0.0139 - mae: 0.0504 - val_loss: 0.0228 - val_mae: 0.0623 - 501ms/epoch - 3ms/step\n",
            "Epoch 42/50\n",
            "191/191 - 1s - loss: 0.0140 - mae: 0.0512 - val_loss: 0.0236 - val_mae: 0.0623 - 539ms/epoch - 3ms/step\n",
            "Epoch 43/50\n",
            "191/191 - 0s - loss: 0.0140 - mae: 0.0509 - val_loss: 0.0227 - val_mae: 0.0649 - 480ms/epoch - 3ms/step\n",
            "Epoch 44/50\n",
            "191/191 - 0s - loss: 0.0140 - mae: 0.0495 - val_loss: 0.0242 - val_mae: 0.0620 - 347ms/epoch - 2ms/step\n",
            "Epoch 45/50\n",
            "191/191 - 0s - loss: 0.0134 - mae: 0.0496 - val_loss: 0.0254 - val_mae: 0.0673 - 346ms/epoch - 2ms/step\n",
            "Epoch 46/50\n",
            "191/191 - 0s - loss: 0.0134 - mae: 0.0490 - val_loss: 0.0219 - val_mae: 0.0604 - 371ms/epoch - 2ms/step\n",
            "Epoch 47/50\n",
            "191/191 - 0s - loss: 0.0131 - mae: 0.0480 - val_loss: 0.0229 - val_mae: 0.0598 - 351ms/epoch - 2ms/step\n",
            "Epoch 48/50\n",
            "191/191 - 0s - loss: 0.0128 - mae: 0.0477 - val_loss: 0.0235 - val_mae: 0.0608 - 337ms/epoch - 2ms/step\n",
            "Epoch 49/50\n",
            "191/191 - 0s - loss: 0.0126 - mae: 0.0461 - val_loss: 0.0233 - val_mae: 0.0581 - 357ms/epoch - 2ms/step\n",
            "Epoch 50/50\n",
            "191/191 - 0s - loss: 0.0128 - mae: 0.0467 - val_loss: 0.0221 - val_mae: 0.0591 - 345ms/epoch - 2ms/step\n",
            "60/60 [==============================] - 0s 1ms/step - loss: 0.0271 - mae: 0.0638\n",
            "Test MSE: 0.027093172073364258\n",
            "Test MAE: 0.06379665434360504\n"
          ]
        }
      ],
      "source": [
        "nn_model.compile(optimizer='adam', loss='mean_squared_error', metrics=['mae'])\n",
        "\n",
        "# Train the model\n",
        "history = nn_model.fit(X_train_scaled, y_train, epochs=50, validation_split=0.2, verbose=2)\n",
        "\n",
        "# Evaluate the model\n",
        "test_loss, test_mae = nn_model.evaluate(X_test_scaled, y_test)\n",
        "print(\"Test MSE:\", test_loss)\n",
        "print(\"Test MAE:\", test_mae)"
      ]
    },
    {
      "cell_type": "code",
      "source": [
        "predictions = nn_model.predict(X_test_scaled)"
      ],
      "metadata": {
        "colab": {
          "base_uri": "https://localhost:8080/"
        },
        "id": "_gK20h-Ar7NV",
        "outputId": "6caa65ec-de5b-4829-ec6c-9784c8b9ebd7"
      },
      "id": "_gK20h-Ar7NV",
      "execution_count": null,
      "outputs": [
        {
          "output_type": "stream",
          "name": "stdout",
          "text": [
            "60/60 [==============================] - 0s 2ms/step\n"
          ]
        }
      ]
    },
    {
      "cell_type": "code",
      "execution_count": null,
      "id": "54bced43-167a-4ff8-b3c1-0af8487f040d",
      "metadata": {
        "colab": {
          "base_uri": "https://localhost:8080/"
        },
        "id": "54bced43-167a-4ff8-b3c1-0af8487f040d",
        "outputId": "45ba2d9f-27c7-44c4-a05d-63b4569a4143"
      },
      "outputs": [
        {
          "output_type": "stream",
          "name": "stdout",
          "text": [
            "MAPE:  179977095351246.62\n",
            "Mean Squared Error: 0.027093168623255313\n",
            "Mean Absolute Error: 0.06379666362717783\n",
            "R-squared: 0.4439525029941902\n"
          ]
        }
      ],
      "source": [
        "from sklearn.metrics import mean_squared_error, mean_absolute_error, r2_score\n",
        "\n",
        "# Calculate regression metrics\n",
        "mape = mean_absolute_percentage_error(y_test, predictions)\n",
        "mse = mean_squared_error(y_test, predictions)\n",
        "mae = mean_absolute_error(y_test, predictions)\n",
        "r2 = r2_score(y_test, predictions)\n",
        "\n",
        "# Print the metrics\n",
        "print(\"MAPE: \", mape)\n",
        "print(\"Mean Squared Error:\", mse)\n",
        "print(\"Mean Absolute Error:\", mae)\n",
        "print(\"R-squared:\", r2)\n"
      ]
    },
    {
      "cell_type": "code",
      "execution_count": null,
      "id": "67100eba-bff2-491f-bbcb-b79a2c981489",
      "metadata": {
        "id": "67100eba-bff2-491f-bbcb-b79a2c981489",
        "colab": {
          "base_uri": "https://localhost:8080/"
        },
        "outputId": "b3c8c9e5-df2c-4c35-cddb-0d9f71e23205"
      },
      "outputs": [
        {
          "output_type": "stream",
          "name": "stdout",
          "text": [
            "101/101 [==============================] - 0s 4ms/step\n"
          ]
        }
      ],
      "source": [
        "nn_pred_test = nn_model.predict(scaler.transform(wrangle2('/content/drive/MyDrive/test.csv')))\n",
        "pd.DataFrame(nn_pred_test).to_csv('nn_submission.csv', index = 1)"
      ]
    },
    {
      "cell_type": "code",
      "execution_count": null,
      "id": "54a10548-cc39-4601-aaf5-549d224dd805",
      "metadata": {
        "id": "54a10548-cc39-4601-aaf5-549d224dd805"
      },
      "outputs": [],
      "source": []
    },
    {
      "cell_type": "code",
      "execution_count": null,
      "id": "54293e04-42bd-4061-858e-101755e1cb95",
      "metadata": {
        "id": "54293e04-42bd-4061-858e-101755e1cb95"
      },
      "outputs": [],
      "source": []
    },
    {
      "cell_type": "markdown",
      "id": "08980c0a-4c6e-4230-83bc-0a63a17b4863",
      "metadata": {
        "id": "08980c0a-4c6e-4230-83bc-0a63a17b4863"
      },
      "source": [
        "Random Forest Regressor"
      ]
    },
    {
      "cell_type": "code",
      "execution_count": null,
      "id": "XVTZjxlxUaea",
      "metadata": {
        "id": "XVTZjxlxUaea",
        "colab": {
          "base_uri": "https://localhost:8080/"
        },
        "outputId": "d6f82a02-f390-4372-af7b-e7b3409c244d"
      },
      "outputs": [
        {
          "output_type": "stream",
          "name": "stdout",
          "text": [
            "Random Forest Regression Metrics:\n",
            "MAPE:  0.5359043016141007\n",
            "Mean Squared Error: 0.024829199860761066\n",
            "Mean Absolute Error: 0.10203001234770442\n",
            "R-squared: 0.7484680591327099\n"
          ]
        }
      ],
      "source": [
        "from sklearn.ensemble import RandomForestRegressor\n",
        "from sklearn.metrics import mean_squared_error, mean_absolute_error, r2_score\n",
        "\n",
        "# Create a Random Forest Regressor model\n",
        "rf_model = RandomForestRegressor(n_estimators=100, random_state=42)\n",
        "\n",
        "# Train the model\n",
        "rf_model.fit(X_train_scaled, y_train)\n",
        "\n",
        "# Make predictions\n",
        "rf_predictions = rf_model.predict(X_test_scaled)\n",
        "\n",
        "# Evaluate the model\n",
        "mape = mean_absolute_percentage_error(y_test, rf_predictions)\n",
        "mse = mean_squared_error(y_test, rf_predictions)\n",
        "mae = mean_absolute_error(y_test, rf_predictions)\n",
        "r2 = r2_score(y_test, rf_predictions)\n",
        "\n",
        "# Print the evaluation metrics\n",
        "print(\"Random Forest Regression Metrics:\")\n",
        "print(\"MAPE: \", mape)\n",
        "print(\"Mean Squared Error:\", mse)\n",
        "print(\"Mean Absolute Error:\", mae)\n",
        "print(\"R-squared:\", r2)\n"
      ]
    }
  ],
  "metadata": {
    "colab": {
      "provenance": []
    },
    "kernelspec": {
      "display_name": "Python 3",
      "language": "python",
      "name": "python3"
    },
    "language_info": {
      "codemirror_mode": {
        "name": "ipython",
        "version": 3
      },
      "file_extension": ".py",
      "mimetype": "text/x-python",
      "name": "python",
      "nbconvert_exporter": "python",
      "pygments_lexer": "ipython3",
      "version": "3.8.8"
    }
  },
  "nbformat": 4,
  "nbformat_minor": 5
}